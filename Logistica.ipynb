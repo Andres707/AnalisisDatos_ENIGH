{
 "cells": [
  {
   "cell_type": "markdown",
   "source": [
    "# RE"
   ],
   "metadata": {
    "collapsed": false
   }
  },
  {
   "cell_type": "code",
   "execution_count": 50,
   "outputs": [],
   "source": [
    "import pandas as pd\n",
    "import matplotlib.pyplot as plt\n",
    "import numpy as np\n",
    "import seaborn as sns\n",
    "from scipy.stats import norm\n",
    "from sklearn.preprocessing import StandardScaler\n",
    "from scipy import stats\n",
    "import warnings\n",
    "warnings.filterwarnings('ignore')\n",
    "%matplotlib inline"
   ],
   "metadata": {
    "collapsed": false,
    "pycharm": {
     "name": "#%%\n",
     "is_executing": false
    }
   }
  },
  {
   "cell_type": "code",
   "execution_count": 51,
   "outputs": [
    {
     "data": {
      "text/plain": "         folioviv tipo_viv  mat_pared  mat_techos mat_pisos  antiguedad  \\\n0       100298502        1          8          10         3          40   \n1       100298504        1          8          10         3           9   \n2       100298506        1          8          10         3           5   \n3       100318603        1          8          10         3          25   \n4       100318605        1          8          10         3          35   \n...           ...      ...        ...         ...       ...         ...   \n69164  3260583804        1          7          10         2          30   \n69165  3260583805        1          1           3         2          11   \n69166  3260583806        1          7           3         2          41   \n69167  3260583907        1          7           3         2          20   \n69168  3260583908        1          7          10         2          10   \n\n       antigua_ne  cocina  cocina_dor  cuart_dorm  ...  tot_hom  tot_muj  \\\n0             NaN       1         2.0           5  ...        2        2   \n1             NaN       1         2.0           3  ...        1        2   \n2             NaN       1         2.0           4  ...        2        1   \n3             NaN       1         2.0           5  ...        3        3   \n4             NaN       1         2.0           3  ...        2        2   \n...           ...     ...         ...         ...  ...      ...      ...   \n69164         NaN       1         2.0           3  ...        2        1   \n69165         NaN       1         2.0           3  ...        3        2   \n69166         NaN       1         2.0           2  ...        1        6   \n69167         NaN       1         2.0           2  ...        2        3   \n69168         NaN       1         2.0           1  ...        1        1   \n\n       tot_hog  ubica_geo   ageb  tam_loc  est_socio  est_dis    upm  factor  \n0            1   10010000  000-0        1          4        3    320     212  \n1            1   10010000  000-0        1          4        3    320     212  \n2            1   10010000  000-0        1          4        3    320     212  \n3            2   10010000  000-0        1          4        3    330     237  \n4            1   10010000  000-0        1          4        3    330     237  \n...        ...        ...    ...      ...        ...      ...    ...     ...  \n69164        1  320420000  000-0        4          2      536  78870     194  \n69165        1  320420000  000-0        4          2      536  78870     194  \n69166        1  320420000  000-0        4          2      536  78870     194  \n69167        1  320420000  000-0        4          2      536  78870     194  \n69168        1  320420000  000-0        4          2      536  78870     194  \n\n[69169 rows x 64 columns]",
      "text/html": "<div>\n<style scoped>\n    .dataframe tbody tr th:only-of-type {\n        vertical-align: middle;\n    }\n\n    .dataframe tbody tr th {\n        vertical-align: top;\n    }\n\n    .dataframe thead th {\n        text-align: right;\n    }\n</style>\n<table border=\"1\" class=\"dataframe\">\n  <thead>\n    <tr style=\"text-align: right;\">\n      <th></th>\n      <th>folioviv</th>\n      <th>tipo_viv</th>\n      <th>mat_pared</th>\n      <th>mat_techos</th>\n      <th>mat_pisos</th>\n      <th>antiguedad</th>\n      <th>antigua_ne</th>\n      <th>cocina</th>\n      <th>cocina_dor</th>\n      <th>cuart_dorm</th>\n      <th>...</th>\n      <th>tot_hom</th>\n      <th>tot_muj</th>\n      <th>tot_hog</th>\n      <th>ubica_geo</th>\n      <th>ageb</th>\n      <th>tam_loc</th>\n      <th>est_socio</th>\n      <th>est_dis</th>\n      <th>upm</th>\n      <th>factor</th>\n    </tr>\n  </thead>\n  <tbody>\n    <tr>\n      <th>0</th>\n      <td>100298502</td>\n      <td>1</td>\n      <td>8</td>\n      <td>10</td>\n      <td>3</td>\n      <td>40</td>\n      <td>NaN</td>\n      <td>1</td>\n      <td>2.0</td>\n      <td>5</td>\n      <td>...</td>\n      <td>2</td>\n      <td>2</td>\n      <td>1</td>\n      <td>10010000</td>\n      <td>000-0</td>\n      <td>1</td>\n      <td>4</td>\n      <td>3</td>\n      <td>320</td>\n      <td>212</td>\n    </tr>\n    <tr>\n      <th>1</th>\n      <td>100298504</td>\n      <td>1</td>\n      <td>8</td>\n      <td>10</td>\n      <td>3</td>\n      <td>9</td>\n      <td>NaN</td>\n      <td>1</td>\n      <td>2.0</td>\n      <td>3</td>\n      <td>...</td>\n      <td>1</td>\n      <td>2</td>\n      <td>1</td>\n      <td>10010000</td>\n      <td>000-0</td>\n      <td>1</td>\n      <td>4</td>\n      <td>3</td>\n      <td>320</td>\n      <td>212</td>\n    </tr>\n    <tr>\n      <th>2</th>\n      <td>100298506</td>\n      <td>1</td>\n      <td>8</td>\n      <td>10</td>\n      <td>3</td>\n      <td>5</td>\n      <td>NaN</td>\n      <td>1</td>\n      <td>2.0</td>\n      <td>4</td>\n      <td>...</td>\n      <td>2</td>\n      <td>1</td>\n      <td>1</td>\n      <td>10010000</td>\n      <td>000-0</td>\n      <td>1</td>\n      <td>4</td>\n      <td>3</td>\n      <td>320</td>\n      <td>212</td>\n    </tr>\n    <tr>\n      <th>3</th>\n      <td>100318603</td>\n      <td>1</td>\n      <td>8</td>\n      <td>10</td>\n      <td>3</td>\n      <td>25</td>\n      <td>NaN</td>\n      <td>1</td>\n      <td>2.0</td>\n      <td>5</td>\n      <td>...</td>\n      <td>3</td>\n      <td>3</td>\n      <td>2</td>\n      <td>10010000</td>\n      <td>000-0</td>\n      <td>1</td>\n      <td>4</td>\n      <td>3</td>\n      <td>330</td>\n      <td>237</td>\n    </tr>\n    <tr>\n      <th>4</th>\n      <td>100318605</td>\n      <td>1</td>\n      <td>8</td>\n      <td>10</td>\n      <td>3</td>\n      <td>35</td>\n      <td>NaN</td>\n      <td>1</td>\n      <td>2.0</td>\n      <td>3</td>\n      <td>...</td>\n      <td>2</td>\n      <td>2</td>\n      <td>1</td>\n      <td>10010000</td>\n      <td>000-0</td>\n      <td>1</td>\n      <td>4</td>\n      <td>3</td>\n      <td>330</td>\n      <td>237</td>\n    </tr>\n    <tr>\n      <th>...</th>\n      <td>...</td>\n      <td>...</td>\n      <td>...</td>\n      <td>...</td>\n      <td>...</td>\n      <td>...</td>\n      <td>...</td>\n      <td>...</td>\n      <td>...</td>\n      <td>...</td>\n      <td>...</td>\n      <td>...</td>\n      <td>...</td>\n      <td>...</td>\n      <td>...</td>\n      <td>...</td>\n      <td>...</td>\n      <td>...</td>\n      <td>...</td>\n      <td>...</td>\n      <td>...</td>\n    </tr>\n    <tr>\n      <th>69164</th>\n      <td>3260583804</td>\n      <td>1</td>\n      <td>7</td>\n      <td>10</td>\n      <td>2</td>\n      <td>30</td>\n      <td>NaN</td>\n      <td>1</td>\n      <td>2.0</td>\n      <td>3</td>\n      <td>...</td>\n      <td>2</td>\n      <td>1</td>\n      <td>1</td>\n      <td>320420000</td>\n      <td>000-0</td>\n      <td>4</td>\n      <td>2</td>\n      <td>536</td>\n      <td>78870</td>\n      <td>194</td>\n    </tr>\n    <tr>\n      <th>69165</th>\n      <td>3260583805</td>\n      <td>1</td>\n      <td>1</td>\n      <td>3</td>\n      <td>2</td>\n      <td>11</td>\n      <td>NaN</td>\n      <td>1</td>\n      <td>2.0</td>\n      <td>3</td>\n      <td>...</td>\n      <td>3</td>\n      <td>2</td>\n      <td>1</td>\n      <td>320420000</td>\n      <td>000-0</td>\n      <td>4</td>\n      <td>2</td>\n      <td>536</td>\n      <td>78870</td>\n      <td>194</td>\n    </tr>\n    <tr>\n      <th>69166</th>\n      <td>3260583806</td>\n      <td>1</td>\n      <td>7</td>\n      <td>3</td>\n      <td>2</td>\n      <td>41</td>\n      <td>NaN</td>\n      <td>1</td>\n      <td>2.0</td>\n      <td>2</td>\n      <td>...</td>\n      <td>1</td>\n      <td>6</td>\n      <td>1</td>\n      <td>320420000</td>\n      <td>000-0</td>\n      <td>4</td>\n      <td>2</td>\n      <td>536</td>\n      <td>78870</td>\n      <td>194</td>\n    </tr>\n    <tr>\n      <th>69167</th>\n      <td>3260583907</td>\n      <td>1</td>\n      <td>7</td>\n      <td>3</td>\n      <td>2</td>\n      <td>20</td>\n      <td>NaN</td>\n      <td>1</td>\n      <td>2.0</td>\n      <td>2</td>\n      <td>...</td>\n      <td>2</td>\n      <td>3</td>\n      <td>1</td>\n      <td>320420000</td>\n      <td>000-0</td>\n      <td>4</td>\n      <td>2</td>\n      <td>536</td>\n      <td>78870</td>\n      <td>194</td>\n    </tr>\n    <tr>\n      <th>69168</th>\n      <td>3260583908</td>\n      <td>1</td>\n      <td>7</td>\n      <td>10</td>\n      <td>2</td>\n      <td>10</td>\n      <td>NaN</td>\n      <td>1</td>\n      <td>2.0</td>\n      <td>1</td>\n      <td>...</td>\n      <td>1</td>\n      <td>1</td>\n      <td>1</td>\n      <td>320420000</td>\n      <td>000-0</td>\n      <td>4</td>\n      <td>2</td>\n      <td>536</td>\n      <td>78870</td>\n      <td>194</td>\n    </tr>\n  </tbody>\n</table>\n<p>69169 rows × 64 columns</p>\n</div>"
     },
     "metadata": {},
     "output_type": "execute_result",
     "execution_count": 51
    }
   ],
   "source": [
    "ds_vivi = pd.read_csv('datos/conjunto_de_datos_viviendas_enigh_2016_ns.csv')\n",
    "ds_vivi"
   ],
   "metadata": {
    "collapsed": false,
    "pycharm": {
     "name": "#%%\n",
     "is_executing": false
    }
   }
  },
  {
   "cell_type": "code",
   "execution_count": 52,
   "outputs": [
    {
     "data": {
      "text/plain": "         folioviv  pago_mesp  tenencia  renta\n0       100298502        NaN         4      0\n1       100298504        NaN         4      0\n2       100298506        NaN         4      0\n3       100318603        NaN         4      0\n4       100318605        1.0         1   8000\n...           ...        ...       ...    ...\n69164  3260583804        NaN         4      0\n69165  3260583805        NaN         4      0\n69166  3260583806        NaN         4      0\n69167  3260583907        NaN         4      0\n69168  3260583908        NaN         2      0\n\n[69169 rows x 4 columns]",
      "text/html": "<div>\n<style scoped>\n    .dataframe tbody tr th:only-of-type {\n        vertical-align: middle;\n    }\n\n    .dataframe tbody tr th {\n        vertical-align: top;\n    }\n\n    .dataframe thead th {\n        text-align: right;\n    }\n</style>\n<table border=\"1\" class=\"dataframe\">\n  <thead>\n    <tr style=\"text-align: right;\">\n      <th></th>\n      <th>folioviv</th>\n      <th>pago_mesp</th>\n      <th>tenencia</th>\n      <th>renta</th>\n    </tr>\n  </thead>\n  <tbody>\n    <tr>\n      <th>0</th>\n      <td>100298502</td>\n      <td>NaN</td>\n      <td>4</td>\n      <td>0</td>\n    </tr>\n    <tr>\n      <th>1</th>\n      <td>100298504</td>\n      <td>NaN</td>\n      <td>4</td>\n      <td>0</td>\n    </tr>\n    <tr>\n      <th>2</th>\n      <td>100298506</td>\n      <td>NaN</td>\n      <td>4</td>\n      <td>0</td>\n    </tr>\n    <tr>\n      <th>3</th>\n      <td>100318603</td>\n      <td>NaN</td>\n      <td>4</td>\n      <td>0</td>\n    </tr>\n    <tr>\n      <th>4</th>\n      <td>100318605</td>\n      <td>1.0</td>\n      <td>1</td>\n      <td>8000</td>\n    </tr>\n    <tr>\n      <th>...</th>\n      <td>...</td>\n      <td>...</td>\n      <td>...</td>\n      <td>...</td>\n    </tr>\n    <tr>\n      <th>69164</th>\n      <td>3260583804</td>\n      <td>NaN</td>\n      <td>4</td>\n      <td>0</td>\n    </tr>\n    <tr>\n      <th>69165</th>\n      <td>3260583805</td>\n      <td>NaN</td>\n      <td>4</td>\n      <td>0</td>\n    </tr>\n    <tr>\n      <th>69166</th>\n      <td>3260583806</td>\n      <td>NaN</td>\n      <td>4</td>\n      <td>0</td>\n    </tr>\n    <tr>\n      <th>69167</th>\n      <td>3260583907</td>\n      <td>NaN</td>\n      <td>4</td>\n      <td>0</td>\n    </tr>\n    <tr>\n      <th>69168</th>\n      <td>3260583908</td>\n      <td>NaN</td>\n      <td>2</td>\n      <td>0</td>\n    </tr>\n  </tbody>\n</table>\n<p>69169 rows × 4 columns</p>\n</div>"
     },
     "metadata": {},
     "output_type": "execute_result",
     "execution_count": 52
    }
   ],
   "source": [
    "vivi = ds_vivi[['folioviv', 'pago_mesp','tenencia', 'renta']]\n",
    "vivi"
   ],
   "metadata": {
    "collapsed": false,
    "pycharm": {
     "name": "#%%\n",
     "is_executing": false
    }
   }
  },
  {
   "cell_type": "code",
   "execution_count": 53,
   "outputs": [],
   "source": [
    "vivi['pago_mesp'] = vivi['pago_mesp'].replace(1, 0)\n",
    "vivi['pago_mesp'] = vivi['pago_mesp'].replace(2, 1)\n",
    "vivi['pago_mesp'].fillna(0, inplace=True)"
   ],
   "metadata": {
    "collapsed": false,
    "pycharm": {
     "name": "#%%\n",
     "is_executing": false
    }
   }
  },
  {
   "cell_type": "code",
   "execution_count": 54,
   "outputs": [],
   "source": [
    "vivi['pago_mesp']= vivi['pago_mesp'].astype('int64')"
   ],
   "metadata": {
    "collapsed": false,
    "pycharm": {
     "name": "#%%\n",
     "is_executing": false
    }
   }
  },
  {
   "cell_type": "code",
   "execution_count": 55,
   "outputs": [
    {
     "name": "stdout",
     "text": [
      "<class 'pandas.core.frame.DataFrame'>\n",
      "RangeIndex: 69169 entries, 0 to 69168\n",
      "Data columns (total 4 columns):\n",
      " #   Column     Non-Null Count  Dtype\n",
      "---  ------     --------------  -----\n",
      " 0   folioviv   69169 non-null  int64\n",
      " 1   pago_mesp  69169 non-null  int64\n",
      " 2   tenencia   69169 non-null  int64\n",
      " 3   renta      69169 non-null  int64\n",
      "dtypes: int64(4)\n",
      "memory usage: 2.1 MB\n"
     ],
     "output_type": "stream"
    }
   ],
   "source": [
    "vivi.info()"
   ],
   "metadata": {
    "collapsed": false,
    "pycharm": {
     "name": "#%%\n",
     "is_executing": false
    }
   }
  },
  {
   "cell_type": "code",
   "execution_count": 56,
   "outputs": [
    {
     "data": {
      "text/plain": "folioviv     0\npago_mesp    0\ntenencia     0\nrenta        0\ndtype: int64"
     },
     "metadata": {},
     "output_type": "execute_result",
     "execution_count": 56
    }
   ],
   "source": [
    "vivi.isnull().sum()"
   ],
   "metadata": {
    "collapsed": false,
    "pycharm": {
     "name": "#%%\n",
     "is_executing": false
    }
   }
  },
  {
   "cell_type": "code",
   "execution_count": 57,
   "outputs": [
    {
     "name": "stdout",
     "text": [
      "folioviv     -0.002957\n",
      "mat_pared    -0.050816\n",
      "mat_techos   -0.046229\n",
      "antiguedad    0.028123\n",
      "antigua_ne         NaN\n",
      "cocina        0.028010\n",
      "cocina_dor   -0.012068\n",
      "cuart_dorm   -0.019896\n",
      "num_cuarto   -0.036655\n",
      "disp_agua     0.059104\n",
      "dotac_agua    0.011245\n",
      "excusado      0.020859\n",
      "uso_compar   -0.003581\n",
      "sanit_agua    0.068298\n",
      "biodigest     0.006042\n",
      "bano_comp    -0.047374\n",
      "bano_excus    0.015243\n",
      "bano_regad   -0.010865\n",
      "drenaje       0.065785\n",
      "disp_elect    0.030220\n",
      "focos_inca   -0.005604\n",
      "focos_ahor   -0.043592\n",
      "combustibl   -0.028831\n",
      "estufa_chi   -0.030884\n",
      "eli_basura    0.018394\n",
      "tenencia      0.120264\n",
      "renta        -0.091935\n",
      "estim_pago    0.035726\n",
      "pago_viv      0.038927\n",
      "pago_mesp     1.000000\n",
      "tipo_adqui    0.127787\n",
      "viv_usada    -0.003213\n",
      "num_dueno1    0.025677\n",
      "hog_dueno1   -0.004134\n",
      "num_dueno2    0.012166\n",
      "hog_dueno2         NaN\n",
      "escrituras    0.098694\n",
      "lavadero      0.035346\n",
      "fregadero     0.046447\n",
      "regadera      0.058404\n",
      "tinaco_azo    0.036051\n",
      "cisterna      0.055180\n",
      "pileta       -0.005370\n",
      "calent_sol    0.003031\n",
      "calent_gas    0.064496\n",
      "medidor_lu    0.041352\n",
      "bomba_agua    0.041325\n",
      "tanque_gas    0.029068\n",
      "aire_acond   -0.001455\n",
      "calefacc      0.015281\n",
      "tot_resid     0.032068\n",
      "tot_hom       0.028518\n",
      "tot_muj       0.019427\n",
      "tot_hog      -0.006787\n",
      "ubica_geo    -0.003393\n",
      "tam_loc       0.037585\n",
      "est_socio    -0.052174\n",
      "est_dis      -0.001749\n",
      "upm          -0.003026\n",
      "factor       -0.023006\n",
      "Name: pago_mesp, dtype: float64\n"
     ],
     "output_type": "stream"
    }
   ],
   "source": [
    "crr = ds_vivi.corr()['pago_mesp']\n",
    "print(crr)"
   ],
   "metadata": {
    "collapsed": false,
    "pycharm": {
     "name": "#%%\n",
     "is_executing": false
    }
   }
  },
  {
   "cell_type": "code",
   "execution_count": 58,
   "outputs": [
    {
     "data": {
      "text/plain": "           folioviv  foliohog clave tipo_gasto  mes_dia  forma_pag1  \\\n0         100031904         1  H102         G1        0           1   \n1         100031904         1  H110         G1        0           1   \n2         100031904         1  J044         G1        0           1   \n3         100031905         1  C001         G1        0           6   \n4         100031905         1  C004         G1        0           6   \n...             ...       ...   ...        ...      ...         ...   \n1048570  1960390521         1  I026         G1        0           1   \n1048571  1960390521         1  N014         G1        0           0   \n1048572  1960390523         1  C001         G1        0           1   \n1048573  1960390523         1  C003         G1        0           1   \n1048574  1960390523         1  C004         G1        0           1   \n\n         forma_pag2  forma_pag3  lugar_comp  orga_inst  ...  inmujer  inst_1  \\\n0                 0           0           5          0  ...    500.0     NaN   \n1                 0           0           7          0  ...      NaN     NaN   \n2                 0           0           5          0  ...     -1.0     1.0   \n3                 0           0           9          0  ...      NaN     NaN   \n4                 0           0           9          0  ...      NaN     NaN   \n...             ...         ...         ...        ...  ...      ...     ...   \n1048570           0           0           3          0  ...      NaN     NaN   \n1048571           0           0           0          0  ...      NaN     NaN   \n1048572           0           0           6          0  ...      NaN     NaN   \n1048573           0           0           6          0  ...      NaN     NaN   \n1048574           0           0           6          0  ...      NaN     NaN   \n\n         inst_2  num_meses  num_pagos  ultim_pago  gasto_tri  gasto_nm  \\\n0           NaN        NaN        NaN         NaN     489.13       NaN   \n1           NaN        NaN        NaN         NaN     684.78       NaN   \n2           NaN        NaN        NaN         NaN      97.82       NaN   \n3           NaN        NaN        NaN         NaN     609.67       NaN   \n4           NaN        NaN        NaN         NaN     348.38       NaN   \n...         ...        ...        ...         ...        ...       ...   \n1048570     NaN        NaN        NaN         NaN      24.45       NaN   \n1048571     NaN        NaN        NaN         NaN      39.13       NaN   \n1048572     NaN        NaN        NaN         NaN      87.09       NaN   \n1048573     NaN        NaN        NaN         NaN      63.87       NaN   \n1048574     NaN        NaN        NaN         NaN      98.70       NaN   \n\n         gas_nm_tri  imujer_tri  \n0               NaN      489.13  \n1               NaN         NaN  \n2               NaN       -1.00  \n3               NaN         NaN  \n4               NaN         NaN  \n...             ...         ...  \n1048570         NaN         NaN  \n1048571         NaN         NaN  \n1048572         NaN         NaN  \n1048573         NaN         NaN  \n1048574         NaN         NaN  \n\n[1048575 rows x 27 columns]",
      "text/html": "<div>\n<style scoped>\n    .dataframe tbody tr th:only-of-type {\n        vertical-align: middle;\n    }\n\n    .dataframe tbody tr th {\n        vertical-align: top;\n    }\n\n    .dataframe thead th {\n        text-align: right;\n    }\n</style>\n<table border=\"1\" class=\"dataframe\">\n  <thead>\n    <tr style=\"text-align: right;\">\n      <th></th>\n      <th>folioviv</th>\n      <th>foliohog</th>\n      <th>clave</th>\n      <th>tipo_gasto</th>\n      <th>mes_dia</th>\n      <th>forma_pag1</th>\n      <th>forma_pag2</th>\n      <th>forma_pag3</th>\n      <th>lugar_comp</th>\n      <th>orga_inst</th>\n      <th>...</th>\n      <th>inmujer</th>\n      <th>inst_1</th>\n      <th>inst_2</th>\n      <th>num_meses</th>\n      <th>num_pagos</th>\n      <th>ultim_pago</th>\n      <th>gasto_tri</th>\n      <th>gasto_nm</th>\n      <th>gas_nm_tri</th>\n      <th>imujer_tri</th>\n    </tr>\n  </thead>\n  <tbody>\n    <tr>\n      <th>0</th>\n      <td>100031904</td>\n      <td>1</td>\n      <td>H102</td>\n      <td>G1</td>\n      <td>0</td>\n      <td>1</td>\n      <td>0</td>\n      <td>0</td>\n      <td>5</td>\n      <td>0</td>\n      <td>...</td>\n      <td>500.0</td>\n      <td>NaN</td>\n      <td>NaN</td>\n      <td>NaN</td>\n      <td>NaN</td>\n      <td>NaN</td>\n      <td>489.13</td>\n      <td>NaN</td>\n      <td>NaN</td>\n      <td>489.13</td>\n    </tr>\n    <tr>\n      <th>1</th>\n      <td>100031904</td>\n      <td>1</td>\n      <td>H110</td>\n      <td>G1</td>\n      <td>0</td>\n      <td>1</td>\n      <td>0</td>\n      <td>0</td>\n      <td>7</td>\n      <td>0</td>\n      <td>...</td>\n      <td>NaN</td>\n      <td>NaN</td>\n      <td>NaN</td>\n      <td>NaN</td>\n      <td>NaN</td>\n      <td>NaN</td>\n      <td>684.78</td>\n      <td>NaN</td>\n      <td>NaN</td>\n      <td>NaN</td>\n    </tr>\n    <tr>\n      <th>2</th>\n      <td>100031904</td>\n      <td>1</td>\n      <td>J044</td>\n      <td>G1</td>\n      <td>0</td>\n      <td>1</td>\n      <td>0</td>\n      <td>0</td>\n      <td>5</td>\n      <td>0</td>\n      <td>...</td>\n      <td>-1.0</td>\n      <td>1.0</td>\n      <td>NaN</td>\n      <td>NaN</td>\n      <td>NaN</td>\n      <td>NaN</td>\n      <td>97.82</td>\n      <td>NaN</td>\n      <td>NaN</td>\n      <td>-1.00</td>\n    </tr>\n    <tr>\n      <th>3</th>\n      <td>100031905</td>\n      <td>1</td>\n      <td>C001</td>\n      <td>G1</td>\n      <td>0</td>\n      <td>6</td>\n      <td>0</td>\n      <td>0</td>\n      <td>9</td>\n      <td>0</td>\n      <td>...</td>\n      <td>NaN</td>\n      <td>NaN</td>\n      <td>NaN</td>\n      <td>NaN</td>\n      <td>NaN</td>\n      <td>NaN</td>\n      <td>609.67</td>\n      <td>NaN</td>\n      <td>NaN</td>\n      <td>NaN</td>\n    </tr>\n    <tr>\n      <th>4</th>\n      <td>100031905</td>\n      <td>1</td>\n      <td>C004</td>\n      <td>G1</td>\n      <td>0</td>\n      <td>6</td>\n      <td>0</td>\n      <td>0</td>\n      <td>9</td>\n      <td>0</td>\n      <td>...</td>\n      <td>NaN</td>\n      <td>NaN</td>\n      <td>NaN</td>\n      <td>NaN</td>\n      <td>NaN</td>\n      <td>NaN</td>\n      <td>348.38</td>\n      <td>NaN</td>\n      <td>NaN</td>\n      <td>NaN</td>\n    </tr>\n    <tr>\n      <th>...</th>\n      <td>...</td>\n      <td>...</td>\n      <td>...</td>\n      <td>...</td>\n      <td>...</td>\n      <td>...</td>\n      <td>...</td>\n      <td>...</td>\n      <td>...</td>\n      <td>...</td>\n      <td>...</td>\n      <td>...</td>\n      <td>...</td>\n      <td>...</td>\n      <td>...</td>\n      <td>...</td>\n      <td>...</td>\n      <td>...</td>\n      <td>...</td>\n      <td>...</td>\n      <td>...</td>\n    </tr>\n    <tr>\n      <th>1048570</th>\n      <td>1960390521</td>\n      <td>1</td>\n      <td>I026</td>\n      <td>G1</td>\n      <td>0</td>\n      <td>1</td>\n      <td>0</td>\n      <td>0</td>\n      <td>3</td>\n      <td>0</td>\n      <td>...</td>\n      <td>NaN</td>\n      <td>NaN</td>\n      <td>NaN</td>\n      <td>NaN</td>\n      <td>NaN</td>\n      <td>NaN</td>\n      <td>24.45</td>\n      <td>NaN</td>\n      <td>NaN</td>\n      <td>NaN</td>\n    </tr>\n    <tr>\n      <th>1048571</th>\n      <td>1960390521</td>\n      <td>1</td>\n      <td>N014</td>\n      <td>G1</td>\n      <td>0</td>\n      <td>0</td>\n      <td>0</td>\n      <td>0</td>\n      <td>0</td>\n      <td>0</td>\n      <td>...</td>\n      <td>NaN</td>\n      <td>NaN</td>\n      <td>NaN</td>\n      <td>NaN</td>\n      <td>NaN</td>\n      <td>NaN</td>\n      <td>39.13</td>\n      <td>NaN</td>\n      <td>NaN</td>\n      <td>NaN</td>\n    </tr>\n    <tr>\n      <th>1048572</th>\n      <td>1960390523</td>\n      <td>1</td>\n      <td>C001</td>\n      <td>G1</td>\n      <td>0</td>\n      <td>1</td>\n      <td>0</td>\n      <td>0</td>\n      <td>6</td>\n      <td>0</td>\n      <td>...</td>\n      <td>NaN</td>\n      <td>NaN</td>\n      <td>NaN</td>\n      <td>NaN</td>\n      <td>NaN</td>\n      <td>NaN</td>\n      <td>87.09</td>\n      <td>NaN</td>\n      <td>NaN</td>\n      <td>NaN</td>\n    </tr>\n    <tr>\n      <th>1048573</th>\n      <td>1960390523</td>\n      <td>1</td>\n      <td>C003</td>\n      <td>G1</td>\n      <td>0</td>\n      <td>1</td>\n      <td>0</td>\n      <td>0</td>\n      <td>6</td>\n      <td>0</td>\n      <td>...</td>\n      <td>NaN</td>\n      <td>NaN</td>\n      <td>NaN</td>\n      <td>NaN</td>\n      <td>NaN</td>\n      <td>NaN</td>\n      <td>63.87</td>\n      <td>NaN</td>\n      <td>NaN</td>\n      <td>NaN</td>\n    </tr>\n    <tr>\n      <th>1048574</th>\n      <td>1960390523</td>\n      <td>1</td>\n      <td>C004</td>\n      <td>G1</td>\n      <td>0</td>\n      <td>1</td>\n      <td>0</td>\n      <td>0</td>\n      <td>6</td>\n      <td>0</td>\n      <td>...</td>\n      <td>NaN</td>\n      <td>NaN</td>\n      <td>NaN</td>\n      <td>NaN</td>\n      <td>NaN</td>\n      <td>NaN</td>\n      <td>98.70</td>\n      <td>NaN</td>\n      <td>NaN</td>\n      <td>NaN</td>\n    </tr>\n  </tbody>\n</table>\n<p>1048575 rows × 27 columns</p>\n</div>"
     },
     "metadata": {},
     "output_type": "execute_result",
     "execution_count": 58
    }
   ],
   "source": [
    "ds_gasto = pd.read_csv('datos/conjunto_de_datos_gastoshogar_enigh_2016_ns.csv')\n",
    "ds_gasto"
   ],
   "metadata": {
    "collapsed": false,
    "pycharm": {
     "name": "#%%\n",
     "is_executing": false
    }
   }
  },
  {
   "cell_type": "code",
   "execution_count": 59,
   "outputs": [
    {
     "data": {
      "text/plain": "           folioviv  gasto_tri\n0         100031904     489.13\n1         100031904     684.78\n2         100031904      97.82\n3         100031905     609.67\n4         100031905     348.38\n...             ...        ...\n1048570  1960390521      24.45\n1048571  1960390521      39.13\n1048572  1960390523      87.09\n1048573  1960390523      63.87\n1048574  1960390523      98.70\n\n[1048575 rows x 2 columns]",
      "text/html": "<div>\n<style scoped>\n    .dataframe tbody tr th:only-of-type {\n        vertical-align: middle;\n    }\n\n    .dataframe tbody tr th {\n        vertical-align: top;\n    }\n\n    .dataframe thead th {\n        text-align: right;\n    }\n</style>\n<table border=\"1\" class=\"dataframe\">\n  <thead>\n    <tr style=\"text-align: right;\">\n      <th></th>\n      <th>folioviv</th>\n      <th>gasto_tri</th>\n    </tr>\n  </thead>\n  <tbody>\n    <tr>\n      <th>0</th>\n      <td>100031904</td>\n      <td>489.13</td>\n    </tr>\n    <tr>\n      <th>1</th>\n      <td>100031904</td>\n      <td>684.78</td>\n    </tr>\n    <tr>\n      <th>2</th>\n      <td>100031904</td>\n      <td>97.82</td>\n    </tr>\n    <tr>\n      <th>3</th>\n      <td>100031905</td>\n      <td>609.67</td>\n    </tr>\n    <tr>\n      <th>4</th>\n      <td>100031905</td>\n      <td>348.38</td>\n    </tr>\n    <tr>\n      <th>...</th>\n      <td>...</td>\n      <td>...</td>\n    </tr>\n    <tr>\n      <th>1048570</th>\n      <td>1960390521</td>\n      <td>24.45</td>\n    </tr>\n    <tr>\n      <th>1048571</th>\n      <td>1960390521</td>\n      <td>39.13</td>\n    </tr>\n    <tr>\n      <th>1048572</th>\n      <td>1960390523</td>\n      <td>87.09</td>\n    </tr>\n    <tr>\n      <th>1048573</th>\n      <td>1960390523</td>\n      <td>63.87</td>\n    </tr>\n    <tr>\n      <th>1048574</th>\n      <td>1960390523</td>\n      <td>98.70</td>\n    </tr>\n  </tbody>\n</table>\n<p>1048575 rows × 2 columns</p>\n</div>"
     },
     "metadata": {},
     "output_type": "execute_result",
     "execution_count": 59
    }
   ],
   "source": [
    "gasto = ds_gasto[['folioviv','gasto_tri']]\n",
    "gasto"
   ],
   "metadata": {
    "collapsed": false,
    "pycharm": {
     "name": "#%%\n",
     "is_executing": false
    }
   }
  },
  {
   "cell_type": "code",
   "execution_count": 60,
   "outputs": [
    {
     "data": {
      "text/plain": "folioviv     0\ngasto_tri    8\ndtype: int64"
     },
     "metadata": {},
     "output_type": "execute_result",
     "execution_count": 60
    }
   ],
   "source": [
    "gasto.isnull().sum()"
   ],
   "metadata": {
    "collapsed": false,
    "pycharm": {
     "name": "#%%\n",
     "is_executing": false
    }
   }
  },
  {
   "cell_type": "code",
   "execution_count": 61,
   "outputs": [],
   "source": [
    "gasto['gasto_tri'].fillna(0, inplace=True)"
   ],
   "metadata": {
    "collapsed": false,
    "pycharm": {
     "name": "#%%\n",
     "is_executing": false
    }
   }
  },
  {
   "cell_type": "code",
   "execution_count": 62,
   "outputs": [
    {
     "data": {
      "text/plain": "folioviv     0\ngasto_tri    0\ndtype: int64"
     },
     "metadata": {},
     "output_type": "execute_result",
     "execution_count": 62
    }
   ],
   "source": [
    "gasto.isnull().sum()\n",
    "\n"
   ],
   "metadata": {
    "collapsed": false,
    "pycharm": {
     "name": "#%%\n",
     "is_executing": false
    }
   }
  },
  {
   "cell_type": "code",
   "execution_count": 63,
   "outputs": [
    {
     "data": {
      "text/plain": "          folioviv  foliohog  numren clave  mes_1  mes_2  mes_3  mes_4  mes_5  \\\n0        100252301         1       2  P009    NaN    NaN    NaN    NaN    NaN   \n1        100252301         1       2  P044    8.0    7.0    6.0    5.0    4.0   \n2        100252301         1       2  P051    8.0    7.0    6.0    5.0    4.0   \n3        100252301         2       1  P001    8.0    7.0    6.0    5.0    4.0   \n4        100252301         1       1  P044    8.0    7.0    6.0    5.0    4.0   \n...            ...       ...     ...   ...    ...    ...    ...    ...    ...   \n334332  3260578405         1       3  P044    8.0    7.0    6.0    5.0    4.0   \n334333  3260578405         1       1  P043    8.0    7.0    6.0    5.0    4.0   \n334334  3260578405         1       3  P042    8.0    7.0    6.0    5.0    4.0   \n334335  3260578405         1       1  P044    8.0    7.0    6.0    5.0    4.0   \n334336  3260578405         1       1  P072    8.0    7.0    6.0    5.0    4.0   \n\n        mes_6  ing_1  ing_2  ing_3  ing_4  ing_5  ing_6   ing_tri  \n0         NaN  20000      0      0      0      0      0   4891.30  \n1         3.0   1200      0   1200      0   1200      0   1760.86  \n2         3.0  10000      0      0      0      0      0   4891.30  \n3         3.0   8000   8000   8000   8000   8000   8000  23478.26  \n4         3.0   1100      0   1100      0   1100      0   1614.13  \n...       ...    ...    ...    ...    ...    ...    ...       ...  \n334332    3.0      0   1160      0   1160      0   1160   1702.17  \n334333    3.0      0      0      0   3900      0      0   1907.60  \n334334    3.0      0    900      0    900      0    900   1320.65  \n334335    3.0      0   1160      0   1160      0   1160   1702.17  \n334336    3.0    208    208    208    208    208    208    610.43  \n\n[334337 rows x 17 columns]",
      "text/html": "<div>\n<style scoped>\n    .dataframe tbody tr th:only-of-type {\n        vertical-align: middle;\n    }\n\n    .dataframe tbody tr th {\n        vertical-align: top;\n    }\n\n    .dataframe thead th {\n        text-align: right;\n    }\n</style>\n<table border=\"1\" class=\"dataframe\">\n  <thead>\n    <tr style=\"text-align: right;\">\n      <th></th>\n      <th>folioviv</th>\n      <th>foliohog</th>\n      <th>numren</th>\n      <th>clave</th>\n      <th>mes_1</th>\n      <th>mes_2</th>\n      <th>mes_3</th>\n      <th>mes_4</th>\n      <th>mes_5</th>\n      <th>mes_6</th>\n      <th>ing_1</th>\n      <th>ing_2</th>\n      <th>ing_3</th>\n      <th>ing_4</th>\n      <th>ing_5</th>\n      <th>ing_6</th>\n      <th>ing_tri</th>\n    </tr>\n  </thead>\n  <tbody>\n    <tr>\n      <th>0</th>\n      <td>100252301</td>\n      <td>1</td>\n      <td>2</td>\n      <td>P009</td>\n      <td>NaN</td>\n      <td>NaN</td>\n      <td>NaN</td>\n      <td>NaN</td>\n      <td>NaN</td>\n      <td>NaN</td>\n      <td>20000</td>\n      <td>0</td>\n      <td>0</td>\n      <td>0</td>\n      <td>0</td>\n      <td>0</td>\n      <td>4891.30</td>\n    </tr>\n    <tr>\n      <th>1</th>\n      <td>100252301</td>\n      <td>1</td>\n      <td>2</td>\n      <td>P044</td>\n      <td>8.0</td>\n      <td>7.0</td>\n      <td>6.0</td>\n      <td>5.0</td>\n      <td>4.0</td>\n      <td>3.0</td>\n      <td>1200</td>\n      <td>0</td>\n      <td>1200</td>\n      <td>0</td>\n      <td>1200</td>\n      <td>0</td>\n      <td>1760.86</td>\n    </tr>\n    <tr>\n      <th>2</th>\n      <td>100252301</td>\n      <td>1</td>\n      <td>2</td>\n      <td>P051</td>\n      <td>8.0</td>\n      <td>7.0</td>\n      <td>6.0</td>\n      <td>5.0</td>\n      <td>4.0</td>\n      <td>3.0</td>\n      <td>10000</td>\n      <td>0</td>\n      <td>0</td>\n      <td>0</td>\n      <td>0</td>\n      <td>0</td>\n      <td>4891.30</td>\n    </tr>\n    <tr>\n      <th>3</th>\n      <td>100252301</td>\n      <td>2</td>\n      <td>1</td>\n      <td>P001</td>\n      <td>8.0</td>\n      <td>7.0</td>\n      <td>6.0</td>\n      <td>5.0</td>\n      <td>4.0</td>\n      <td>3.0</td>\n      <td>8000</td>\n      <td>8000</td>\n      <td>8000</td>\n      <td>8000</td>\n      <td>8000</td>\n      <td>8000</td>\n      <td>23478.26</td>\n    </tr>\n    <tr>\n      <th>4</th>\n      <td>100252301</td>\n      <td>1</td>\n      <td>1</td>\n      <td>P044</td>\n      <td>8.0</td>\n      <td>7.0</td>\n      <td>6.0</td>\n      <td>5.0</td>\n      <td>4.0</td>\n      <td>3.0</td>\n      <td>1100</td>\n      <td>0</td>\n      <td>1100</td>\n      <td>0</td>\n      <td>1100</td>\n      <td>0</td>\n      <td>1614.13</td>\n    </tr>\n    <tr>\n      <th>...</th>\n      <td>...</td>\n      <td>...</td>\n      <td>...</td>\n      <td>...</td>\n      <td>...</td>\n      <td>...</td>\n      <td>...</td>\n      <td>...</td>\n      <td>...</td>\n      <td>...</td>\n      <td>...</td>\n      <td>...</td>\n      <td>...</td>\n      <td>...</td>\n      <td>...</td>\n      <td>...</td>\n      <td>...</td>\n    </tr>\n    <tr>\n      <th>334332</th>\n      <td>3260578405</td>\n      <td>1</td>\n      <td>3</td>\n      <td>P044</td>\n      <td>8.0</td>\n      <td>7.0</td>\n      <td>6.0</td>\n      <td>5.0</td>\n      <td>4.0</td>\n      <td>3.0</td>\n      <td>0</td>\n      <td>1160</td>\n      <td>0</td>\n      <td>1160</td>\n      <td>0</td>\n      <td>1160</td>\n      <td>1702.17</td>\n    </tr>\n    <tr>\n      <th>334333</th>\n      <td>3260578405</td>\n      <td>1</td>\n      <td>1</td>\n      <td>P043</td>\n      <td>8.0</td>\n      <td>7.0</td>\n      <td>6.0</td>\n      <td>5.0</td>\n      <td>4.0</td>\n      <td>3.0</td>\n      <td>0</td>\n      <td>0</td>\n      <td>0</td>\n      <td>3900</td>\n      <td>0</td>\n      <td>0</td>\n      <td>1907.60</td>\n    </tr>\n    <tr>\n      <th>334334</th>\n      <td>3260578405</td>\n      <td>1</td>\n      <td>3</td>\n      <td>P042</td>\n      <td>8.0</td>\n      <td>7.0</td>\n      <td>6.0</td>\n      <td>5.0</td>\n      <td>4.0</td>\n      <td>3.0</td>\n      <td>0</td>\n      <td>900</td>\n      <td>0</td>\n      <td>900</td>\n      <td>0</td>\n      <td>900</td>\n      <td>1320.65</td>\n    </tr>\n    <tr>\n      <th>334335</th>\n      <td>3260578405</td>\n      <td>1</td>\n      <td>1</td>\n      <td>P044</td>\n      <td>8.0</td>\n      <td>7.0</td>\n      <td>6.0</td>\n      <td>5.0</td>\n      <td>4.0</td>\n      <td>3.0</td>\n      <td>0</td>\n      <td>1160</td>\n      <td>0</td>\n      <td>1160</td>\n      <td>0</td>\n      <td>1160</td>\n      <td>1702.17</td>\n    </tr>\n    <tr>\n      <th>334336</th>\n      <td>3260578405</td>\n      <td>1</td>\n      <td>1</td>\n      <td>P072</td>\n      <td>8.0</td>\n      <td>7.0</td>\n      <td>6.0</td>\n      <td>5.0</td>\n      <td>4.0</td>\n      <td>3.0</td>\n      <td>208</td>\n      <td>208</td>\n      <td>208</td>\n      <td>208</td>\n      <td>208</td>\n      <td>208</td>\n      <td>610.43</td>\n    </tr>\n  </tbody>\n</table>\n<p>334337 rows × 17 columns</p>\n</div>"
     },
     "metadata": {},
     "output_type": "execute_result",
     "execution_count": 63
    }
   ],
   "source": [
    "ds_ingre = pd.read_csv('datos/conjunto_de_datos_ingresos_enigh_2016_ns.csv')\n",
    "ds_ingre"
   ],
   "metadata": {
    "collapsed": false,
    "pycharm": {
     "name": "#%%\n",
     "is_executing": false
    }
   }
  },
  {
   "cell_type": "code",
   "execution_count": 64,
   "outputs": [],
   "source": [
    "ingre = ds_ingre[['folioviv','ing_tri']]\n"
   ],
   "metadata": {
    "collapsed": false,
    "pycharm": {
     "name": "#%%\n",
     "is_executing": false
    }
   }
  },
  {
   "cell_type": "code",
   "execution_count": 65,
   "outputs": [
    {
     "data": {
      "text/plain": "folioviv    0\ning_tri     0\ndtype: int64"
     },
     "metadata": {},
     "output_type": "execute_result",
     "execution_count": 65
    }
   ],
   "source": [
    "ingre.isnull().sum()"
   ],
   "metadata": {
    "collapsed": false,
    "pycharm": {
     "name": "#%%\n",
     "is_executing": false
    }
   }
  },
  {
   "cell_type": "code",
   "execution_count": 66,
   "outputs": [
    {
     "data": {
      "text/plain": "           folioviv  gasto_tri   ing_tri\n0         100031904     489.13    611.41\n1         100031904     489.13   7043.47\n2         100031904     489.13  14673.91\n3         100031904     489.13    146.73\n4         100031904     684.78    611.41\n...             ...        ...       ...\n5647240  1960390523      63.87   5654.34\n5647241  1960390523      98.70    274.40\n5647242  1960390523      98.70  16679.34\n5647243  1960390523      98.70    317.93\n5647244  1960390523      98.70   5654.34\n\n[5647245 rows x 3 columns]",
      "text/html": "<div>\n<style scoped>\n    .dataframe tbody tr th:only-of-type {\n        vertical-align: middle;\n    }\n\n    .dataframe tbody tr th {\n        vertical-align: top;\n    }\n\n    .dataframe thead th {\n        text-align: right;\n    }\n</style>\n<table border=\"1\" class=\"dataframe\">\n  <thead>\n    <tr style=\"text-align: right;\">\n      <th></th>\n      <th>folioviv</th>\n      <th>gasto_tri</th>\n      <th>ing_tri</th>\n    </tr>\n  </thead>\n  <tbody>\n    <tr>\n      <th>0</th>\n      <td>100031904</td>\n      <td>489.13</td>\n      <td>611.41</td>\n    </tr>\n    <tr>\n      <th>1</th>\n      <td>100031904</td>\n      <td>489.13</td>\n      <td>7043.47</td>\n    </tr>\n    <tr>\n      <th>2</th>\n      <td>100031904</td>\n      <td>489.13</td>\n      <td>14673.91</td>\n    </tr>\n    <tr>\n      <th>3</th>\n      <td>100031904</td>\n      <td>489.13</td>\n      <td>146.73</td>\n    </tr>\n    <tr>\n      <th>4</th>\n      <td>100031904</td>\n      <td>684.78</td>\n      <td>611.41</td>\n    </tr>\n    <tr>\n      <th>...</th>\n      <td>...</td>\n      <td>...</td>\n      <td>...</td>\n    </tr>\n    <tr>\n      <th>5647240</th>\n      <td>1960390523</td>\n      <td>63.87</td>\n      <td>5654.34</td>\n    </tr>\n    <tr>\n      <th>5647241</th>\n      <td>1960390523</td>\n      <td>98.70</td>\n      <td>274.40</td>\n    </tr>\n    <tr>\n      <th>5647242</th>\n      <td>1960390523</td>\n      <td>98.70</td>\n      <td>16679.34</td>\n    </tr>\n    <tr>\n      <th>5647243</th>\n      <td>1960390523</td>\n      <td>98.70</td>\n      <td>317.93</td>\n    </tr>\n    <tr>\n      <th>5647244</th>\n      <td>1960390523</td>\n      <td>98.70</td>\n      <td>5654.34</td>\n    </tr>\n  </tbody>\n</table>\n<p>5647245 rows × 3 columns</p>\n</div>"
     },
     "metadata": {},
     "output_type": "execute_result",
     "execution_count": 66
    }
   ],
   "source": [
    "momento = pd.merge(left=gasto, right=ingre,left_on='folioviv',right_on='folioviv',how='inner')\n",
    "momento"
   ],
   "metadata": {
    "collapsed": false,
    "pycharm": {
     "name": "#%%\n",
     "is_executing": false
    }
   }
  },
  {
   "cell_type": "code",
   "execution_count": 67,
   "outputs": [
    {
     "name": "stdout",
     "text": [
      "<class 'pandas.core.frame.DataFrame'>\n",
      "Int64Index: 43083 entries, 100003801 to 1960457025\n",
      "Data columns (total 2 columns):\n",
      " #   Column     Non-Null Count  Dtype  \n",
      "---  ------     --------------  -----  \n",
      " 0   gasto_tri  43083 non-null  float64\n",
      " 1   ing_tri    43083 non-null  float64\n",
      "dtypes: float64(2)\n",
      "memory usage: 1009.8 KB\n"
     ],
     "output_type": "stream"
    }
   ],
   "source": [
    "g= momento.groupby(['folioviv'])['gasto_tri', 'ing_tri'].sum()\n",
    "g.info()"
   ],
   "metadata": {
    "collapsed": false,
    "pycharm": {
     "name": "#%%\n",
     "is_executing": false
    }
   }
  },
  {
   "cell_type": "code",
   "execution_count": 68,
   "outputs": [
    {
     "data": {
      "text/plain": "         folioviv  gasto_tri     ing_tri  pago_mesp  tenencia  renta\n0       100003801  102287.72  3524384.50          0         1   2700\n1       100003802  323817.18  5394097.44          0         1   3000\n2       100003803   30520.57  2726557.35          0         4      0\n3       100003804   67201.85  1398687.60          0         1   4000\n4       100003805   47740.52  1480327.45          0         4      0\n...           ...        ...         ...        ...       ...    ...\n43078  1960457021   26569.11   240358.59          0         2      0\n43079  1960457022     284.49    18489.12          0         2      0\n43080  1960457023  456710.40  2280324.48          0         2      0\n43081  1960457024    7358.88   247108.44          0         2      0\n43082  1960457025    2961.25   105358.64          0         2      0\n\n[43083 rows x 6 columns]",
      "text/html": "<div>\n<style scoped>\n    .dataframe tbody tr th:only-of-type {\n        vertical-align: middle;\n    }\n\n    .dataframe tbody tr th {\n        vertical-align: top;\n    }\n\n    .dataframe thead th {\n        text-align: right;\n    }\n</style>\n<table border=\"1\" class=\"dataframe\">\n  <thead>\n    <tr style=\"text-align: right;\">\n      <th></th>\n      <th>folioviv</th>\n      <th>gasto_tri</th>\n      <th>ing_tri</th>\n      <th>pago_mesp</th>\n      <th>tenencia</th>\n      <th>renta</th>\n    </tr>\n  </thead>\n  <tbody>\n    <tr>\n      <th>0</th>\n      <td>100003801</td>\n      <td>102287.72</td>\n      <td>3524384.50</td>\n      <td>0</td>\n      <td>1</td>\n      <td>2700</td>\n    </tr>\n    <tr>\n      <th>1</th>\n      <td>100003802</td>\n      <td>323817.18</td>\n      <td>5394097.44</td>\n      <td>0</td>\n      <td>1</td>\n      <td>3000</td>\n    </tr>\n    <tr>\n      <th>2</th>\n      <td>100003803</td>\n      <td>30520.57</td>\n      <td>2726557.35</td>\n      <td>0</td>\n      <td>4</td>\n      <td>0</td>\n    </tr>\n    <tr>\n      <th>3</th>\n      <td>100003804</td>\n      <td>67201.85</td>\n      <td>1398687.60</td>\n      <td>0</td>\n      <td>1</td>\n      <td>4000</td>\n    </tr>\n    <tr>\n      <th>4</th>\n      <td>100003805</td>\n      <td>47740.52</td>\n      <td>1480327.45</td>\n      <td>0</td>\n      <td>4</td>\n      <td>0</td>\n    </tr>\n    <tr>\n      <th>...</th>\n      <td>...</td>\n      <td>...</td>\n      <td>...</td>\n      <td>...</td>\n      <td>...</td>\n      <td>...</td>\n    </tr>\n    <tr>\n      <th>43078</th>\n      <td>1960457021</td>\n      <td>26569.11</td>\n      <td>240358.59</td>\n      <td>0</td>\n      <td>2</td>\n      <td>0</td>\n    </tr>\n    <tr>\n      <th>43079</th>\n      <td>1960457022</td>\n      <td>284.49</td>\n      <td>18489.12</td>\n      <td>0</td>\n      <td>2</td>\n      <td>0</td>\n    </tr>\n    <tr>\n      <th>43080</th>\n      <td>1960457023</td>\n      <td>456710.40</td>\n      <td>2280324.48</td>\n      <td>0</td>\n      <td>2</td>\n      <td>0</td>\n    </tr>\n    <tr>\n      <th>43081</th>\n      <td>1960457024</td>\n      <td>7358.88</td>\n      <td>247108.44</td>\n      <td>0</td>\n      <td>2</td>\n      <td>0</td>\n    </tr>\n    <tr>\n      <th>43082</th>\n      <td>1960457025</td>\n      <td>2961.25</td>\n      <td>105358.64</td>\n      <td>0</td>\n      <td>2</td>\n      <td>0</td>\n    </tr>\n  </tbody>\n</table>\n<p>43083 rows × 6 columns</p>\n</div>"
     },
     "metadata": {},
     "output_type": "execute_result",
     "execution_count": 68
    }
   ],
   "source": [
    "DS_Bonito = pd.merge(left=g, right=vivi,left_on='folioviv',right_on='folioviv',how='inner')\n",
    "DS_Bonito"
   ],
   "metadata": {
    "collapsed": false,
    "pycharm": {
     "name": "#%%\n",
     "is_executing": false
    }
   }
  },
  {
   "cell_type": "code",
   "execution_count": 69,
   "outputs": [
    {
     "data": {
      "text/plain": "           folioviv     gasto_tri       ing_tri     pago_mesp      tenencia  \\\ncount  4.308300e+04  4.308300e+04  4.308300e+04  43083.000000  43083.000000   \nmean   9.836190e+08  6.281129e+04  1.135991e+06      0.016108      3.244574   \nstd    5.626810e+08  1.241755e+05  8.099724e+06      0.125894      1.159307   \nmin    1.000038e+08  1.467000e+01  7.377000e+01      0.000000      1.000000   \n25%    5.029416e+08  1.078942e+04  2.646588e+05      0.000000      2.000000   \n50%    9.154223e+08  2.789244e+04  5.914950e+05      0.000000      4.000000   \n75%    1.506556e+09  6.686314e+04  1.236785e+06      0.000000      4.000000   \nmax    1.960457e+09  4.506876e+06  1.538014e+09      1.000000      6.000000   \n\n              renta  \ncount  43083.000000  \nmean     243.529768  \nstd      958.584409  \nmin        0.000000  \n25%        0.000000  \n50%        0.000000  \n75%        0.000000  \nmax    33000.000000  ",
      "text/html": "<div>\n<style scoped>\n    .dataframe tbody tr th:only-of-type {\n        vertical-align: middle;\n    }\n\n    .dataframe tbody tr th {\n        vertical-align: top;\n    }\n\n    .dataframe thead th {\n        text-align: right;\n    }\n</style>\n<table border=\"1\" class=\"dataframe\">\n  <thead>\n    <tr style=\"text-align: right;\">\n      <th></th>\n      <th>folioviv</th>\n      <th>gasto_tri</th>\n      <th>ing_tri</th>\n      <th>pago_mesp</th>\n      <th>tenencia</th>\n      <th>renta</th>\n    </tr>\n  </thead>\n  <tbody>\n    <tr>\n      <th>count</th>\n      <td>4.308300e+04</td>\n      <td>4.308300e+04</td>\n      <td>4.308300e+04</td>\n      <td>43083.000000</td>\n      <td>43083.000000</td>\n      <td>43083.000000</td>\n    </tr>\n    <tr>\n      <th>mean</th>\n      <td>9.836190e+08</td>\n      <td>6.281129e+04</td>\n      <td>1.135991e+06</td>\n      <td>0.016108</td>\n      <td>3.244574</td>\n      <td>243.529768</td>\n    </tr>\n    <tr>\n      <th>std</th>\n      <td>5.626810e+08</td>\n      <td>1.241755e+05</td>\n      <td>8.099724e+06</td>\n      <td>0.125894</td>\n      <td>1.159307</td>\n      <td>958.584409</td>\n    </tr>\n    <tr>\n      <th>min</th>\n      <td>1.000038e+08</td>\n      <td>1.467000e+01</td>\n      <td>7.377000e+01</td>\n      <td>0.000000</td>\n      <td>1.000000</td>\n      <td>0.000000</td>\n    </tr>\n    <tr>\n      <th>25%</th>\n      <td>5.029416e+08</td>\n      <td>1.078942e+04</td>\n      <td>2.646588e+05</td>\n      <td>0.000000</td>\n      <td>2.000000</td>\n      <td>0.000000</td>\n    </tr>\n    <tr>\n      <th>50%</th>\n      <td>9.154223e+08</td>\n      <td>2.789244e+04</td>\n      <td>5.914950e+05</td>\n      <td>0.000000</td>\n      <td>4.000000</td>\n      <td>0.000000</td>\n    </tr>\n    <tr>\n      <th>75%</th>\n      <td>1.506556e+09</td>\n      <td>6.686314e+04</td>\n      <td>1.236785e+06</td>\n      <td>0.000000</td>\n      <td>4.000000</td>\n      <td>0.000000</td>\n    </tr>\n    <tr>\n      <th>max</th>\n      <td>1.960457e+09</td>\n      <td>4.506876e+06</td>\n      <td>1.538014e+09</td>\n      <td>1.000000</td>\n      <td>6.000000</td>\n      <td>33000.000000</td>\n    </tr>\n  </tbody>\n</table>\n</div>"
     },
     "metadata": {},
     "output_type": "execute_result",
     "execution_count": 69
    }
   ],
   "source": [
    "DS_Bonito.describe()"
   ],
   "metadata": {
    "collapsed": false,
    "pycharm": {
     "name": "#%%\n",
     "is_executing": false
    }
   }
  },
  {
   "cell_type": "code",
   "execution_count": null,
   "outputs": [],
   "source": [
    "# ----------------------------------------------------------------------------\n"
   ],
   "metadata": {
    "collapsed": false,
    "pycharm": {
     "name": "#%%\n"
    }
   }
  },
  {
   "cell_type": "code",
   "execution_count": 70,
   "outputs": [
    {
     "name": "stdout",
     "text": [
      "           folioviv  gasto_tri   ing_tri  pago_mesp  tenencia     renta\n",
      "folioviv   1.000000  -0.037098 -0.003556  -0.032170  0.045280 -0.042201\n",
      "gasto_tri -0.037098   1.000000  0.299470  -0.006236  0.026853  0.058825\n",
      "ing_tri   -0.003556   0.299470  1.000000  -0.002972  0.005283  0.026846\n",
      "pago_mesp -0.032170  -0.006236 -0.002972   1.000000 -0.105559  0.032771\n",
      "tenencia   0.045280   0.026853  0.005283  -0.105559  1.000000 -0.491889\n",
      "renta     -0.042201   0.058825  0.026846   0.032771 -0.491889  1.000000\n"
     ],
     "output_type": "stream"
    }
   ],
   "source": [
    "crr = DS_Bonito.corr()\n",
    "print(crr)"
   ],
   "metadata": {
    "collapsed": false,
    "pycharm": {
     "name": "#%%\n",
     "is_executing": false
    }
   }
  },
  {
   "cell_type": "code",
   "execution_count": 71,
   "outputs": [
    {
     "data": {
      "text/plain": "       gasto_tri     ing_tri  tenencia  renta\n0      102287.72  3524384.50         1   2700\n1      323817.18  5394097.44         1   3000\n2       30520.57  2726557.35         4      0\n3       67201.85  1398687.60         1   4000\n4       47740.52  1480327.45         4      0\n...          ...         ...       ...    ...\n43078   26569.11   240358.59         2      0\n43079     284.49    18489.12         2      0\n43080  456710.40  2280324.48         2      0\n43081    7358.88   247108.44         2      0\n43082    2961.25   105358.64         2      0\n\n[43083 rows x 4 columns]",
      "text/html": "<div>\n<style scoped>\n    .dataframe tbody tr th:only-of-type {\n        vertical-align: middle;\n    }\n\n    .dataframe tbody tr th {\n        vertical-align: top;\n    }\n\n    .dataframe thead th {\n        text-align: right;\n    }\n</style>\n<table border=\"1\" class=\"dataframe\">\n  <thead>\n    <tr style=\"text-align: right;\">\n      <th></th>\n      <th>gasto_tri</th>\n      <th>ing_tri</th>\n      <th>tenencia</th>\n      <th>renta</th>\n    </tr>\n  </thead>\n  <tbody>\n    <tr>\n      <th>0</th>\n      <td>102287.72</td>\n      <td>3524384.50</td>\n      <td>1</td>\n      <td>2700</td>\n    </tr>\n    <tr>\n      <th>1</th>\n      <td>323817.18</td>\n      <td>5394097.44</td>\n      <td>1</td>\n      <td>3000</td>\n    </tr>\n    <tr>\n      <th>2</th>\n      <td>30520.57</td>\n      <td>2726557.35</td>\n      <td>4</td>\n      <td>0</td>\n    </tr>\n    <tr>\n      <th>3</th>\n      <td>67201.85</td>\n      <td>1398687.60</td>\n      <td>1</td>\n      <td>4000</td>\n    </tr>\n    <tr>\n      <th>4</th>\n      <td>47740.52</td>\n      <td>1480327.45</td>\n      <td>4</td>\n      <td>0</td>\n    </tr>\n    <tr>\n      <th>...</th>\n      <td>...</td>\n      <td>...</td>\n      <td>...</td>\n      <td>...</td>\n    </tr>\n    <tr>\n      <th>43078</th>\n      <td>26569.11</td>\n      <td>240358.59</td>\n      <td>2</td>\n      <td>0</td>\n    </tr>\n    <tr>\n      <th>43079</th>\n      <td>284.49</td>\n      <td>18489.12</td>\n      <td>2</td>\n      <td>0</td>\n    </tr>\n    <tr>\n      <th>43080</th>\n      <td>456710.40</td>\n      <td>2280324.48</td>\n      <td>2</td>\n      <td>0</td>\n    </tr>\n    <tr>\n      <th>43081</th>\n      <td>7358.88</td>\n      <td>247108.44</td>\n      <td>2</td>\n      <td>0</td>\n    </tr>\n    <tr>\n      <th>43082</th>\n      <td>2961.25</td>\n      <td>105358.64</td>\n      <td>2</td>\n      <td>0</td>\n    </tr>\n  </tbody>\n</table>\n<p>43083 rows × 4 columns</p>\n</div>"
     },
     "metadata": {},
     "output_type": "execute_result",
     "execution_count": 71
    }
   ],
   "source": [
    "from sklearn.model_selection import train_test_split\n",
    "\n",
    "# Putting feature variable to X\n",
    "X = DS_Bonito.drop(['folioviv','pago_mesp'], axis=1)\n",
    "X#en 60 hay un 2"
   ],
   "metadata": {
    "collapsed": false,
    "pycharm": {
     "name": "#%%\n",
     "is_executing": false
    }
   }
  },
  {
   "cell_type": "code",
   "execution_count": 72,
   "outputs": [
    {
     "data": {
      "text/plain": "0    0\n1    0\n2    0\n3    0\n4    0\nName: pago_mesp, dtype: int64"
     },
     "metadata": {},
     "output_type": "execute_result",
     "execution_count": 72
    }
   ],
   "source": [
    "# Putting response variable to y\n",
    "y = DS_Bonito['pago_mesp']\n",
    "\n",
    "y.head()"
   ],
   "metadata": {
    "collapsed": false,
    "pycharm": {
     "name": "#%%\n",
     "is_executing": false
    }
   }
  },
  {
   "cell_type": "code",
   "execution_count": 73,
   "outputs": [],
   "source": [
    "# Splitting the data into train and test\n",
    "X_train, X_test, y_train, y_test = train_test_split(X, y, train_size=0.7, test_size=0.3, random_state=100)"
   ],
   "metadata": {
    "collapsed": false,
    "pycharm": {
     "name": "#%%\n",
     "is_executing": false
    }
   }
  },
  {
   "cell_type": "code",
   "execution_count": 74,
   "outputs": [
    {
     "data": {
      "text/plain": "       gasto_tri   ing_tri  tenencia  renta\n27352  -0.430399 -0.273713         4      0\n4523   -0.270872 -0.201380         1   4000\n10580   0.264707 -0.096918         4      0\n31273  -0.273705 -0.120688         4      0\n10702  -0.166144 -0.029374         3      0",
      "text/html": "<div>\n<style scoped>\n    .dataframe tbody tr th:only-of-type {\n        vertical-align: middle;\n    }\n\n    .dataframe tbody tr th {\n        vertical-align: top;\n    }\n\n    .dataframe thead th {\n        text-align: right;\n    }\n</style>\n<table border=\"1\" class=\"dataframe\">\n  <thead>\n    <tr style=\"text-align: right;\">\n      <th></th>\n      <th>gasto_tri</th>\n      <th>ing_tri</th>\n      <th>tenencia</th>\n      <th>renta</th>\n    </tr>\n  </thead>\n  <tbody>\n    <tr>\n      <th>27352</th>\n      <td>-0.430399</td>\n      <td>-0.273713</td>\n      <td>4</td>\n      <td>0</td>\n    </tr>\n    <tr>\n      <th>4523</th>\n      <td>-0.270872</td>\n      <td>-0.201380</td>\n      <td>1</td>\n      <td>4000</td>\n    </tr>\n    <tr>\n      <th>10580</th>\n      <td>0.264707</td>\n      <td>-0.096918</td>\n      <td>4</td>\n      <td>0</td>\n    </tr>\n    <tr>\n      <th>31273</th>\n      <td>-0.273705</td>\n      <td>-0.120688</td>\n      <td>4</td>\n      <td>0</td>\n    </tr>\n    <tr>\n      <th>10702</th>\n      <td>-0.166144</td>\n      <td>-0.029374</td>\n      <td>3</td>\n      <td>0</td>\n    </tr>\n  </tbody>\n</table>\n</div>"
     },
     "metadata": {},
     "output_type": "execute_result",
     "execution_count": 74
    }
   ],
   "source": [
    "#feature scaling\n",
    "from sklearn.preprocessing import StandardScaler\n",
    "\n",
    "scaler = StandardScaler()\n",
    "\n",
    "X_train[['gasto_tri','ing_tri']] = scaler.fit_transform(X_train[['gasto_tri','ing_tri']])\n",
    "\n",
    "X_train.head()"
   ],
   "metadata": {
    "collapsed": false,
    "pycharm": {
     "name": "#%%\n",
     "is_executing": false
    }
   }
  },
  {
   "cell_type": "code",
   "execution_count": 75,
   "outputs": [
    {
     "data": {
      "text/plain": "<class 'statsmodels.iolib.summary.Summary'>\n\"\"\"\n                 Generalized Linear Model Regression Results                  \n==============================================================================\nDep. Variable:              pago_mesp   No. Observations:                30158\nModel:                            GLM   Df Residuals:                    30153\nModel Family:                Binomial   Df Model:                            4\nLink Function:                  logit   Scale:                          1.0000\nMethod:                          IRLS   Log-Likelihood:                -2347.3\nDate:                Wed, 11 Mar 2020   Deviance:                       4694.7\nTime:                        17:45:17   Pearson chi2:                 2.49e+04\nNo. Iterations:                     8                                         \nCovariance Type:            nonrobust                                         \n==============================================================================\n                 coef    std err          z      P>|z|      [0.025      0.975]\n------------------------------------------------------------------------------\nconst         -1.9589      0.138    -14.149      0.000      -2.230      -1.688\ngasto_tri      0.0993      0.058      1.705      0.088      -0.015       0.213\ning_tri       -0.2552      0.179     -1.424      0.154      -0.607       0.096\ntenencia      -0.7360      0.047    -15.737      0.000      -0.828      -0.644\nrenta         -0.0003   6.66e-05     -4.026      0.000      -0.000      -0.000\n==============================================================================\n\"\"\"",
      "text/html": "<table class=\"simpletable\">\n<caption>Generalized Linear Model Regression Results</caption>\n<tr>\n  <th>Dep. Variable:</th>       <td>pago_mesp</td>    <th>  No. Observations:  </th>  <td> 30158</td> \n</tr>\n<tr>\n  <th>Model:</th>                  <td>GLM</td>       <th>  Df Residuals:      </th>  <td> 30153</td> \n</tr>\n<tr>\n  <th>Model Family:</th>        <td>Binomial</td>     <th>  Df Model:          </th>  <td>     4</td> \n</tr>\n<tr>\n  <th>Link Function:</th>         <td>logit</td>      <th>  Scale:             </th> <td>  1.0000</td>\n</tr>\n<tr>\n  <th>Method:</th>                <td>IRLS</td>       <th>  Log-Likelihood:    </th> <td> -2347.3</td>\n</tr>\n<tr>\n  <th>Date:</th>            <td>Wed, 11 Mar 2020</td> <th>  Deviance:          </th> <td>  4694.7</td>\n</tr>\n<tr>\n  <th>Time:</th>                <td>17:45:17</td>     <th>  Pearson chi2:      </th> <td>2.49e+04</td>\n</tr>\n<tr>\n  <th>No. Iterations:</th>          <td>8</td>        <th>                     </th>     <td> </td>   \n</tr>\n<tr>\n  <th>Covariance Type:</th>     <td>nonrobust</td>    <th>                     </th>     <td> </td>   \n</tr>\n</table>\n<table class=\"simpletable\">\n<tr>\n      <td></td>         <th>coef</th>     <th>std err</th>      <th>z</th>      <th>P>|z|</th>  <th>[0.025</th>    <th>0.975]</th>  \n</tr>\n<tr>\n  <th>const</th>     <td>   -1.9589</td> <td>    0.138</td> <td>  -14.149</td> <td> 0.000</td> <td>   -2.230</td> <td>   -1.688</td>\n</tr>\n<tr>\n  <th>gasto_tri</th> <td>    0.0993</td> <td>    0.058</td> <td>    1.705</td> <td> 0.088</td> <td>   -0.015</td> <td>    0.213</td>\n</tr>\n<tr>\n  <th>ing_tri</th>   <td>   -0.2552</td> <td>    0.179</td> <td>   -1.424</td> <td> 0.154</td> <td>   -0.607</td> <td>    0.096</td>\n</tr>\n<tr>\n  <th>tenencia</th>  <td>   -0.7360</td> <td>    0.047</td> <td>  -15.737</td> <td> 0.000</td> <td>   -0.828</td> <td>   -0.644</td>\n</tr>\n<tr>\n  <th>renta</th>     <td>   -0.0003</td> <td> 6.66e-05</td> <td>   -4.026</td> <td> 0.000</td> <td>   -0.000</td> <td>   -0.000</td>\n</tr>\n</table>"
     },
     "metadata": {},
     "output_type": "execute_result",
     "execution_count": 75
    }
   ],
   "source": [
    "import statsmodels.api as sm\n",
    "\n",
    "# Logistic regression model\n",
    "logm1 = sm.GLM(y_train,(sm.add_constant(X_train)), family = sm.families.Binomial())\n",
    "logm1.fit().summary()"
   ],
   "metadata": {
    "collapsed": false,
    "pycharm": {
     "name": "#%%\n",
     "is_executing": false
    }
   }
  },
  {
   "cell_type": "code",
   "execution_count": 76,
   "outputs": [],
   "source": [
    "#Feature Selection Using RFE\n",
    "from sklearn.linear_model import LogisticRegression\n",
    "logreg = LogisticRegression()\n",
    "\n",
    "from sklearn.feature_selection import RFE\n",
    "rfe = RFE(logreg, 15)             # running RFE with 15 variables as output\n",
    "rfe = rfe.fit(X_train, y_train)"
   ],
   "metadata": {
    "collapsed": false,
    "pycharm": {
     "name": "#%%\n",
     "is_executing": false
    }
   }
  },
  {
   "cell_type": "code",
   "execution_count": 77,
   "outputs": [
    {
     "data": {
      "text/plain": "array([ True,  True,  True,  True])"
     },
     "metadata": {},
     "output_type": "execute_result",
     "execution_count": 77
    }
   ],
   "source": [
    "rfe.support_"
   ],
   "metadata": {
    "collapsed": false,
    "pycharm": {
     "name": "#%%\n",
     "is_executing": false
    }
   }
  },
  {
   "cell_type": "code",
   "execution_count": 78,
   "outputs": [
    {
     "data": {
      "text/plain": "[('gasto_tri', True, 1),\n ('ing_tri', True, 1),\n ('tenencia', True, 1),\n ('renta', True, 1)]"
     },
     "metadata": {},
     "output_type": "execute_result",
     "execution_count": 78
    }
   ],
   "source": [
    "list(zip(X_train.columns, rfe.support_, rfe.ranking_))"
   ],
   "metadata": {
    "collapsed": false,
    "pycharm": {
     "name": "#%%\n",
     "is_executing": false
    }
   }
  },
  {
   "cell_type": "code",
   "execution_count": 79,
   "outputs": [
    {
     "data": {
      "text/plain": "Index(['gasto_tri', 'ing_tri', 'tenencia', 'renta'], dtype='object')"
     },
     "metadata": {},
     "output_type": "execute_result",
     "execution_count": 79
    }
   ],
   "source": [
    "col = X_train.columns[rfe.support_]\n",
    "col"
   ],
   "metadata": {
    "collapsed": false,
    "pycharm": {
     "name": "#%%\n",
     "is_executing": false
    }
   }
  },
  {
   "cell_type": "code",
   "execution_count": 80,
   "outputs": [
    {
     "data": {
      "text/plain": "Index([], dtype='object')"
     },
     "metadata": {},
     "output_type": "execute_result",
     "execution_count": 80
    }
   ],
   "source": [
    "X_train.columns[~rfe.support_]"
   ],
   "metadata": {
    "collapsed": false,
    "pycharm": {
     "name": "#%%\n",
     "is_executing": false
    }
   }
  },
  {
   "cell_type": "code",
   "execution_count": 81,
   "outputs": [
    {
     "data": {
      "text/plain": "<class 'statsmodels.iolib.summary.Summary'>\n\"\"\"\n                 Generalized Linear Model Regression Results                  \n==============================================================================\nDep. Variable:              pago_mesp   No. Observations:                30158\nModel:                            GLM   Df Residuals:                    30153\nModel Family:                Binomial   Df Model:                            4\nLink Function:                  logit   Scale:                          1.0000\nMethod:                          IRLS   Log-Likelihood:                -2347.3\nDate:                Wed, 11 Mar 2020   Deviance:                       4694.7\nTime:                        17:45:18   Pearson chi2:                 2.49e+04\nNo. Iterations:                     8                                         \nCovariance Type:            nonrobust                                         \n==============================================================================\n                 coef    std err          z      P>|z|      [0.025      0.975]\n------------------------------------------------------------------------------\nconst         -1.9589      0.138    -14.149      0.000      -2.230      -1.688\ngasto_tri      0.0993      0.058      1.705      0.088      -0.015       0.213\ning_tri       -0.2552      0.179     -1.424      0.154      -0.607       0.096\ntenencia      -0.7360      0.047    -15.737      0.000      -0.828      -0.644\nrenta         -0.0003   6.66e-05     -4.026      0.000      -0.000      -0.000\n==============================================================================\n\"\"\"",
      "text/html": "<table class=\"simpletable\">\n<caption>Generalized Linear Model Regression Results</caption>\n<tr>\n  <th>Dep. Variable:</th>       <td>pago_mesp</td>    <th>  No. Observations:  </th>  <td> 30158</td> \n</tr>\n<tr>\n  <th>Model:</th>                  <td>GLM</td>       <th>  Df Residuals:      </th>  <td> 30153</td> \n</tr>\n<tr>\n  <th>Model Family:</th>        <td>Binomial</td>     <th>  Df Model:          </th>  <td>     4</td> \n</tr>\n<tr>\n  <th>Link Function:</th>         <td>logit</td>      <th>  Scale:             </th> <td>  1.0000</td>\n</tr>\n<tr>\n  <th>Method:</th>                <td>IRLS</td>       <th>  Log-Likelihood:    </th> <td> -2347.3</td>\n</tr>\n<tr>\n  <th>Date:</th>            <td>Wed, 11 Mar 2020</td> <th>  Deviance:          </th> <td>  4694.7</td>\n</tr>\n<tr>\n  <th>Time:</th>                <td>17:45:18</td>     <th>  Pearson chi2:      </th> <td>2.49e+04</td>\n</tr>\n<tr>\n  <th>No. Iterations:</th>          <td>8</td>        <th>                     </th>     <td> </td>   \n</tr>\n<tr>\n  <th>Covariance Type:</th>     <td>nonrobust</td>    <th>                     </th>     <td> </td>   \n</tr>\n</table>\n<table class=\"simpletable\">\n<tr>\n      <td></td>         <th>coef</th>     <th>std err</th>      <th>z</th>      <th>P>|z|</th>  <th>[0.025</th>    <th>0.975]</th>  \n</tr>\n<tr>\n  <th>const</th>     <td>   -1.9589</td> <td>    0.138</td> <td>  -14.149</td> <td> 0.000</td> <td>   -2.230</td> <td>   -1.688</td>\n</tr>\n<tr>\n  <th>gasto_tri</th> <td>    0.0993</td> <td>    0.058</td> <td>    1.705</td> <td> 0.088</td> <td>   -0.015</td> <td>    0.213</td>\n</tr>\n<tr>\n  <th>ing_tri</th>   <td>   -0.2552</td> <td>    0.179</td> <td>   -1.424</td> <td> 0.154</td> <td>   -0.607</td> <td>    0.096</td>\n</tr>\n<tr>\n  <th>tenencia</th>  <td>   -0.7360</td> <td>    0.047</td> <td>  -15.737</td> <td> 0.000</td> <td>   -0.828</td> <td>   -0.644</td>\n</tr>\n<tr>\n  <th>renta</th>     <td>   -0.0003</td> <td> 6.66e-05</td> <td>   -4.026</td> <td> 0.000</td> <td>   -0.000</td> <td>   -0.000</td>\n</tr>\n</table>"
     },
     "metadata": {},
     "output_type": "execute_result",
     "execution_count": 81
    }
   ],
   "source": [
    "#Assessing the model with StatsModels\n",
    "X_train_sm = sm.add_constant(X_train[col])\n",
    "logm2 = sm.GLM(y_train,X_train_sm, family = sm.families.Binomial())\n",
    "res = logm2.fit()\n",
    "res.summary()"
   ],
   "metadata": {
    "collapsed": false,
    "pycharm": {
     "name": "#%%\n",
     "is_executing": false
    }
   }
  },
  {
   "cell_type": "code",
   "execution_count": 82,
   "outputs": [
    {
     "data": {
      "text/plain": "27352    0.007572\n4523     0.023144\n10580    0.007754\n31273    0.007398\n10702    0.015130\n32942    0.007429\n18316    0.022701\n41245    0.007396\n26254    0.007936\n39215    0.029634\ndtype: float64"
     },
     "metadata": {},
     "output_type": "execute_result",
     "execution_count": 82
    }
   ],
   "source": [
    "# Getting the predicted values on the train set\n",
    "y_train_pred = res.predict(X_train_sm)\n",
    "y_train_pred[:10]"
   ],
   "metadata": {
    "collapsed": false,
    "pycharm": {
     "name": "#%%\n",
     "is_executing": false
    }
   }
  },
  {
   "cell_type": "code",
   "execution_count": 83,
   "outputs": [
    {
     "data": {
      "text/plain": "array([0.0075721 , 0.02314366, 0.00775393, 0.00739758, 0.01513006,\n       0.00742895, 0.02270051, 0.00739645, 0.00793649, 0.02963353])"
     },
     "metadata": {},
     "output_type": "execute_result",
     "execution_count": 83
    }
   ],
   "source": [
    "y_train_pred = y_train_pred.values.reshape(-1)\n",
    "y_train_pred[:10]"
   ],
   "metadata": {
    "collapsed": false,
    "pycharm": {
     "name": "#%%\n",
     "is_executing": false
    }
   }
  },
  {
   "cell_type": "code",
   "execution_count": 84,
   "outputs": [
    {
     "data": {
      "text/plain": "   Converted  Converted_prob  Prospect ID\n0          0        0.007572        27352\n1          0        0.023144         4523\n2          0        0.007754        10580\n3          0        0.007398        31273\n4          0        0.015130        10702",
      "text/html": "<div>\n<style scoped>\n    .dataframe tbody tr th:only-of-type {\n        vertical-align: middle;\n    }\n\n    .dataframe tbody tr th {\n        vertical-align: top;\n    }\n\n    .dataframe thead th {\n        text-align: right;\n    }\n</style>\n<table border=\"1\" class=\"dataframe\">\n  <thead>\n    <tr style=\"text-align: right;\">\n      <th></th>\n      <th>Converted</th>\n      <th>Converted_prob</th>\n      <th>Prospect ID</th>\n    </tr>\n  </thead>\n  <tbody>\n    <tr>\n      <th>0</th>\n      <td>0</td>\n      <td>0.007572</td>\n      <td>27352</td>\n    </tr>\n    <tr>\n      <th>1</th>\n      <td>0</td>\n      <td>0.023144</td>\n      <td>4523</td>\n    </tr>\n    <tr>\n      <th>2</th>\n      <td>0</td>\n      <td>0.007754</td>\n      <td>10580</td>\n    </tr>\n    <tr>\n      <th>3</th>\n      <td>0</td>\n      <td>0.007398</td>\n      <td>31273</td>\n    </tr>\n    <tr>\n      <th>4</th>\n      <td>0</td>\n      <td>0.015130</td>\n      <td>10702</td>\n    </tr>\n  </tbody>\n</table>\n</div>"
     },
     "metadata": {},
     "output_type": "execute_result",
     "execution_count": 84
    }
   ],
   "source": [
    "#Creating a dataframe with the actual churn flag and the predicted probabilities\n",
    "y_train_pred_final = pd.DataFrame({'Converted':y_train.values, 'Converted_prob':y_train_pred})\n",
    "y_train_pred_final['Prospect ID'] = y_train.index\n",
    "y_train_pred_final.head()"
   ],
   "metadata": {
    "collapsed": false,
    "pycharm": {
     "name": "#%%\n",
     "is_executing": false
    }
   }
  },
  {
   "cell_type": "code",
   "execution_count": 85,
   "outputs": [
    {
     "data": {
      "text/plain": "   Converted  Converted_prob  Prospect ID  predicted\n0          0        0.007572        27352          0\n1          0        0.023144         4523          0\n2          0        0.007754        10580          0\n3          0        0.007398        31273          0\n4          0        0.015130        10702          0",
      "text/html": "<div>\n<style scoped>\n    .dataframe tbody tr th:only-of-type {\n        vertical-align: middle;\n    }\n\n    .dataframe tbody tr th {\n        vertical-align: top;\n    }\n\n    .dataframe thead th {\n        text-align: right;\n    }\n</style>\n<table border=\"1\" class=\"dataframe\">\n  <thead>\n    <tr style=\"text-align: right;\">\n      <th></th>\n      <th>Converted</th>\n      <th>Converted_prob</th>\n      <th>Prospect ID</th>\n      <th>predicted</th>\n    </tr>\n  </thead>\n  <tbody>\n    <tr>\n      <th>0</th>\n      <td>0</td>\n      <td>0.007572</td>\n      <td>27352</td>\n      <td>0</td>\n    </tr>\n    <tr>\n      <th>1</th>\n      <td>0</td>\n      <td>0.023144</td>\n      <td>4523</td>\n      <td>0</td>\n    </tr>\n    <tr>\n      <th>2</th>\n      <td>0</td>\n      <td>0.007754</td>\n      <td>10580</td>\n      <td>0</td>\n    </tr>\n    <tr>\n      <th>3</th>\n      <td>0</td>\n      <td>0.007398</td>\n      <td>31273</td>\n      <td>0</td>\n    </tr>\n    <tr>\n      <th>4</th>\n      <td>0</td>\n      <td>0.015130</td>\n      <td>10702</td>\n      <td>0</td>\n    </tr>\n  </tbody>\n</table>\n</div>"
     },
     "metadata": {},
     "output_type": "execute_result",
     "execution_count": 85
    }
   ],
   "source": [
    "#Creating new column 'predicted' with 1 if Churn_Prob > 0.5 else 0\n",
    "y_train_pred_final['predicted'] = y_train_pred_final.Converted_prob.map(lambda x: 1 if x > 0.5 else 0)\n",
    "\n",
    "# Let's see the head\n",
    "y_train_pred_final.head()"
   ],
   "metadata": {
    "collapsed": false,
    "pycharm": {
     "name": "#%%\n",
     "is_executing": false
    }
   }
  },
  {
   "cell_type": "code",
   "execution_count": 86,
   "outputs": [
    {
     "name": "stdout",
     "text": [
      "[[29668     0]\n",
      " [  490     0]]\n"
     ],
     "output_type": "stream"
    }
   ],
   "source": [
    "from sklearn import metrics\n",
    "\n",
    "# Confusion matrix \n",
    "confusion = metrics.confusion_matrix(y_train_pred_final.Converted, y_train_pred_final.predicted )\n",
    "print(confusion)\n",
    "# Predicted     not_churn    churn\n",
    "# Actual\n",
    "# not_churn        3270      365\n",
    "# churn            579       708  "
   ],
   "metadata": {
    "collapsed": false,
    "pycharm": {
     "name": "#%%\n",
     "is_executing": false
    }
   }
  },
  {
   "cell_type": "code",
   "execution_count": 87,
   "outputs": [
    {
     "name": "stdout",
     "text": [
      "0.983752238212083\n"
     ],
     "output_type": "stream"
    }
   ],
   "source": [
    "# Let's check the overall accuracy.\n",
    "print(metrics.accuracy_score(y_train_pred_final.Converted, y_train_pred_final.predicted))"
   ],
   "metadata": {
    "collapsed": false,
    "pycharm": {
     "name": "#%%\n",
     "is_executing": false
    }
   }
  },
  {
   "cell_type": "code",
   "execution_count": 88,
   "outputs": [
    {
     "data": {
      "text/plain": "    Features   VIF\n0  gasto_tri  1.16\n1    ing_tri  1.16\n2   tenencia  1.01\n3      renta  1.01",
      "text/html": "<div>\n<style scoped>\n    .dataframe tbody tr th:only-of-type {\n        vertical-align: middle;\n    }\n\n    .dataframe tbody tr th {\n        vertical-align: top;\n    }\n\n    .dataframe thead th {\n        text-align: right;\n    }\n</style>\n<table border=\"1\" class=\"dataframe\">\n  <thead>\n    <tr style=\"text-align: right;\">\n      <th></th>\n      <th>Features</th>\n      <th>VIF</th>\n    </tr>\n  </thead>\n  <tbody>\n    <tr>\n      <th>0</th>\n      <td>gasto_tri</td>\n      <td>1.16</td>\n    </tr>\n    <tr>\n      <th>1</th>\n      <td>ing_tri</td>\n      <td>1.16</td>\n    </tr>\n    <tr>\n      <th>2</th>\n      <td>tenencia</td>\n      <td>1.01</td>\n    </tr>\n    <tr>\n      <th>3</th>\n      <td>renta</td>\n      <td>1.01</td>\n    </tr>\n  </tbody>\n</table>\n</div>"
     },
     "metadata": {},
     "output_type": "execute_result",
     "execution_count": 88
    }
   ],
   "source": [
    "#Checking VIFs\n",
    "# Check for the VIF values of the feature variables. \n",
    "from statsmodels.stats.outliers_influence import variance_inflation_factor\n",
    "\n",
    "# Create a dataframe that will contain the names of all the feature variables and their respective VIFs\n",
    "vif = pd.DataFrame()\n",
    "vif['Features'] = X_train[col].columns\n",
    "vif['VIF'] = [variance_inflation_factor(X_train[col].values, i) for i in range(X_train[col].shape[1])]\n",
    "vif['VIF'] = round(vif['VIF'], 2)\n",
    "vif = vif.sort_values(by = \"VIF\", ascending = False)\n",
    "vif"
   ],
   "metadata": {
    "collapsed": false,
    "pycharm": {
     "name": "#%%\n",
     "is_executing": false
    }
   }
  },
  {
   "cell_type": "markdown",
   "source": [
    "### Metrics beyond simply accuracy"
   ],
   "metadata": {
    "collapsed": false
   }
  },
  {
   "cell_type": "code",
   "execution_count": 89,
   "outputs": [],
   "source": [
    "TP = confusion[1,1] # true positive \n",
    "TN = confusion[0,0] # true negatives\n",
    "FP = confusion[0,1] # false positives\n",
    "FN = confusion[1,0] # false negatives"
   ],
   "metadata": {
    "collapsed": false,
    "pycharm": {
     "name": "#%%\n",
     "is_executing": false
    }
   }
  },
  {
   "cell_type": "code",
   "execution_count": 90,
   "outputs": [
    {
     "data": {
      "text/plain": "0.0"
     },
     "metadata": {},
     "output_type": "execute_result",
     "execution_count": 90
    }
   ],
   "source": [
    "# Let's see the sensitivity of our logistic regression model\n",
    "TP / float(TP+FN)"
   ],
   "metadata": {
    "collapsed": false,
    "pycharm": {
     "name": "#%%\n",
     "is_executing": false
    }
   }
  },
  {
   "cell_type": "code",
   "execution_count": 91,
   "outputs": [
    {
     "data": {
      "text/plain": "1.0"
     },
     "metadata": {},
     "output_type": "execute_result",
     "execution_count": 91
    }
   ],
   "source": [
    "# Let us calculate specificity\n",
    "TN / float(TN+FP)"
   ],
   "metadata": {
    "collapsed": false,
    "pycharm": {
     "name": "#%%\n",
     "is_executing": false
    }
   }
  },
  {
   "cell_type": "code",
   "execution_count": 92,
   "outputs": [
    {
     "name": "stdout",
     "text": [
      "0.0\n"
     ],
     "output_type": "stream"
    }
   ],
   "source": [
    "# Calculate false postive rate - predicting churn when customer does not have churned\n",
    "print(FP/ float(TN+FP))"
   ],
   "metadata": {
    "collapsed": false,
    "pycharm": {
     "name": "#%%\n",
     "is_executing": false
    }
   }
  },
  {
   "cell_type": "code",
   "execution_count": 93,
   "outputs": [
    {
     "name": "stdout",
     "text": [
      "nan\n"
     ],
     "output_type": "stream"
    }
   ],
   "source": [
    "# positive predictive value \n",
    "print (TP / float(TP+FP))"
   ],
   "metadata": {
    "collapsed": false,
    "pycharm": {
     "name": "#%%\n",
     "is_executing": false
    }
   }
  },
  {
   "cell_type": "code",
   "execution_count": 94,
   "outputs": [
    {
     "name": "stdout",
     "text": [
      "0.983752238212083\n"
     ],
     "output_type": "stream"
    }
   ],
   "source": [
    "# Negative predictive value\n",
    "print (TN / float(TN+ FN))"
   ],
   "metadata": {
    "collapsed": false,
    "pycharm": {
     "name": "#%%\n",
     "is_executing": false
    }
   }
  },
  {
   "cell_type": "code",
   "execution_count": 95,
   "outputs": [],
   "source": [
    "#ROC Curve\n",
    "def draw_roc( actual, probs ):\n",
    "    fpr, tpr, thresholds = metrics.roc_curve( actual, probs,\n",
    "                                              drop_intermediate = False )\n",
    "    auc_score = metrics.roc_auc_score( actual, probs )\n",
    "    plt.figure(figsize=(5, 5))\n",
    "    plt.plot( fpr, tpr, label='ROC curve (area = %0.2f)' % auc_score )\n",
    "    plt.plot([0, 1], [0, 1], 'k--')\n",
    "    plt.xlim([0.0, 1.0])\n",
    "    plt.ylim([0.0, 1.05])\n",
    "    plt.xlabel('False Positive Rate or [1 - True Negative Rate]')\n",
    "    plt.ylabel('True Positive Rate')\n",
    "    plt.title('Receiver operating characteristic example')\n",
    "    plt.legend(loc=\"lower right\")\n",
    "    plt.show()\n",
    "\n",
    "    return None"
   ],
   "metadata": {
    "collapsed": false,
    "pycharm": {
     "name": "#%%\n",
     "is_executing": false
    }
   }
  },
  {
   "cell_type": "code",
   "execution_count": 96,
   "outputs": [],
   "source": [
    "fpr, tpr, thresholds = metrics.roc_curve( y_train_pred_final.Converted, y_train_pred_final.Converted_prob, drop_intermediate = False )\n"
   ],
   "metadata": {
    "collapsed": false,
    "pycharm": {
     "name": "#%%\n",
     "is_executing": false
    }
   }
  },
  {
   "cell_type": "code",
   "execution_count": 97,
   "outputs": [
    {
     "data": {
      "text/plain": "<Figure size 360x360 with 1 Axes>",
      "image/png": "[encoded data removed]"
     },
     "metadata": {
      "needs_background": "light"
     },
     "output_type": "display_data"
    }
   ],
   "source": [
    "draw_roc(y_train_pred_final.Converted, y_train_pred_final.Converted_prob)"
   ],
   "metadata": {
    "collapsed": false,
    "pycharm": {
     "name": "#%%\n",
     "is_executing": false
    }
   }
  },
  {
   "cell_type": "code",
   "execution_count": 98,
   "outputs": [],
   "source": [
    "#me falto el paso 10\n"
   ],
   "metadata": {
    "collapsed": false,
    "pycharm": {
     "name": "#%%\n",
     "is_executing": false
    }
   }
  }
 ],
 "metadata": {
  "kernelspec": {
   "display_name": "Python 3",
   "language": "python",
   "name": "python3"
  },
  "language_info": {
   "codemirror_mode": {
    "name": "ipython",
    "version": 3
   },
   "file_extension": ".py",
   "mimetype": "text/x-python",
   "name": "python",
   "nbconvert_exporter": "python",
   "pygments_lexer": "ipython3",
   "version": "3.7.4"
  },
  "pycharm": {
   "stem_cell": {
    "cell_type": "raw",
    "source": [],
    "metadata": {
     "collapsed": false
    }
   }
  }
 },
 "nbformat": 4,
 "nbformat_minor": 1
}