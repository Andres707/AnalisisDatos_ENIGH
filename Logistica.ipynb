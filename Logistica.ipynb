{
 "cells": [
  {
   "cell_type": "markdown",
   "metadata": {
    "collapsed": true,
    "pycharm": {
     "name": "#%% md\n"
    }
   },
   "source": [
    "# RE"
   ]
  },
  {
   "cell_type": "code",
   "execution_count": 6,
   "outputs": [],
   "source": [
    "import pandas as pd\n",
    "import matplotlib.pyplot as plt\n",
    "import numpy as np\n",
    "import seaborn as sns\n",
    "from scipy.stats import norm\n",
    "from sklearn.preprocessing import StandardScaler\n",
    "from scipy import stats\n",
    "import warnings\n",
    "warnings.filterwarnings('ignore')\n",
    "%matplotlib inline"
   ],
   "metadata": {
    "collapsed": false,
    "pycharm": {
     "name": "#%%\n",
     "is_executing": false
    }
   }
  },
  {
   "cell_type": "code",
   "execution_count": 7,
   "outputs": [
    {
     "data": {
      "text/plain": "         folioviv tipo_viv  mat_pared  mat_techos mat_pisos  antiguedad  \\\n0       100298502        1          8          10         3          40   \n1       100298504        1          8          10         3           9   \n2       100298506        1          8          10         3           5   \n3       100318603        1          8          10         3          25   \n4       100318605        1          8          10         3          35   \n...           ...      ...        ...         ...       ...         ...   \n69164  3260583804        1          7          10         2          30   \n69165  3260583805        1          1           3         2          11   \n69166  3260583806        1          7           3         2          41   \n69167  3260583907        1          7           3         2          20   \n69168  3260583908        1          7          10         2          10   \n\n       antigua_ne  cocina  cocina_dor  cuart_dorm  ...  tot_hom  tot_muj  \\\n0             NaN       1         2.0           5  ...        2        2   \n1             NaN       1         2.0           3  ...        1        2   \n2             NaN       1         2.0           4  ...        2        1   \n3             NaN       1         2.0           5  ...        3        3   \n4             NaN       1         2.0           3  ...        2        2   \n...           ...     ...         ...         ...  ...      ...      ...   \n69164         NaN       1         2.0           3  ...        2        1   \n69165         NaN       1         2.0           3  ...        3        2   \n69166         NaN       1         2.0           2  ...        1        6   \n69167         NaN       1         2.0           2  ...        2        3   \n69168         NaN       1         2.0           1  ...        1        1   \n\n       tot_hog  ubica_geo   ageb  tam_loc  est_socio  est_dis    upm  factor  \n0            1   10010000  000-0        1          4        3    320     212  \n1            1   10010000  000-0        1          4        3    320     212  \n2            1   10010000  000-0        1          4        3    320     212  \n3            2   10010000  000-0        1          4        3    330     237  \n4            1   10010000  000-0        1          4        3    330     237  \n...        ...        ...    ...      ...        ...      ...    ...     ...  \n69164        1  320420000  000-0        4          2      536  78870     194  \n69165        1  320420000  000-0        4          2      536  78870     194  \n69166        1  320420000  000-0        4          2      536  78870     194  \n69167        1  320420000  000-0        4          2      536  78870     194  \n69168        1  320420000  000-0        4          2      536  78870     194  \n\n[69169 rows x 64 columns]",
      "text/html": "<div>\n<style scoped>\n    .dataframe tbody tr th:only-of-type {\n        vertical-align: middle;\n    }\n\n    .dataframe tbody tr th {\n        vertical-align: top;\n    }\n\n    .dataframe thead th {\n        text-align: right;\n    }\n</style>\n<table border=\"1\" class=\"dataframe\">\n  <thead>\n    <tr style=\"text-align: right;\">\n      <th></th>\n      <th>folioviv</th>\n      <th>tipo_viv</th>\n      <th>mat_pared</th>\n      <th>mat_techos</th>\n      <th>mat_pisos</th>\n      <th>antiguedad</th>\n      <th>antigua_ne</th>\n      <th>cocina</th>\n      <th>cocina_dor</th>\n      <th>cuart_dorm</th>\n      <th>...</th>\n      <th>tot_hom</th>\n      <th>tot_muj</th>\n      <th>tot_hog</th>\n      <th>ubica_geo</th>\n      <th>ageb</th>\n      <th>tam_loc</th>\n      <th>est_socio</th>\n      <th>est_dis</th>\n      <th>upm</th>\n      <th>factor</th>\n    </tr>\n  </thead>\n  <tbody>\n    <tr>\n      <th>0</th>\n      <td>100298502</td>\n      <td>1</td>\n      <td>8</td>\n      <td>10</td>\n      <td>3</td>\n      <td>40</td>\n      <td>NaN</td>\n      <td>1</td>\n      <td>2.0</td>\n      <td>5</td>\n      <td>...</td>\n      <td>2</td>\n      <td>2</td>\n      <td>1</td>\n      <td>10010000</td>\n      <td>000-0</td>\n      <td>1</td>\n      <td>4</td>\n      <td>3</td>\n      <td>320</td>\n      <td>212</td>\n    </tr>\n    <tr>\n      <th>1</th>\n      <td>100298504</td>\n      <td>1</td>\n      <td>8</td>\n      <td>10</td>\n      <td>3</td>\n      <td>9</td>\n      <td>NaN</td>\n      <td>1</td>\n      <td>2.0</td>\n      <td>3</td>\n      <td>...</td>\n      <td>1</td>\n      <td>2</td>\n      <td>1</td>\n      <td>10010000</td>\n      <td>000-0</td>\n      <td>1</td>\n      <td>4</td>\n      <td>3</td>\n      <td>320</td>\n      <td>212</td>\n    </tr>\n    <tr>\n      <th>2</th>\n      <td>100298506</td>\n      <td>1</td>\n      <td>8</td>\n      <td>10</td>\n      <td>3</td>\n      <td>5</td>\n      <td>NaN</td>\n      <td>1</td>\n      <td>2.0</td>\n      <td>4</td>\n      <td>...</td>\n      <td>2</td>\n      <td>1</td>\n      <td>1</td>\n      <td>10010000</td>\n      <td>000-0</td>\n      <td>1</td>\n      <td>4</td>\n      <td>3</td>\n      <td>320</td>\n      <td>212</td>\n    </tr>\n    <tr>\n      <th>3</th>\n      <td>100318603</td>\n      <td>1</td>\n      <td>8</td>\n      <td>10</td>\n      <td>3</td>\n      <td>25</td>\n      <td>NaN</td>\n      <td>1</td>\n      <td>2.0</td>\n      <td>5</td>\n      <td>...</td>\n      <td>3</td>\n      <td>3</td>\n      <td>2</td>\n      <td>10010000</td>\n      <td>000-0</td>\n      <td>1</td>\n      <td>4</td>\n      <td>3</td>\n      <td>330</td>\n      <td>237</td>\n    </tr>\n    <tr>\n      <th>4</th>\n      <td>100318605</td>\n      <td>1</td>\n      <td>8</td>\n      <td>10</td>\n      <td>3</td>\n      <td>35</td>\n      <td>NaN</td>\n      <td>1</td>\n      <td>2.0</td>\n      <td>3</td>\n      <td>...</td>\n      <td>2</td>\n      <td>2</td>\n      <td>1</td>\n      <td>10010000</td>\n      <td>000-0</td>\n      <td>1</td>\n      <td>4</td>\n      <td>3</td>\n      <td>330</td>\n      <td>237</td>\n    </tr>\n    <tr>\n      <th>...</th>\n      <td>...</td>\n      <td>...</td>\n      <td>...</td>\n      <td>...</td>\n      <td>...</td>\n      <td>...</td>\n      <td>...</td>\n      <td>...</td>\n      <td>...</td>\n      <td>...</td>\n      <td>...</td>\n      <td>...</td>\n      <td>...</td>\n      <td>...</td>\n      <td>...</td>\n      <td>...</td>\n      <td>...</td>\n      <td>...</td>\n      <td>...</td>\n      <td>...</td>\n      <td>...</td>\n    </tr>\n    <tr>\n      <th>69164</th>\n      <td>3260583804</td>\n      <td>1</td>\n      <td>7</td>\n      <td>10</td>\n      <td>2</td>\n      <td>30</td>\n      <td>NaN</td>\n      <td>1</td>\n      <td>2.0</td>\n      <td>3</td>\n      <td>...</td>\n      <td>2</td>\n      <td>1</td>\n      <td>1</td>\n      <td>320420000</td>\n      <td>000-0</td>\n      <td>4</td>\n      <td>2</td>\n      <td>536</td>\n      <td>78870</td>\n      <td>194</td>\n    </tr>\n    <tr>\n      <th>69165</th>\n      <td>3260583805</td>\n      <td>1</td>\n      <td>1</td>\n      <td>3</td>\n      <td>2</td>\n      <td>11</td>\n      <td>NaN</td>\n      <td>1</td>\n      <td>2.0</td>\n      <td>3</td>\n      <td>...</td>\n      <td>3</td>\n      <td>2</td>\n      <td>1</td>\n      <td>320420000</td>\n      <td>000-0</td>\n      <td>4</td>\n      <td>2</td>\n      <td>536</td>\n      <td>78870</td>\n      <td>194</td>\n    </tr>\n    <tr>\n      <th>69166</th>\n      <td>3260583806</td>\n      <td>1</td>\n      <td>7</td>\n      <td>3</td>\n      <td>2</td>\n      <td>41</td>\n      <td>NaN</td>\n      <td>1</td>\n      <td>2.0</td>\n      <td>2</td>\n      <td>...</td>\n      <td>1</td>\n      <td>6</td>\n      <td>1</td>\n      <td>320420000</td>\n      <td>000-0</td>\n      <td>4</td>\n      <td>2</td>\n      <td>536</td>\n      <td>78870</td>\n      <td>194</td>\n    </tr>\n    <tr>\n      <th>69167</th>\n      <td>3260583907</td>\n      <td>1</td>\n      <td>7</td>\n      <td>3</td>\n      <td>2</td>\n      <td>20</td>\n      <td>NaN</td>\n      <td>1</td>\n      <td>2.0</td>\n      <td>2</td>\n      <td>...</td>\n      <td>2</td>\n      <td>3</td>\n      <td>1</td>\n      <td>320420000</td>\n      <td>000-0</td>\n      <td>4</td>\n      <td>2</td>\n      <td>536</td>\n      <td>78870</td>\n      <td>194</td>\n    </tr>\n    <tr>\n      <th>69168</th>\n      <td>3260583908</td>\n      <td>1</td>\n      <td>7</td>\n      <td>10</td>\n      <td>2</td>\n      <td>10</td>\n      <td>NaN</td>\n      <td>1</td>\n      <td>2.0</td>\n      <td>1</td>\n      <td>...</td>\n      <td>1</td>\n      <td>1</td>\n      <td>1</td>\n      <td>320420000</td>\n      <td>000-0</td>\n      <td>4</td>\n      <td>2</td>\n      <td>536</td>\n      <td>78870</td>\n      <td>194</td>\n    </tr>\n  </tbody>\n</table>\n<p>69169 rows × 64 columns</p>\n</div>"
     },
     "metadata": {},
     "output_type": "execute_result",
     "execution_count": 7
    }
   ],
   "source": [
    "ds_vivi = pd.read_csv('datos/conjunto_de_datos_viviendas_enigh_2016_ns.csv')\n",
    "ds_vivi"
   ],
   "metadata": {
    "collapsed": false,
    "pycharm": {
     "name": "#%%\n",
     "is_executing": false
    }
   }
  },
  {
   "cell_type": "code",
   "execution_count": 8,
   "outputs": [
    {
     "data": {
      "text/plain": "         folioviv  pago_mesp\n0       100298502        NaN\n1       100298504        NaN\n2       100298506        NaN\n3       100318603        NaN\n4       100318605        1.0\n...           ...        ...\n69164  3260583804        NaN\n69165  3260583805        NaN\n69166  3260583806        NaN\n69167  3260583907        NaN\n69168  3260583908        NaN\n\n[69169 rows x 2 columns]",
      "text/html": "<div>\n<style scoped>\n    .dataframe tbody tr th:only-of-type {\n        vertical-align: middle;\n    }\n\n    .dataframe tbody tr th {\n        vertical-align: top;\n    }\n\n    .dataframe thead th {\n        text-align: right;\n    }\n</style>\n<table border=\"1\" class=\"dataframe\">\n  <thead>\n    <tr style=\"text-align: right;\">\n      <th></th>\n      <th>folioviv</th>\n      <th>pago_mesp</th>\n    </tr>\n  </thead>\n  <tbody>\n    <tr>\n      <th>0</th>\n      <td>100298502</td>\n      <td>NaN</td>\n    </tr>\n    <tr>\n      <th>1</th>\n      <td>100298504</td>\n      <td>NaN</td>\n    </tr>\n    <tr>\n      <th>2</th>\n      <td>100298506</td>\n      <td>NaN</td>\n    </tr>\n    <tr>\n      <th>3</th>\n      <td>100318603</td>\n      <td>NaN</td>\n    </tr>\n    <tr>\n      <th>4</th>\n      <td>100318605</td>\n      <td>1.0</td>\n    </tr>\n    <tr>\n      <th>...</th>\n      <td>...</td>\n      <td>...</td>\n    </tr>\n    <tr>\n      <th>69164</th>\n      <td>3260583804</td>\n      <td>NaN</td>\n    </tr>\n    <tr>\n      <th>69165</th>\n      <td>3260583805</td>\n      <td>NaN</td>\n    </tr>\n    <tr>\n      <th>69166</th>\n      <td>3260583806</td>\n      <td>NaN</td>\n    </tr>\n    <tr>\n      <th>69167</th>\n      <td>3260583907</td>\n      <td>NaN</td>\n    </tr>\n    <tr>\n      <th>69168</th>\n      <td>3260583908</td>\n      <td>NaN</td>\n    </tr>\n  </tbody>\n</table>\n<p>69169 rows × 2 columns</p>\n</div>"
     },
     "metadata": {},
     "output_type": "execute_result",
     "execution_count": 8
    }
   ],
   "source": [
    "vivi = ds_vivi[['folioviv', 'pago_mesp']]\n",
    "vivi"
   ],
   "metadata": {
    "collapsed": false,
    "pycharm": {
     "name": "#%%\n",
     "is_executing": false
    }
   }
  },
  {
   "cell_type": "code",
   "execution_count": 18,
   "outputs": [],
   "source": [
    "vivi['pago_mesp'] = vivi['pago_mesp'].replace(1, 0)\n",
    "vivi['pago_mesp'] = vivi['pago_mesp'].replace(2, 1)\n",
    "vivi['pago_mesp'].fillna(0, inplace=True)"
   ],
   "metadata": {
    "collapsed": false,
    "pycharm": {
     "name": "#%%\n",
     "is_executing": false
    }
   }
  },
  {
   "cell_type": "code",
   "execution_count": 29,
   "outputs": [],
   "source": [
    "vivi['pago_mesp']= vivi['pago_mesp'].astype('int64')"
   ],
   "metadata": {
    "collapsed": false,
    "pycharm": {
     "name": "#%%\n",
     "is_executing": false
    }
   }
  },
  {
   "cell_type": "code",
   "execution_count": 33,
   "outputs": [
    {
     "name": "stdout",
     "text": [
      "<class 'pandas.core.frame.DataFrame'>\n",
      "RangeIndex: 69169 entries, 0 to 69168\n",
      "Data columns (total 2 columns):\n",
      " #   Column     Non-Null Count  Dtype\n",
      "---  ------     --------------  -----\n",
      " 0   folioviv   69169 non-null  int64\n",
      " 1   pago_mesp  69169 non-null  int64\n",
      "dtypes: int64(2)\n",
      "memory usage: 1.1 MB\n"
     ],
     "output_type": "stream"
    }
   ],
   "source": [
    "vivi.info()"
   ],
   "metadata": {
    "collapsed": false,
    "pycharm": {
     "name": "#%%\n",
     "is_executing": false
    }
   }
  },
  {
   "cell_type": "code",
   "execution_count": 36,
   "outputs": [
    {
     "data": {
      "text/plain": "folioviv     0\npago_mesp    0\ndtype: int64"
     },
     "metadata": {},
     "output_type": "execute_result",
     "execution_count": 36
    }
   ],
   "source": [
    "vivi.isnull().sum()"
   ],
   "metadata": {
    "collapsed": false,
    "pycharm": {
     "name": "#%%\n",
     "is_executing": false
    }
   }
  },
  {
   "cell_type": "code",
   "execution_count": 34,
   "outputs": [
    {
     "data": {
      "text/plain": "           folioviv  foliohog clave tipo_gasto  mes_dia  forma_pag1  \\\n0         100031904         1  H102         G1        0           1   \n1         100031904         1  H110         G1        0           1   \n2         100031904         1  J044         G1        0           1   \n3         100031905         1  C001         G1        0           6   \n4         100031905         1  C004         G1        0           6   \n...             ...       ...   ...        ...      ...         ...   \n1048570  1960390521         1  I026         G1        0           1   \n1048571  1960390521         1  N014         G1        0           0   \n1048572  1960390523         1  C001         G1        0           1   \n1048573  1960390523         1  C003         G1        0           1   \n1048574  1960390523         1  C004         G1        0           1   \n\n         forma_pag2  forma_pag3  lugar_comp  orga_inst  ...  inmujer  inst_1  \\\n0                 0           0           5          0  ...    500.0     NaN   \n1                 0           0           7          0  ...      NaN     NaN   \n2                 0           0           5          0  ...     -1.0     1.0   \n3                 0           0           9          0  ...      NaN     NaN   \n4                 0           0           9          0  ...      NaN     NaN   \n...             ...         ...         ...        ...  ...      ...     ...   \n1048570           0           0           3          0  ...      NaN     NaN   \n1048571           0           0           0          0  ...      NaN     NaN   \n1048572           0           0           6          0  ...      NaN     NaN   \n1048573           0           0           6          0  ...      NaN     NaN   \n1048574           0           0           6          0  ...      NaN     NaN   \n\n         inst_2  num_meses  num_pagos  ultim_pago  gasto_tri  gasto_nm  \\\n0           NaN        NaN        NaN         NaN     489.13       NaN   \n1           NaN        NaN        NaN         NaN     684.78       NaN   \n2           NaN        NaN        NaN         NaN      97.82       NaN   \n3           NaN        NaN        NaN         NaN     609.67       NaN   \n4           NaN        NaN        NaN         NaN     348.38       NaN   \n...         ...        ...        ...         ...        ...       ...   \n1048570     NaN        NaN        NaN         NaN      24.45       NaN   \n1048571     NaN        NaN        NaN         NaN      39.13       NaN   \n1048572     NaN        NaN        NaN         NaN      87.09       NaN   \n1048573     NaN        NaN        NaN         NaN      63.87       NaN   \n1048574     NaN        NaN        NaN         NaN      98.70       NaN   \n\n         gas_nm_tri  imujer_tri  \n0               NaN      489.13  \n1               NaN         NaN  \n2               NaN       -1.00  \n3               NaN         NaN  \n4               NaN         NaN  \n...             ...         ...  \n1048570         NaN         NaN  \n1048571         NaN         NaN  \n1048572         NaN         NaN  \n1048573         NaN         NaN  \n1048574         NaN         NaN  \n\n[1048575 rows x 27 columns]",
      "text/html": "<div>\n<style scoped>\n    .dataframe tbody tr th:only-of-type {\n        vertical-align: middle;\n    }\n\n    .dataframe tbody tr th {\n        vertical-align: top;\n    }\n\n    .dataframe thead th {\n        text-align: right;\n    }\n</style>\n<table border=\"1\" class=\"dataframe\">\n  <thead>\n    <tr style=\"text-align: right;\">\n      <th></th>\n      <th>folioviv</th>\n      <th>foliohog</th>\n      <th>clave</th>\n      <th>tipo_gasto</th>\n      <th>mes_dia</th>\n      <th>forma_pag1</th>\n      <th>forma_pag2</th>\n      <th>forma_pag3</th>\n      <th>lugar_comp</th>\n      <th>orga_inst</th>\n      <th>...</th>\n      <th>inmujer</th>\n      <th>inst_1</th>\n      <th>inst_2</th>\n      <th>num_meses</th>\n      <th>num_pagos</th>\n      <th>ultim_pago</th>\n      <th>gasto_tri</th>\n      <th>gasto_nm</th>\n      <th>gas_nm_tri</th>\n      <th>imujer_tri</th>\n    </tr>\n  </thead>\n  <tbody>\n    <tr>\n      <th>0</th>\n      <td>100031904</td>\n      <td>1</td>\n      <td>H102</td>\n      <td>G1</td>\n      <td>0</td>\n      <td>1</td>\n      <td>0</td>\n      <td>0</td>\n      <td>5</td>\n      <td>0</td>\n      <td>...</td>\n      <td>500.0</td>\n      <td>NaN</td>\n      <td>NaN</td>\n      <td>NaN</td>\n      <td>NaN</td>\n      <td>NaN</td>\n      <td>489.13</td>\n      <td>NaN</td>\n      <td>NaN</td>\n      <td>489.13</td>\n    </tr>\n    <tr>\n      <th>1</th>\n      <td>100031904</td>\n      <td>1</td>\n      <td>H110</td>\n      <td>G1</td>\n      <td>0</td>\n      <td>1</td>\n      <td>0</td>\n      <td>0</td>\n      <td>7</td>\n      <td>0</td>\n      <td>...</td>\n      <td>NaN</td>\n      <td>NaN</td>\n      <td>NaN</td>\n      <td>NaN</td>\n      <td>NaN</td>\n      <td>NaN</td>\n      <td>684.78</td>\n      <td>NaN</td>\n      <td>NaN</td>\n      <td>NaN</td>\n    </tr>\n    <tr>\n      <th>2</th>\n      <td>100031904</td>\n      <td>1</td>\n      <td>J044</td>\n      <td>G1</td>\n      <td>0</td>\n      <td>1</td>\n      <td>0</td>\n      <td>0</td>\n      <td>5</td>\n      <td>0</td>\n      <td>...</td>\n      <td>-1.0</td>\n      <td>1.0</td>\n      <td>NaN</td>\n      <td>NaN</td>\n      <td>NaN</td>\n      <td>NaN</td>\n      <td>97.82</td>\n      <td>NaN</td>\n      <td>NaN</td>\n      <td>-1.00</td>\n    </tr>\n    <tr>\n      <th>3</th>\n      <td>100031905</td>\n      <td>1</td>\n      <td>C001</td>\n      <td>G1</td>\n      <td>0</td>\n      <td>6</td>\n      <td>0</td>\n      <td>0</td>\n      <td>9</td>\n      <td>0</td>\n      <td>...</td>\n      <td>NaN</td>\n      <td>NaN</td>\n      <td>NaN</td>\n      <td>NaN</td>\n      <td>NaN</td>\n      <td>NaN</td>\n      <td>609.67</td>\n      <td>NaN</td>\n      <td>NaN</td>\n      <td>NaN</td>\n    </tr>\n    <tr>\n      <th>4</th>\n      <td>100031905</td>\n      <td>1</td>\n      <td>C004</td>\n      <td>G1</td>\n      <td>0</td>\n      <td>6</td>\n      <td>0</td>\n      <td>0</td>\n      <td>9</td>\n      <td>0</td>\n      <td>...</td>\n      <td>NaN</td>\n      <td>NaN</td>\n      <td>NaN</td>\n      <td>NaN</td>\n      <td>NaN</td>\n      <td>NaN</td>\n      <td>348.38</td>\n      <td>NaN</td>\n      <td>NaN</td>\n      <td>NaN</td>\n    </tr>\n    <tr>\n      <th>...</th>\n      <td>...</td>\n      <td>...</td>\n      <td>...</td>\n      <td>...</td>\n      <td>...</td>\n      <td>...</td>\n      <td>...</td>\n      <td>...</td>\n      <td>...</td>\n      <td>...</td>\n      <td>...</td>\n      <td>...</td>\n      <td>...</td>\n      <td>...</td>\n      <td>...</td>\n      <td>...</td>\n      <td>...</td>\n      <td>...</td>\n      <td>...</td>\n      <td>...</td>\n      <td>...</td>\n    </tr>\n    <tr>\n      <th>1048570</th>\n      <td>1960390521</td>\n      <td>1</td>\n      <td>I026</td>\n      <td>G1</td>\n      <td>0</td>\n      <td>1</td>\n      <td>0</td>\n      <td>0</td>\n      <td>3</td>\n      <td>0</td>\n      <td>...</td>\n      <td>NaN</td>\n      <td>NaN</td>\n      <td>NaN</td>\n      <td>NaN</td>\n      <td>NaN</td>\n      <td>NaN</td>\n      <td>24.45</td>\n      <td>NaN</td>\n      <td>NaN</td>\n      <td>NaN</td>\n    </tr>\n    <tr>\n      <th>1048571</th>\n      <td>1960390521</td>\n      <td>1</td>\n      <td>N014</td>\n      <td>G1</td>\n      <td>0</td>\n      <td>0</td>\n      <td>0</td>\n      <td>0</td>\n      <td>0</td>\n      <td>0</td>\n      <td>...</td>\n      <td>NaN</td>\n      <td>NaN</td>\n      <td>NaN</td>\n      <td>NaN</td>\n      <td>NaN</td>\n      <td>NaN</td>\n      <td>39.13</td>\n      <td>NaN</td>\n      <td>NaN</td>\n      <td>NaN</td>\n    </tr>\n    <tr>\n      <th>1048572</th>\n      <td>1960390523</td>\n      <td>1</td>\n      <td>C001</td>\n      <td>G1</td>\n      <td>0</td>\n      <td>1</td>\n      <td>0</td>\n      <td>0</td>\n      <td>6</td>\n      <td>0</td>\n      <td>...</td>\n      <td>NaN</td>\n      <td>NaN</td>\n      <td>NaN</td>\n      <td>NaN</td>\n      <td>NaN</td>\n      <td>NaN</td>\n      <td>87.09</td>\n      <td>NaN</td>\n      <td>NaN</td>\n      <td>NaN</td>\n    </tr>\n    <tr>\n      <th>1048573</th>\n      <td>1960390523</td>\n      <td>1</td>\n      <td>C003</td>\n      <td>G1</td>\n      <td>0</td>\n      <td>1</td>\n      <td>0</td>\n      <td>0</td>\n      <td>6</td>\n      <td>0</td>\n      <td>...</td>\n      <td>NaN</td>\n      <td>NaN</td>\n      <td>NaN</td>\n      <td>NaN</td>\n      <td>NaN</td>\n      <td>NaN</td>\n      <td>63.87</td>\n      <td>NaN</td>\n      <td>NaN</td>\n      <td>NaN</td>\n    </tr>\n    <tr>\n      <th>1048574</th>\n      <td>1960390523</td>\n      <td>1</td>\n      <td>C004</td>\n      <td>G1</td>\n      <td>0</td>\n      <td>1</td>\n      <td>0</td>\n      <td>0</td>\n      <td>6</td>\n      <td>0</td>\n      <td>...</td>\n      <td>NaN</td>\n      <td>NaN</td>\n      <td>NaN</td>\n      <td>NaN</td>\n      <td>NaN</td>\n      <td>NaN</td>\n      <td>98.70</td>\n      <td>NaN</td>\n      <td>NaN</td>\n      <td>NaN</td>\n    </tr>\n  </tbody>\n</table>\n<p>1048575 rows × 27 columns</p>\n</div>"
     },
     "metadata": {},
     "output_type": "execute_result",
     "execution_count": 34
    }
   ],
   "source": [
    "ds_gasto = pd.read_csv('datos/conjunto_de_datos_gastoshogar_enigh_2016_ns.csv')\n",
    "ds_gasto"
   ],
   "metadata": {
    "collapsed": false,
    "pycharm": {
     "name": "#%%\n",
     "is_executing": false
    }
   }
  },
  {
   "cell_type": "code",
   "execution_count": 35,
   "outputs": [
    {
     "data": {
      "text/plain": "           folioviv  gasto_tri\n0         100031904     489.13\n1         100031904     684.78\n2         100031904      97.82\n3         100031905     609.67\n4         100031905     348.38\n...             ...        ...\n1048570  1960390521      24.45\n1048571  1960390521      39.13\n1048572  1960390523      87.09\n1048573  1960390523      63.87\n1048574  1960390523      98.70\n\n[1048575 rows x 2 columns]",
      "text/html": "<div>\n<style scoped>\n    .dataframe tbody tr th:only-of-type {\n        vertical-align: middle;\n    }\n\n    .dataframe tbody tr th {\n        vertical-align: top;\n    }\n\n    .dataframe thead th {\n        text-align: right;\n    }\n</style>\n<table border=\"1\" class=\"dataframe\">\n  <thead>\n    <tr style=\"text-align: right;\">\n      <th></th>\n      <th>folioviv</th>\n      <th>gasto_tri</th>\n    </tr>\n  </thead>\n  <tbody>\n    <tr>\n      <th>0</th>\n      <td>100031904</td>\n      <td>489.13</td>\n    </tr>\n    <tr>\n      <th>1</th>\n      <td>100031904</td>\n      <td>684.78</td>\n    </tr>\n    <tr>\n      <th>2</th>\n      <td>100031904</td>\n      <td>97.82</td>\n    </tr>\n    <tr>\n      <th>3</th>\n      <td>100031905</td>\n      <td>609.67</td>\n    </tr>\n    <tr>\n      <th>4</th>\n      <td>100031905</td>\n      <td>348.38</td>\n    </tr>\n    <tr>\n      <th>...</th>\n      <td>...</td>\n      <td>...</td>\n    </tr>\n    <tr>\n      <th>1048570</th>\n      <td>1960390521</td>\n      <td>24.45</td>\n    </tr>\n    <tr>\n      <th>1048571</th>\n      <td>1960390521</td>\n      <td>39.13</td>\n    </tr>\n    <tr>\n      <th>1048572</th>\n      <td>1960390523</td>\n      <td>87.09</td>\n    </tr>\n    <tr>\n      <th>1048573</th>\n      <td>1960390523</td>\n      <td>63.87</td>\n    </tr>\n    <tr>\n      <th>1048574</th>\n      <td>1960390523</td>\n      <td>98.70</td>\n    </tr>\n  </tbody>\n</table>\n<p>1048575 rows × 2 columns</p>\n</div>"
     },
     "metadata": {},
     "output_type": "execute_result",
     "execution_count": 35
    }
   ],
   "source": [
    "gasto = ds_gasto[['folioviv','gasto_tri']]\n",
    "gasto"
   ],
   "metadata": {
    "collapsed": false,
    "pycharm": {
     "name": "#%%\n",
     "is_executing": false
    }
   }
  },
  {
   "cell_type": "code",
   "execution_count": 37,
   "outputs": [
    {
     "data": {
      "text/plain": "folioviv     0\ngasto_tri    8\ndtype: int64"
     },
     "metadata": {},
     "output_type": "execute_result",
     "execution_count": 37
    }
   ],
   "source": [
    "gasto.isnull().sum()"
   ],
   "metadata": {
    "collapsed": false,
    "pycharm": {
     "name": "#%%\n",
     "is_executing": false
    }
   }
  },
  {
   "cell_type": "code",
   "execution_count": 39,
   "outputs": [],
   "source": [
    "gasto['gasto_tri'].fillna(0, inplace=True)"
   ],
   "metadata": {
    "collapsed": false,
    "pycharm": {
     "name": "#%%\n",
     "is_executing": false
    }
   }
  },
  {
   "cell_type": "code",
   "execution_count": 41,
   "outputs": [
    {
     "data": {
      "text/plain": "folioviv     0\ngasto_tri    0\ndtype: int64"
     },
     "metadata": {},
     "output_type": "execute_result",
     "execution_count": 41
    }
   ],
   "source": [
    "gasto.isnull().sum()\n",
    "\n"
   ],
   "metadata": {
    "collapsed": false,
    "pycharm": {
     "name": "#%%\n",
     "is_executing": false
    }
   }
  },
  {
   "cell_type": "code",
   "execution_count": 42,
   "outputs": [
    {
     "data": {
      "text/plain": "          folioviv  foliohog  numren clave  mes_1  mes_2  mes_3  mes_4  mes_5  \\\n0        100252301         1       2  P009    NaN    NaN    NaN    NaN    NaN   \n1        100252301         1       2  P044    8.0    7.0    6.0    5.0    4.0   \n2        100252301         1       2  P051    8.0    7.0    6.0    5.0    4.0   \n3        100252301         2       1  P001    8.0    7.0    6.0    5.0    4.0   \n4        100252301         1       1  P044    8.0    7.0    6.0    5.0    4.0   \n...            ...       ...     ...   ...    ...    ...    ...    ...    ...   \n334332  3260578405         1       3  P044    8.0    7.0    6.0    5.0    4.0   \n334333  3260578405         1       1  P043    8.0    7.0    6.0    5.0    4.0   \n334334  3260578405         1       3  P042    8.0    7.0    6.0    5.0    4.0   \n334335  3260578405         1       1  P044    8.0    7.0    6.0    5.0    4.0   \n334336  3260578405         1       1  P072    8.0    7.0    6.0    5.0    4.0   \n\n        mes_6  ing_1  ing_2  ing_3  ing_4  ing_5  ing_6   ing_tri  \n0         NaN  20000      0      0      0      0      0   4891.30  \n1         3.0   1200      0   1200      0   1200      0   1760.86  \n2         3.0  10000      0      0      0      0      0   4891.30  \n3         3.0   8000   8000   8000   8000   8000   8000  23478.26  \n4         3.0   1100      0   1100      0   1100      0   1614.13  \n...       ...    ...    ...    ...    ...    ...    ...       ...  \n334332    3.0      0   1160      0   1160      0   1160   1702.17  \n334333    3.0      0      0      0   3900      0      0   1907.60  \n334334    3.0      0    900      0    900      0    900   1320.65  \n334335    3.0      0   1160      0   1160      0   1160   1702.17  \n334336    3.0    208    208    208    208    208    208    610.43  \n\n[334337 rows x 17 columns]",
      "text/html": "<div>\n<style scoped>\n    .dataframe tbody tr th:only-of-type {\n        vertical-align: middle;\n    }\n\n    .dataframe tbody tr th {\n        vertical-align: top;\n    }\n\n    .dataframe thead th {\n        text-align: right;\n    }\n</style>\n<table border=\"1\" class=\"dataframe\">\n  <thead>\n    <tr style=\"text-align: right;\">\n      <th></th>\n      <th>folioviv</th>\n      <th>foliohog</th>\n      <th>numren</th>\n      <th>clave</th>\n      <th>mes_1</th>\n      <th>mes_2</th>\n      <th>mes_3</th>\n      <th>mes_4</th>\n      <th>mes_5</th>\n      <th>mes_6</th>\n      <th>ing_1</th>\n      <th>ing_2</th>\n      <th>ing_3</th>\n      <th>ing_4</th>\n      <th>ing_5</th>\n      <th>ing_6</th>\n      <th>ing_tri</th>\n    </tr>\n  </thead>\n  <tbody>\n    <tr>\n      <th>0</th>\n      <td>100252301</td>\n      <td>1</td>\n      <td>2</td>\n      <td>P009</td>\n      <td>NaN</td>\n      <td>NaN</td>\n      <td>NaN</td>\n      <td>NaN</td>\n      <td>NaN</td>\n      <td>NaN</td>\n      <td>20000</td>\n      <td>0</td>\n      <td>0</td>\n      <td>0</td>\n      <td>0</td>\n      <td>0</td>\n      <td>4891.30</td>\n    </tr>\n    <tr>\n      <th>1</th>\n      <td>100252301</td>\n      <td>1</td>\n      <td>2</td>\n      <td>P044</td>\n      <td>8.0</td>\n      <td>7.0</td>\n      <td>6.0</td>\n      <td>5.0</td>\n      <td>4.0</td>\n      <td>3.0</td>\n      <td>1200</td>\n      <td>0</td>\n      <td>1200</td>\n      <td>0</td>\n      <td>1200</td>\n      <td>0</td>\n      <td>1760.86</td>\n    </tr>\n    <tr>\n      <th>2</th>\n      <td>100252301</td>\n      <td>1</td>\n      <td>2</td>\n      <td>P051</td>\n      <td>8.0</td>\n      <td>7.0</td>\n      <td>6.0</td>\n      <td>5.0</td>\n      <td>4.0</td>\n      <td>3.0</td>\n      <td>10000</td>\n      <td>0</td>\n      <td>0</td>\n      <td>0</td>\n      <td>0</td>\n      <td>0</td>\n      <td>4891.30</td>\n    </tr>\n    <tr>\n      <th>3</th>\n      <td>100252301</td>\n      <td>2</td>\n      <td>1</td>\n      <td>P001</td>\n      <td>8.0</td>\n      <td>7.0</td>\n      <td>6.0</td>\n      <td>5.0</td>\n      <td>4.0</td>\n      <td>3.0</td>\n      <td>8000</td>\n      <td>8000</td>\n      <td>8000</td>\n      <td>8000</td>\n      <td>8000</td>\n      <td>8000</td>\n      <td>23478.26</td>\n    </tr>\n    <tr>\n      <th>4</th>\n      <td>100252301</td>\n      <td>1</td>\n      <td>1</td>\n      <td>P044</td>\n      <td>8.0</td>\n      <td>7.0</td>\n      <td>6.0</td>\n      <td>5.0</td>\n      <td>4.0</td>\n      <td>3.0</td>\n      <td>1100</td>\n      <td>0</td>\n      <td>1100</td>\n      <td>0</td>\n      <td>1100</td>\n      <td>0</td>\n      <td>1614.13</td>\n    </tr>\n    <tr>\n      <th>...</th>\n      <td>...</td>\n      <td>...</td>\n      <td>...</td>\n      <td>...</td>\n      <td>...</td>\n      <td>...</td>\n      <td>...</td>\n      <td>...</td>\n      <td>...</td>\n      <td>...</td>\n      <td>...</td>\n      <td>...</td>\n      <td>...</td>\n      <td>...</td>\n      <td>...</td>\n      <td>...</td>\n      <td>...</td>\n    </tr>\n    <tr>\n      <th>334332</th>\n      <td>3260578405</td>\n      <td>1</td>\n      <td>3</td>\n      <td>P044</td>\n      <td>8.0</td>\n      <td>7.0</td>\n      <td>6.0</td>\n      <td>5.0</td>\n      <td>4.0</td>\n      <td>3.0</td>\n      <td>0</td>\n      <td>1160</td>\n      <td>0</td>\n      <td>1160</td>\n      <td>0</td>\n      <td>1160</td>\n      <td>1702.17</td>\n    </tr>\n    <tr>\n      <th>334333</th>\n      <td>3260578405</td>\n      <td>1</td>\n      <td>1</td>\n      <td>P043</td>\n      <td>8.0</td>\n      <td>7.0</td>\n      <td>6.0</td>\n      <td>5.0</td>\n      <td>4.0</td>\n      <td>3.0</td>\n      <td>0</td>\n      <td>0</td>\n      <td>0</td>\n      <td>3900</td>\n      <td>0</td>\n      <td>0</td>\n      <td>1907.60</td>\n    </tr>\n    <tr>\n      <th>334334</th>\n      <td>3260578405</td>\n      <td>1</td>\n      <td>3</td>\n      <td>P042</td>\n      <td>8.0</td>\n      <td>7.0</td>\n      <td>6.0</td>\n      <td>5.0</td>\n      <td>4.0</td>\n      <td>3.0</td>\n      <td>0</td>\n      <td>900</td>\n      <td>0</td>\n      <td>900</td>\n      <td>0</td>\n      <td>900</td>\n      <td>1320.65</td>\n    </tr>\n    <tr>\n      <th>334335</th>\n      <td>3260578405</td>\n      <td>1</td>\n      <td>1</td>\n      <td>P044</td>\n      <td>8.0</td>\n      <td>7.0</td>\n      <td>6.0</td>\n      <td>5.0</td>\n      <td>4.0</td>\n      <td>3.0</td>\n      <td>0</td>\n      <td>1160</td>\n      <td>0</td>\n      <td>1160</td>\n      <td>0</td>\n      <td>1160</td>\n      <td>1702.17</td>\n    </tr>\n    <tr>\n      <th>334336</th>\n      <td>3260578405</td>\n      <td>1</td>\n      <td>1</td>\n      <td>P072</td>\n      <td>8.0</td>\n      <td>7.0</td>\n      <td>6.0</td>\n      <td>5.0</td>\n      <td>4.0</td>\n      <td>3.0</td>\n      <td>208</td>\n      <td>208</td>\n      <td>208</td>\n      <td>208</td>\n      <td>208</td>\n      <td>208</td>\n      <td>610.43</td>\n    </tr>\n  </tbody>\n</table>\n<p>334337 rows × 17 columns</p>\n</div>"
     },
     "metadata": {},
     "output_type": "execute_result",
     "execution_count": 42
    }
   ],
   "source": [
    "ds_ingre = pd.read_csv('datos/conjunto_de_datos_ingresos_enigh_2016_ns.csv')\n",
    "ds_ingre"
   ],
   "metadata": {
    "collapsed": false,
    "pycharm": {
     "name": "#%%\n",
     "is_executing": false
    }
   }
  },
  {
   "cell_type": "code",
   "execution_count": 45,
   "outputs": [],
   "source": [
    "ingre = ds_ingre[['folioviv','ing_tri']]\n"
   ],
   "metadata": {
    "collapsed": false,
    "pycharm": {
     "name": "#%%\n",
     "is_executing": false
    }
   }
  },
  {
   "cell_type": "code",
   "execution_count": 47,
   "outputs": [
    {
     "data": {
      "text/plain": "folioviv    0\ning_tri     0\ndtype: int64"
     },
     "metadata": {},
     "output_type": "execute_result",
     "execution_count": 47
    }
   ],
   "source": [
    "ingre.isnull().sum()"
   ],
   "metadata": {
    "collapsed": false,
    "pycharm": {
     "name": "#%%\n",
     "is_executing": false
    }
   }
  },
  {
   "cell_type": "code",
   "execution_count": 51,
   "outputs": [
    {
     "data": {
      "text/plain": "           folioviv  gasto_tri   ing_tri\n0         100031904     489.13    611.41\n1         100031904     489.13   7043.47\n2         100031904     489.13  14673.91\n3         100031904     489.13    146.73\n4         100031904     684.78    611.41\n...             ...        ...       ...\n5647240  1960390523      63.87   5654.34\n5647241  1960390523      98.70    274.40\n5647242  1960390523      98.70  16679.34\n5647243  1960390523      98.70    317.93\n5647244  1960390523      98.70   5654.34\n\n[5647245 rows x 3 columns]",
      "text/html": "<div>\n<style scoped>\n    .dataframe tbody tr th:only-of-type {\n        vertical-align: middle;\n    }\n\n    .dataframe tbody tr th {\n        vertical-align: top;\n    }\n\n    .dataframe thead th {\n        text-align: right;\n    }\n</style>\n<table border=\"1\" class=\"dataframe\">\n  <thead>\n    <tr style=\"text-align: right;\">\n      <th></th>\n      <th>folioviv</th>\n      <th>gasto_tri</th>\n      <th>ing_tri</th>\n    </tr>\n  </thead>\n  <tbody>\n    <tr>\n      <th>0</th>\n      <td>100031904</td>\n      <td>489.13</td>\n      <td>611.41</td>\n    </tr>\n    <tr>\n      <th>1</th>\n      <td>100031904</td>\n      <td>489.13</td>\n      <td>7043.47</td>\n    </tr>\n    <tr>\n      <th>2</th>\n      <td>100031904</td>\n      <td>489.13</td>\n      <td>14673.91</td>\n    </tr>\n    <tr>\n      <th>3</th>\n      <td>100031904</td>\n      <td>489.13</td>\n      <td>146.73</td>\n    </tr>\n    <tr>\n      <th>4</th>\n      <td>100031904</td>\n      <td>684.78</td>\n      <td>611.41</td>\n    </tr>\n    <tr>\n      <th>...</th>\n      <td>...</td>\n      <td>...</td>\n      <td>...</td>\n    </tr>\n    <tr>\n      <th>5647240</th>\n      <td>1960390523</td>\n      <td>63.87</td>\n      <td>5654.34</td>\n    </tr>\n    <tr>\n      <th>5647241</th>\n      <td>1960390523</td>\n      <td>98.70</td>\n      <td>274.40</td>\n    </tr>\n    <tr>\n      <th>5647242</th>\n      <td>1960390523</td>\n      <td>98.70</td>\n      <td>16679.34</td>\n    </tr>\n    <tr>\n      <th>5647243</th>\n      <td>1960390523</td>\n      <td>98.70</td>\n      <td>317.93</td>\n    </tr>\n    <tr>\n      <th>5647244</th>\n      <td>1960390523</td>\n      <td>98.70</td>\n      <td>5654.34</td>\n    </tr>\n  </tbody>\n</table>\n<p>5647245 rows × 3 columns</p>\n</div>"
     },
     "metadata": {},
     "output_type": "execute_result",
     "execution_count": 51
    }
   ],
   "source": [
    "momento = pd.merge(left=gasto, right=ingre,left_on='folioviv',right_on='folioviv',how='inner')\n",
    "momento"
   ],
   "metadata": {
    "collapsed": false,
    "pycharm": {
     "name": "#%%\n",
     "is_executing": false
    }
   }
  },
  {
   "cell_type": "code",
   "execution_count": 57,
   "outputs": [
    {
     "name": "stdout",
     "text": [
      "            gasto_tri     ing_tri\n",
      "folioviv                         \n",
      "100003801   102287.72  3524384.50\n",
      "100003802   323817.18  5394097.44\n",
      "100003803    30520.57  2726557.35\n",
      "100003804    67201.85  1398687.60\n",
      "100003805    47740.52  1480327.45\n",
      "...               ...         ...\n",
      "1960457021   26569.11   240358.59\n",
      "1960457022     284.49    18489.12\n",
      "1960457023  456710.40  2280324.48\n",
      "1960457024    7358.88   247108.44\n",
      "1960457025    2961.25   105358.64\n",
      "\n",
      "[43083 rows x 2 columns]\n"
     ],
     "output_type": "stream"
    }
   ],
   "source": [
    "g= momento.groupby(['folioviv'])['gasto_tri', 'ing_tri'].sum()\n",
    "print(g)"
   ],
   "metadata": {
    "collapsed": false,
    "pycharm": {
     "name": "#%%\n",
     "is_executing": false
    }
   }
  },
  {
   "cell_type": "code",
   "execution_count": 58,
   "outputs": [
    {
     "data": {
      "text/plain": "         folioviv  gasto_tri     ing_tri  pago_mesp\n0       100003801  102287.72  3524384.50          0\n1       100003802  323817.18  5394097.44          0\n2       100003803   30520.57  2726557.35          0\n3       100003804   67201.85  1398687.60          0\n4       100003805   47740.52  1480327.45          0\n...           ...        ...         ...        ...\n43078  1960457021   26569.11   240358.59          0\n43079  1960457022     284.49    18489.12          0\n43080  1960457023  456710.40  2280324.48          0\n43081  1960457024    7358.88   247108.44          0\n43082  1960457025    2961.25   105358.64          0\n\n[43083 rows x 4 columns]",
      "text/html": "<div>\n<style scoped>\n    .dataframe tbody tr th:only-of-type {\n        vertical-align: middle;\n    }\n\n    .dataframe tbody tr th {\n        vertical-align: top;\n    }\n\n    .dataframe thead th {\n        text-align: right;\n    }\n</style>\n<table border=\"1\" class=\"dataframe\">\n  <thead>\n    <tr style=\"text-align: right;\">\n      <th></th>\n      <th>folioviv</th>\n      <th>gasto_tri</th>\n      <th>ing_tri</th>\n      <th>pago_mesp</th>\n    </tr>\n  </thead>\n  <tbody>\n    <tr>\n      <th>0</th>\n      <td>100003801</td>\n      <td>102287.72</td>\n      <td>3524384.50</td>\n      <td>0</td>\n    </tr>\n    <tr>\n      <th>1</th>\n      <td>100003802</td>\n      <td>323817.18</td>\n      <td>5394097.44</td>\n      <td>0</td>\n    </tr>\n    <tr>\n      <th>2</th>\n      <td>100003803</td>\n      <td>30520.57</td>\n      <td>2726557.35</td>\n      <td>0</td>\n    </tr>\n    <tr>\n      <th>3</th>\n      <td>100003804</td>\n      <td>67201.85</td>\n      <td>1398687.60</td>\n      <td>0</td>\n    </tr>\n    <tr>\n      <th>4</th>\n      <td>100003805</td>\n      <td>47740.52</td>\n      <td>1480327.45</td>\n      <td>0</td>\n    </tr>\n    <tr>\n      <th>...</th>\n      <td>...</td>\n      <td>...</td>\n      <td>...</td>\n      <td>...</td>\n    </tr>\n    <tr>\n      <th>43078</th>\n      <td>1960457021</td>\n      <td>26569.11</td>\n      <td>240358.59</td>\n      <td>0</td>\n    </tr>\n    <tr>\n      <th>43079</th>\n      <td>1960457022</td>\n      <td>284.49</td>\n      <td>18489.12</td>\n      <td>0</td>\n    </tr>\n    <tr>\n      <th>43080</th>\n      <td>1960457023</td>\n      <td>456710.40</td>\n      <td>2280324.48</td>\n      <td>0</td>\n    </tr>\n    <tr>\n      <th>43081</th>\n      <td>1960457024</td>\n      <td>7358.88</td>\n      <td>247108.44</td>\n      <td>0</td>\n    </tr>\n    <tr>\n      <th>43082</th>\n      <td>1960457025</td>\n      <td>2961.25</td>\n      <td>105358.64</td>\n      <td>0</td>\n    </tr>\n  </tbody>\n</table>\n<p>43083 rows × 4 columns</p>\n</div>"
     },
     "metadata": {},
     "output_type": "execute_result",
     "execution_count": 58
    }
   ],
   "source": [
    "DS_Bonito = pd.merge(left=g, right=vivi,left_on='folioviv',right_on='folioviv',how='inner')\n",
    "DS_Bonito"
   ],
   "metadata": {
    "collapsed": false,
    "pycharm": {
     "name": "#%%\n",
     "is_executing": false
    }
   }
  },
  {
   "cell_type": "code",
   "execution_count": 59,
   "outputs": [
    {
     "data": {
      "text/plain": "           folioviv     gasto_tri       ing_tri  pago_mesp\ncount  4.308300e+04  4.308300e+04  4.308300e+04    43083.0\nmean   9.836190e+08  6.281129e+04  1.135991e+06        0.0\nstd    5.626810e+08  1.241755e+05  8.099724e+06        0.0\nmin    1.000038e+08  1.467000e+01  7.377000e+01        0.0\n25%    5.029416e+08  1.078942e+04  2.646588e+05        0.0\n50%    9.154223e+08  2.789244e+04  5.914950e+05        0.0\n75%    1.506556e+09  6.686314e+04  1.236785e+06        0.0\nmax    1.960457e+09  4.506876e+06  1.538014e+09        0.0",
      "text/html": "<div>\n<style scoped>\n    .dataframe tbody tr th:only-of-type {\n        vertical-align: middle;\n    }\n\n    .dataframe tbody tr th {\n        vertical-align: top;\n    }\n\n    .dataframe thead th {\n        text-align: right;\n    }\n</style>\n<table border=\"1\" class=\"dataframe\">\n  <thead>\n    <tr style=\"text-align: right;\">\n      <th></th>\n      <th>folioviv</th>\n      <th>gasto_tri</th>\n      <th>ing_tri</th>\n      <th>pago_mesp</th>\n    </tr>\n  </thead>\n  <tbody>\n    <tr>\n      <th>count</th>\n      <td>4.308300e+04</td>\n      <td>4.308300e+04</td>\n      <td>4.308300e+04</td>\n      <td>43083.0</td>\n    </tr>\n    <tr>\n      <th>mean</th>\n      <td>9.836190e+08</td>\n      <td>6.281129e+04</td>\n      <td>1.135991e+06</td>\n      <td>0.0</td>\n    </tr>\n    <tr>\n      <th>std</th>\n      <td>5.626810e+08</td>\n      <td>1.241755e+05</td>\n      <td>8.099724e+06</td>\n      <td>0.0</td>\n    </tr>\n    <tr>\n      <th>min</th>\n      <td>1.000038e+08</td>\n      <td>1.467000e+01</td>\n      <td>7.377000e+01</td>\n      <td>0.0</td>\n    </tr>\n    <tr>\n      <th>25%</th>\n      <td>5.029416e+08</td>\n      <td>1.078942e+04</td>\n      <td>2.646588e+05</td>\n      <td>0.0</td>\n    </tr>\n    <tr>\n      <th>50%</th>\n      <td>9.154223e+08</td>\n      <td>2.789244e+04</td>\n      <td>5.914950e+05</td>\n      <td>0.0</td>\n    </tr>\n    <tr>\n      <th>75%</th>\n      <td>1.506556e+09</td>\n      <td>6.686314e+04</td>\n      <td>1.236785e+06</td>\n      <td>0.0</td>\n    </tr>\n    <tr>\n      <th>max</th>\n      <td>1.960457e+09</td>\n      <td>4.506876e+06</td>\n      <td>1.538014e+09</td>\n      <td>0.0</td>\n    </tr>\n  </tbody>\n</table>\n</div>"
     },
     "metadata": {},
     "output_type": "execute_result",
     "execution_count": 59
    }
   ],
   "source": [
    "DS_Bonito.describe()"
   ],
   "metadata": {
    "collapsed": false,
    "pycharm": {
     "name": "#%%\n",
     "is_executing": false
    }
   }
  }
 ],
 "metadata": {
  "kernelspec": {
   "display_name": "Python 3",
   "language": "python",
   "name": "python3"
  },
  "language_info": {
   "codemirror_mode": {
    "name": "ipython",
    "version": 2
   },
   "file_extension": ".py",
   "mimetype": "text/x-python",
   "name": "python",
   "nbconvert_exporter": "python",
   "pygments_lexer": "ipython2",
   "version": "2.7.6"
  },
  "pycharm": {
   "stem_cell": {
    "cell_type": "raw",
    "source": [],
    "metadata": {
     "collapsed": false
    }
   }
  }
 },
 "nbformat": 4,
 "nbformat_minor": 0
}