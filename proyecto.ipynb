{
 "cells": [
  {
   "cell_type": "code",
   "execution_count": 1,
   "metadata": {
    "collapsed": true,
    "pycharm": {
     "is_executing": false
    }
   },
   "outputs": [],
   "source": [
    "import pandas as pd\n",
    "import matplotlib.pyplot as plt\n",
    "import numpy as np\n",
    "import seaborn as sns\n",
    "from scipy.stats import norm\n",
    "from sklearn.preprocessing import StandardScaler\n",
    "from scipy import stats\n",
    "import warnings\n",
    "warnings.filterwarnings('ignore')\n",
    "%matplotlib inline"
   ]
  },
  {
   "cell_type": "code",
   "execution_count": 2,
   "outputs": [
    {
     "data": {
      "text/plain": "     # 1. Number of times pregnant  \\\n0                                6   \n1                                1   \n2                                8   \n3                                1   \n4                                0   \n..                             ...   \n763                             10   \n764                              2   \n765                              5   \n766                              1   \n767                              1   \n\n     # 2. Plasma glucose concentration a 2 hours in an oral glucose tolerance test  \\\n0                                                  148                               \n1                                                   85                               \n2                                                  183                               \n3                                                   89                               \n4                                                  137                               \n..                                                 ...                               \n763                                                101                               \n764                                                122                               \n765                                                121                               \n766                                                126                               \n767                                                 93                               \n\n     # 3. Diastolic blood pressure (mm Hg)  \\\n0                                       72   \n1                                       66   \n2                                       64   \n3                                       66   \n4                                       40   \n..                                     ...   \n763                                     76   \n764                                     70   \n765                                     72   \n766                                     60   \n767                                     70   \n\n     # 4. Triceps skin fold thickness (mm)  \\\n0                                       35   \n1                                       29   \n2                                        0   \n3                                       23   \n4                                       35   \n..                                     ...   \n763                                     48   \n764                                     27   \n765                                     23   \n766                                      0   \n767                                     31   \n\n     # 5. 2-Hour serum insulin (mu U/ml)  \\\n0                                      0   \n1                                      0   \n2                                      0   \n3                                     94   \n4                                    168   \n..                                   ...   \n763                                  180   \n764                                    0   \n765                                  112   \n766                                    0   \n767                                    0   \n\n     # 6. Body mass index (weight in kg/(height in m)^2)  \\\n0                                                 33.6     \n1                                                 26.6     \n2                                                 23.3     \n3                                                 28.1     \n4                                                 43.1     \n..                                                 ...     \n763                                               32.9     \n764                                               36.8     \n765                                               26.2     \n766                                               30.1     \n767                                               30.4     \n\n     # 7. Diabetes pedigree function  # 8. Age (years)  \\\n0                              0.627                50   \n1                              0.351                31   \n2                              0.672                32   \n3                              0.167                21   \n4                              2.288                33   \n..                               ...               ...   \n763                            0.171                63   \n764                            0.340                27   \n765                            0.245                30   \n766                            0.349                47   \n767                            0.315                23   \n\n     # 9. Class variable (0 or 1)  \n0                               1  \n1                               0  \n2                               1  \n3                               0  \n4                               1  \n..                            ...  \n763                             0  \n764                             0  \n765                             0  \n766                             1  \n767                             0  \n\n[768 rows x 9 columns]",
      "text/html": "<div>\n<style scoped>\n    .dataframe tbody tr th:only-of-type {\n        vertical-align: middle;\n    }\n\n    .dataframe tbody tr th {\n        vertical-align: top;\n    }\n\n    .dataframe thead th {\n        text-align: right;\n    }\n</style>\n<table border=\"1\" class=\"dataframe\">\n  <thead>\n    <tr style=\"text-align: right;\">\n      <th></th>\n      <th># 1. Number of times pregnant</th>\n      <th># 2. Plasma glucose concentration a 2 hours in an oral glucose tolerance test</th>\n      <th># 3. Diastolic blood pressure (mm Hg)</th>\n      <th># 4. Triceps skin fold thickness (mm)</th>\n      <th># 5. 2-Hour serum insulin (mu U/ml)</th>\n      <th># 6. Body mass index (weight in kg/(height in m)^2)</th>\n      <th># 7. Diabetes pedigree function</th>\n      <th># 8. Age (years)</th>\n      <th># 9. Class variable (0 or 1)</th>\n    </tr>\n  </thead>\n  <tbody>\n    <tr>\n      <th>0</th>\n      <td>6</td>\n      <td>148</td>\n      <td>72</td>\n      <td>35</td>\n      <td>0</td>\n      <td>33.6</td>\n      <td>0.627</td>\n      <td>50</td>\n      <td>1</td>\n    </tr>\n    <tr>\n      <th>1</th>\n      <td>1</td>\n      <td>85</td>\n      <td>66</td>\n      <td>29</td>\n      <td>0</td>\n      <td>26.6</td>\n      <td>0.351</td>\n      <td>31</td>\n      <td>0</td>\n    </tr>\n    <tr>\n      <th>2</th>\n      <td>8</td>\n      <td>183</td>\n      <td>64</td>\n      <td>0</td>\n      <td>0</td>\n      <td>23.3</td>\n      <td>0.672</td>\n      <td>32</td>\n      <td>1</td>\n    </tr>\n    <tr>\n      <th>3</th>\n      <td>1</td>\n      <td>89</td>\n      <td>66</td>\n      <td>23</td>\n      <td>94</td>\n      <td>28.1</td>\n      <td>0.167</td>\n      <td>21</td>\n      <td>0</td>\n    </tr>\n    <tr>\n      <th>4</th>\n      <td>0</td>\n      <td>137</td>\n      <td>40</td>\n      <td>35</td>\n      <td>168</td>\n      <td>43.1</td>\n      <td>2.288</td>\n      <td>33</td>\n      <td>1</td>\n    </tr>\n    <tr>\n      <th>...</th>\n      <td>...</td>\n      <td>...</td>\n      <td>...</td>\n      <td>...</td>\n      <td>...</td>\n      <td>...</td>\n      <td>...</td>\n      <td>...</td>\n      <td>...</td>\n    </tr>\n    <tr>\n      <th>763</th>\n      <td>10</td>\n      <td>101</td>\n      <td>76</td>\n      <td>48</td>\n      <td>180</td>\n      <td>32.9</td>\n      <td>0.171</td>\n      <td>63</td>\n      <td>0</td>\n    </tr>\n    <tr>\n      <th>764</th>\n      <td>2</td>\n      <td>122</td>\n      <td>70</td>\n      <td>27</td>\n      <td>0</td>\n      <td>36.8</td>\n      <td>0.340</td>\n      <td>27</td>\n      <td>0</td>\n    </tr>\n    <tr>\n      <th>765</th>\n      <td>5</td>\n      <td>121</td>\n      <td>72</td>\n      <td>23</td>\n      <td>112</td>\n      <td>26.2</td>\n      <td>0.245</td>\n      <td>30</td>\n      <td>0</td>\n    </tr>\n    <tr>\n      <th>766</th>\n      <td>1</td>\n      <td>126</td>\n      <td>60</td>\n      <td>0</td>\n      <td>0</td>\n      <td>30.1</td>\n      <td>0.349</td>\n      <td>47</td>\n      <td>1</td>\n    </tr>\n    <tr>\n      <th>767</th>\n      <td>1</td>\n      <td>93</td>\n      <td>70</td>\n      <td>31</td>\n      <td>0</td>\n      <td>30.4</td>\n      <td>0.315</td>\n      <td>23</td>\n      <td>0</td>\n    </tr>\n  </tbody>\n</table>\n<p>768 rows × 9 columns</p>\n</div>"
     },
     "metadata": {},
     "output_type": "execute_result",
     "execution_count": 2
    }
   ],
   "source": [
    "ds_bo = pd.read_csv('datos/pima-indians-diabetes.csv')\n",
    "ds_bo\n"
   ],
   "metadata": {
    "collapsed": false,
    "pycharm": {
     "name": "#%%\n",
     "is_executing": false
    }
   }
  },
  {
   "cell_type": "code",
   "execution_count": 4,
   "outputs": [
    {
     "name": "stdout",
     "text": [
      "                                                    # 1. Number of times pregnant  \\\n",
      "# 1. Number of times pregnant                                            1.000000   \n",
      "# 2. Plasma glucose concentration a 2 hours in ...                       0.129459   \n",
      "# 3. Diastolic blood pressure (mm Hg)                                    0.141282   \n",
      "# 4. Triceps skin fold thickness (mm)                                   -0.081672   \n",
      "# 5. 2-Hour serum insulin (mu U/ml)                                     -0.073535   \n",
      "# 6. Body mass index (weight in kg/(height in m...                       0.017683   \n",
      "# 7. Diabetes pedigree function                                         -0.033523   \n",
      "# 8. Age (years)                                                         0.544341   \n",
      "# 9. Class variable (0 or 1)                                             0.221898   \n",
      "\n",
      "                                                    # 2. Plasma glucose concentration a 2 hours in an oral glucose tolerance test  \\\n",
      "# 1. Number of times pregnant                                                                0.129459                               \n",
      "# 2. Plasma glucose concentration a 2 hours in ...                                           1.000000                               \n",
      "# 3. Diastolic blood pressure (mm Hg)                                                        0.152590                               \n",
      "# 4. Triceps skin fold thickness (mm)                                                        0.057328                               \n",
      "# 5. 2-Hour serum insulin (mu U/ml)                                                          0.331357                               \n",
      "# 6. Body mass index (weight in kg/(height in m...                                           0.221071                               \n",
      "# 7. Diabetes pedigree function                                                              0.137337                               \n",
      "# 8. Age (years)                                                                             0.263514                               \n",
      "# 9. Class variable (0 or 1)                                                                 0.466581                               \n",
      "\n",
      "                                                    # 3. Diastolic blood pressure (mm Hg)  \\\n",
      "# 1. Number of times pregnant                                                    0.141282   \n",
      "# 2. Plasma glucose concentration a 2 hours in ...                               0.152590   \n",
      "# 3. Diastolic blood pressure (mm Hg)                                            1.000000   \n",
      "# 4. Triceps skin fold thickness (mm)                                            0.207371   \n",
      "# 5. 2-Hour serum insulin (mu U/ml)                                              0.088933   \n",
      "# 6. Body mass index (weight in kg/(height in m...                               0.281805   \n",
      "# 7. Diabetes pedigree function                                                  0.041265   \n",
      "# 8. Age (years)                                                                 0.239528   \n",
      "# 9. Class variable (0 or 1)                                                     0.065068   \n",
      "\n",
      "                                                    # 4. Triceps skin fold thickness (mm)  \\\n",
      "# 1. Number of times pregnant                                                   -0.081672   \n",
      "# 2. Plasma glucose concentration a 2 hours in ...                               0.057328   \n",
      "# 3. Diastolic blood pressure (mm Hg)                                            0.207371   \n",
      "# 4. Triceps skin fold thickness (mm)                                            1.000000   \n",
      "# 5. 2-Hour serum insulin (mu U/ml)                                              0.436783   \n",
      "# 6. Body mass index (weight in kg/(height in m...                               0.392573   \n",
      "# 7. Diabetes pedigree function                                                  0.183928   \n",
      "# 8. Age (years)                                                                -0.113970   \n",
      "# 9. Class variable (0 or 1)                                                     0.074752   \n",
      "\n",
      "                                                    # 5. 2-Hour serum insulin (mu U/ml)  \\\n",
      "# 1. Number of times pregnant                                                 -0.073535   \n",
      "# 2. Plasma glucose concentration a 2 hours in ...                             0.331357   \n",
      "# 3. Diastolic blood pressure (mm Hg)                                          0.088933   \n",
      "# 4. Triceps skin fold thickness (mm)                                          0.436783   \n",
      "# 5. 2-Hour serum insulin (mu U/ml)                                            1.000000   \n",
      "# 6. Body mass index (weight in kg/(height in m...                             0.197859   \n",
      "# 7. Diabetes pedigree function                                                0.185071   \n",
      "# 8. Age (years)                                                              -0.042163   \n",
      "# 9. Class variable (0 or 1)                                                   0.130548   \n",
      "\n",
      "                                                    # 6. Body mass index (weight in kg/(height in m)^2)  \\\n",
      "# 1. Number of times pregnant                                                                0.017683     \n",
      "# 2. Plasma glucose concentration a 2 hours in ...                                           0.221071     \n",
      "# 3. Diastolic blood pressure (mm Hg)                                                        0.281805     \n",
      "# 4. Triceps skin fold thickness (mm)                                                        0.392573     \n",
      "# 5. 2-Hour serum insulin (mu U/ml)                                                          0.197859     \n",
      "# 6. Body mass index (weight in kg/(height in m...                                           1.000000     \n",
      "# 7. Diabetes pedigree function                                                              0.140647     \n",
      "# 8. Age (years)                                                                             0.036242     \n",
      "# 9. Class variable (0 or 1)                                                                 0.292695     \n",
      "\n",
      "                                                    # 7. Diabetes pedigree function  \\\n",
      "# 1. Number of times pregnant                                             -0.033523   \n",
      "# 2. Plasma glucose concentration a 2 hours in ...                         0.137337   \n",
      "# 3. Diastolic blood pressure (mm Hg)                                      0.041265   \n",
      "# 4. Triceps skin fold thickness (mm)                                      0.183928   \n",
      "# 5. 2-Hour serum insulin (mu U/ml)                                        0.185071   \n",
      "# 6. Body mass index (weight in kg/(height in m...                         0.140647   \n",
      "# 7. Diabetes pedigree function                                            1.000000   \n",
      "# 8. Age (years)                                                           0.033561   \n",
      "# 9. Class variable (0 or 1)                                               0.173844   \n",
      "\n",
      "                                                    # 8. Age (years)  \\\n",
      "# 1. Number of times pregnant                               0.544341   \n",
      "# 2. Plasma glucose concentration a 2 hours in ...          0.263514   \n",
      "# 3. Diastolic blood pressure (mm Hg)                       0.239528   \n",
      "# 4. Triceps skin fold thickness (mm)                      -0.113970   \n",
      "# 5. 2-Hour serum insulin (mu U/ml)                        -0.042163   \n",
      "# 6. Body mass index (weight in kg/(height in m...          0.036242   \n",
      "# 7. Diabetes pedigree function                             0.033561   \n",
      "# 8. Age (years)                                            1.000000   \n",
      "# 9. Class variable (0 or 1)                                0.238356   \n",
      "\n",
      "                                                    # 9. Class variable (0 or 1)  \n",
      "# 1. Number of times pregnant                                           0.221898  \n",
      "# 2. Plasma glucose concentration a 2 hours in ...                      0.466581  \n",
      "# 3. Diastolic blood pressure (mm Hg)                                   0.065068  \n",
      "# 4. Triceps skin fold thickness (mm)                                   0.074752  \n",
      "# 5. 2-Hour serum insulin (mu U/ml)                                     0.130548  \n",
      "# 6. Body mass index (weight in kg/(height in m...                      0.292695  \n",
      "# 7. Diabetes pedigree function                                         0.173844  \n",
      "# 8. Age (years)                                                        0.238356  \n",
      "# 9. Class variable (0 or 1)                                            1.000000  \n"
     ],
     "output_type": "stream"
    }
   ],
   "source": [
    "crr = ds_bo.corr()\n",
    "print(crr)"
   ],
   "metadata": {
    "collapsed": false,
    "pycharm": {
     "name": "#%%\n",
     "is_executing": false
    }
   }
  },
  {
   "cell_type": "code",
   "execution_count": 6,
   "outputs": [
    {
     "data": {
      "text/plain": "     # 1. Number of times pregnant  \\\n0                                6   \n1                                1   \n2                                8   \n3                                1   \n4                                0   \n..                             ...   \n763                             10   \n764                              2   \n765                              5   \n766                              1   \n767                              1   \n\n     # 2. Plasma glucose concentration a 2 hours in an oral glucose tolerance test  \\\n0                                                  148                               \n1                                                   85                               \n2                                                  183                               \n3                                                   89                               \n4                                                  137                               \n..                                                 ...                               \n763                                                101                               \n764                                                122                               \n765                                                121                               \n766                                                126                               \n767                                                 93                               \n\n     # 3. Diastolic blood pressure (mm Hg)  \\\n0                                       72   \n1                                       66   \n2                                       64   \n3                                       66   \n4                                       40   \n..                                     ...   \n763                                     76   \n764                                     70   \n765                                     72   \n766                                     60   \n767                                     70   \n\n     # 4. Triceps skin fold thickness (mm)  \\\n0                                       35   \n1                                       29   \n2                                        0   \n3                                       23   \n4                                       35   \n..                                     ...   \n763                                     48   \n764                                     27   \n765                                     23   \n766                                      0   \n767                                     31   \n\n     # 5. 2-Hour serum insulin (mu U/ml)  \\\n0                                      0   \n1                                      0   \n2                                      0   \n3                                     94   \n4                                    168   \n..                                   ...   \n763                                  180   \n764                                    0   \n765                                  112   \n766                                    0   \n767                                    0   \n\n     # 6. Body mass index (weight in kg/(height in m)^2)  \\\n0                                                 33.6     \n1                                                 26.6     \n2                                                 23.3     \n3                                                 28.1     \n4                                                 43.1     \n..                                                 ...     \n763                                               32.9     \n764                                               36.8     \n765                                               26.2     \n766                                               30.1     \n767                                               30.4     \n\n     # 7. Diabetes pedigree function  # 8. Age (years)  \n0                              0.627                50  \n1                              0.351                31  \n2                              0.672                32  \n3                              0.167                21  \n4                              2.288                33  \n..                               ...               ...  \n763                            0.171                63  \n764                            0.340                27  \n765                            0.245                30  \n766                            0.349                47  \n767                            0.315                23  \n\n[768 rows x 8 columns]",
      "text/html": "<div>\n<style scoped>\n    .dataframe tbody tr th:only-of-type {\n        vertical-align: middle;\n    }\n\n    .dataframe tbody tr th {\n        vertical-align: top;\n    }\n\n    .dataframe thead th {\n        text-align: right;\n    }\n</style>\n<table border=\"1\" class=\"dataframe\">\n  <thead>\n    <tr style=\"text-align: right;\">\n      <th></th>\n      <th># 1. Number of times pregnant</th>\n      <th># 2. Plasma glucose concentration a 2 hours in an oral glucose tolerance test</th>\n      <th># 3. Diastolic blood pressure (mm Hg)</th>\n      <th># 4. Triceps skin fold thickness (mm)</th>\n      <th># 5. 2-Hour serum insulin (mu U/ml)</th>\n      <th># 6. Body mass index (weight in kg/(height in m)^2)</th>\n      <th># 7. Diabetes pedigree function</th>\n      <th># 8. Age (years)</th>\n    </tr>\n  </thead>\n  <tbody>\n    <tr>\n      <th>0</th>\n      <td>6</td>\n      <td>148</td>\n      <td>72</td>\n      <td>35</td>\n      <td>0</td>\n      <td>33.6</td>\n      <td>0.627</td>\n      <td>50</td>\n    </tr>\n    <tr>\n      <th>1</th>\n      <td>1</td>\n      <td>85</td>\n      <td>66</td>\n      <td>29</td>\n      <td>0</td>\n      <td>26.6</td>\n      <td>0.351</td>\n      <td>31</td>\n    </tr>\n    <tr>\n      <th>2</th>\n      <td>8</td>\n      <td>183</td>\n      <td>64</td>\n      <td>0</td>\n      <td>0</td>\n      <td>23.3</td>\n      <td>0.672</td>\n      <td>32</td>\n    </tr>\n    <tr>\n      <th>3</th>\n      <td>1</td>\n      <td>89</td>\n      <td>66</td>\n      <td>23</td>\n      <td>94</td>\n      <td>28.1</td>\n      <td>0.167</td>\n      <td>21</td>\n    </tr>\n    <tr>\n      <th>4</th>\n      <td>0</td>\n      <td>137</td>\n      <td>40</td>\n      <td>35</td>\n      <td>168</td>\n      <td>43.1</td>\n      <td>2.288</td>\n      <td>33</td>\n    </tr>\n    <tr>\n      <th>...</th>\n      <td>...</td>\n      <td>...</td>\n      <td>...</td>\n      <td>...</td>\n      <td>...</td>\n      <td>...</td>\n      <td>...</td>\n      <td>...</td>\n    </tr>\n    <tr>\n      <th>763</th>\n      <td>10</td>\n      <td>101</td>\n      <td>76</td>\n      <td>48</td>\n      <td>180</td>\n      <td>32.9</td>\n      <td>0.171</td>\n      <td>63</td>\n    </tr>\n    <tr>\n      <th>764</th>\n      <td>2</td>\n      <td>122</td>\n      <td>70</td>\n      <td>27</td>\n      <td>0</td>\n      <td>36.8</td>\n      <td>0.340</td>\n      <td>27</td>\n    </tr>\n    <tr>\n      <th>765</th>\n      <td>5</td>\n      <td>121</td>\n      <td>72</td>\n      <td>23</td>\n      <td>112</td>\n      <td>26.2</td>\n      <td>0.245</td>\n      <td>30</td>\n    </tr>\n    <tr>\n      <th>766</th>\n      <td>1</td>\n      <td>126</td>\n      <td>60</td>\n      <td>0</td>\n      <td>0</td>\n      <td>30.1</td>\n      <td>0.349</td>\n      <td>47</td>\n    </tr>\n    <tr>\n      <th>767</th>\n      <td>1</td>\n      <td>93</td>\n      <td>70</td>\n      <td>31</td>\n      <td>0</td>\n      <td>30.4</td>\n      <td>0.315</td>\n      <td>23</td>\n    </tr>\n  </tbody>\n</table>\n<p>768 rows × 8 columns</p>\n</div>"
     },
     "metadata": {},
     "output_type": "execute_result",
     "execution_count": 6
    }
   ],
   "source": [
    "from sklearn.model_selection import train_test_split\n",
    "\n",
    "# Putting feature variable to X\n",
    "X = ds_bo.drop(['# 9. Class variable (0 or 1)'], axis=1)\n",
    "X#en 60 hay un 2\n"
   ],
   "metadata": {
    "collapsed": false,
    "pycharm": {
     "name": "#%%\n",
     "is_executing": false
    }
   }
  },
  {
   "cell_type": "code",
   "execution_count": 7,
   "outputs": [
    {
     "data": {
      "text/plain": "0    1\n1    0\n2    1\n3    0\n4    1\nName: # 9. Class variable (0 or 1), dtype: int64"
     },
     "metadata": {},
     "output_type": "execute_result",
     "execution_count": 7
    }
   ],
   "source": [
    "# Putting response variable to y\n",
    "y = ds_bo['# 9. Class variable (0 or 1)']\n",
    "\n",
    "y.head()"
   ],
   "metadata": {
    "collapsed": false,
    "pycharm": {
     "name": "#%%\n",
     "is_executing": false
    }
   }
  },
  {
   "cell_type": "code",
   "execution_count": 8,
   "outputs": [],
   "source": [
    "# Splitting the data into train and test\n",
    "X_train, X_test, y_train, y_test = train_test_split(X, y, train_size=0.7, test_size=0.3, random_state=100)\n",
    "\n"
   ],
   "metadata": {
    "collapsed": false,
    "pycharm": {
     "name": "#%%\n",
     "is_executing": false
    }
   }
  },
  {
   "cell_type": "code",
   "execution_count": 10,
   "outputs": [
    {
     "data": {
      "text/plain": "     # 1. Number of times pregnant  \\\n155                       0.986878   \n150                      -0.850049   \n78                       -1.156204   \n9                         1.293033   \n142                      -0.543895   \n\n     # 2. Plasma glucose concentration a 2 hours in an oral glucose tolerance test  \\\n155                                           0.980154                               \n150                                           0.480807                               \n78                                            0.324761                               \n9                                             0.137506                               \n142                                          -0.393050                               \n\n     # 3. Diastolic blood pressure (mm Hg)  \\\n155                               0.963087   \n150                               0.259990   \n78                               -3.456377   \n9                                 1.364856   \n142                              -0.844875   \n\n     # 4. Triceps skin fold thickness (mm)  \\\n155                               1.525719   \n150                               1.904416   \n78                               -1.251393   \n9                                -1.251393   \n142                               0.389628   \n\n     # 5. 2-Hour serum insulin (mu U/ml)  \\\n155                            -0.652723   \n150                             1.058157   \n78                             -0.652723   \n9                              -0.652723   \n142                            -0.124363   \n\n     # 6. Body mass index (weight in kg/(height in m)^2)  \\\n155                                           2.299584     \n150                                           0.727033     \n78                                            1.450906     \n9                                            -3.940696     \n142                                           0.115486     \n\n     # 7. Diabetes pedigree function  # 8. Age (years)  \n155                        -0.365520          0.248402  \n150                        -0.178798         -0.788322  \n78                         -0.567300         -0.615535  \n9                          -0.681743          1.803488  \n142                        -0.422741         -0.961109  ",
      "text/html": "<div>\n<style scoped>\n    .dataframe tbody tr th:only-of-type {\n        vertical-align: middle;\n    }\n\n    .dataframe tbody tr th {\n        vertical-align: top;\n    }\n\n    .dataframe thead th {\n        text-align: right;\n    }\n</style>\n<table border=\"1\" class=\"dataframe\">\n  <thead>\n    <tr style=\"text-align: right;\">\n      <th></th>\n      <th># 1. Number of times pregnant</th>\n      <th># 2. Plasma glucose concentration a 2 hours in an oral glucose tolerance test</th>\n      <th># 3. Diastolic blood pressure (mm Hg)</th>\n      <th># 4. Triceps skin fold thickness (mm)</th>\n      <th># 5. 2-Hour serum insulin (mu U/ml)</th>\n      <th># 6. Body mass index (weight in kg/(height in m)^2)</th>\n      <th># 7. Diabetes pedigree function</th>\n      <th># 8. Age (years)</th>\n    </tr>\n  </thead>\n  <tbody>\n    <tr>\n      <th>155</th>\n      <td>0.986878</td>\n      <td>0.980154</td>\n      <td>0.963087</td>\n      <td>1.525719</td>\n      <td>-0.652723</td>\n      <td>2.299584</td>\n      <td>-0.365520</td>\n      <td>0.248402</td>\n    </tr>\n    <tr>\n      <th>150</th>\n      <td>-0.850049</td>\n      <td>0.480807</td>\n      <td>0.259990</td>\n      <td>1.904416</td>\n      <td>1.058157</td>\n      <td>0.727033</td>\n      <td>-0.178798</td>\n      <td>-0.788322</td>\n    </tr>\n    <tr>\n      <th>78</th>\n      <td>-1.156204</td>\n      <td>0.324761</td>\n      <td>-3.456377</td>\n      <td>-1.251393</td>\n      <td>-0.652723</td>\n      <td>1.450906</td>\n      <td>-0.567300</td>\n      <td>-0.615535</td>\n    </tr>\n    <tr>\n      <th>9</th>\n      <td>1.293033</td>\n      <td>0.137506</td>\n      <td>1.364856</td>\n      <td>-1.251393</td>\n      <td>-0.652723</td>\n      <td>-3.940696</td>\n      <td>-0.681743</td>\n      <td>1.803488</td>\n    </tr>\n    <tr>\n      <th>142</th>\n      <td>-0.543895</td>\n      <td>-0.393050</td>\n      <td>-0.844875</td>\n      <td>0.389628</td>\n      <td>-0.124363</td>\n      <td>0.115486</td>\n      <td>-0.422741</td>\n      <td>-0.961109</td>\n    </tr>\n  </tbody>\n</table>\n</div>"
     },
     "metadata": {},
     "output_type": "execute_result",
     "execution_count": 10
    }
   ],
   "source": [
    "#feature scaling\n",
    "from sklearn.preprocessing import StandardScaler\n",
    "\n",
    "scaler = StandardScaler()\n",
    "\n",
    "X_train[['# 1. Number of times pregnant','# 2. Plasma glucose concentration a 2 hours in an oral glucose tolerance test', '# 2. Plasma glucose concentration a 2 hours in an oral glucose tolerance test', '# 3. Diastolic blood pressure (mm Hg)', '# 4. Triceps skin fold thickness (mm)','# 5. 2-Hour serum insulin (mu U/ml)','# 6. Body mass index (weight in kg/(height in m)^2)','# 7. Diabetes pedigree function','# 8. Age (years)']] = scaler.fit_transform(X_train[['# 1. Number of times pregnant','# 2. Plasma glucose concentration a 2 hours in an oral glucose tolerance test', '# 2. Plasma glucose concentration a 2 hours in an oral glucose tolerance test', '# 3. Diastolic blood pressure (mm Hg)', '# 4. Triceps skin fold thickness (mm)','# 5. 2-Hour serum insulin (mu U/ml)','# 6. Body mass index (weight in kg/(height in m)^2)','# 7. Diabetes pedigree function','# 8. Age (years)']])\n",
    "\n",
    "X_train.head()\n"
   ],
   "metadata": {
    "collapsed": false,
    "pycharm": {
     "name": "#%%\n",
     "is_executing": false
    }
   }
  },
  {
   "cell_type": "code",
   "execution_count": 11,
   "outputs": [
    {
     "data": {
      "text/plain": "<class 'statsmodels.iolib.summary.Summary'>\n\"\"\"\n                      Generalized Linear Model Regression Results                       \n========================================================================================\nDep. Variable:     # 9. Class variable (0 or 1)   No. Observations:                  537\nModel:                                      GLM   Df Residuals:                      528\nModel Family:                          Binomial   Df Model:                            8\nLink Function:                            logit   Scale:                          1.0000\nMethod:                                    IRLS   Log-Likelihood:                -245.19\nDate:                          Fri, 13 Mar 2020   Deviance:                       490.37\nTime:                                  19:04:30   Pearson chi2:                     667.\nNo. Iterations:                               5                                         \nCovariance Type:                      nonrobust                                         \n=================================================================================================================================================\n                                                                                    coef    std err          z      P>|z|      [0.025      0.975]\n-------------------------------------------------------------------------------------------------------------------------------------------------\nconst                                                                            -0.9220      0.120     -7.703      0.000      -1.157      -0.687\n# 1. Number of times pregnant                                                     0.3542      0.126      2.803      0.005       0.107       0.602\n# 2. Plasma glucose concentration a 2 hours in an oral glucose tolerance test     1.1957      0.150      7.973      0.000       0.902       1.490\n# 3. Diastolic blood pressure (mm Hg)                                            -0.1916      0.122     -1.566      0.117      -0.431       0.048\n# 4. Triceps skin fold thickness (mm)                                            -0.0064      0.134     -0.048      0.962      -0.269       0.256\n# 5. 2-Hour serum insulin (mu U/ml)                                              -0.1416      0.128     -1.103      0.270      -0.393       0.110\n# 6. Body mass index (weight in kg/(height in m)^2)                               0.7626      0.147      5.197      0.000       0.475       1.050\n# 7. Diabetes pedigree function                                                   0.4577      0.122      3.758      0.000       0.219       0.696\n# 8. Age (years)                                                                  0.2342      0.129      1.809      0.070      -0.020       0.488\n=================================================================================================================================================\n\"\"\"",
      "text/html": "<table class=\"simpletable\">\n<caption>Generalized Linear Model Regression Results</caption>\n<tr>\n  <th>Dep. Variable:</th>   <td># 9. Class variable (0 or 1)</td> <th>  No. Observations:  </th>  <td>   537</td> \n</tr>\n<tr>\n  <th>Model:</th>                        <td>GLM</td>             <th>  Df Residuals:      </th>  <td>   528</td> \n</tr>\n<tr>\n  <th>Model Family:</th>              <td>Binomial</td>           <th>  Df Model:          </th>  <td>     8</td> \n</tr>\n<tr>\n  <th>Link Function:</th>               <td>logit</td>            <th>  Scale:             </th> <td>  1.0000</td>\n</tr>\n<tr>\n  <th>Method:</th>                      <td>IRLS</td>             <th>  Log-Likelihood:    </th> <td> -245.19</td>\n</tr>\n<tr>\n  <th>Date:</th>                  <td>Fri, 13 Mar 2020</td>       <th>  Deviance:          </th> <td>  490.37</td>\n</tr>\n<tr>\n  <th>Time:</th>                      <td>19:04:30</td>           <th>  Pearson chi2:      </th>  <td>  667.</td> \n</tr>\n<tr>\n  <th>No. Iterations:</th>                <td>5</td>              <th>                     </th>     <td> </td>   \n</tr>\n<tr>\n  <th>Covariance Type:</th>           <td>nonrobust</td>          <th>                     </th>     <td> </td>   \n</tr>\n</table>\n<table class=\"simpletable\">\n<tr>\n                                        <td></td>                                           <th>coef</th>     <th>std err</th>      <th>z</th>      <th>P>|z|</th>  <th>[0.025</th>    <th>0.975]</th>  \n</tr>\n<tr>\n  <th>const</th>                                                                         <td>   -0.9220</td> <td>    0.120</td> <td>   -7.703</td> <td> 0.000</td> <td>   -1.157</td> <td>   -0.687</td>\n</tr>\n<tr>\n  <th># 1. Number of times pregnant</th>                                                 <td>    0.3542</td> <td>    0.126</td> <td>    2.803</td> <td> 0.005</td> <td>    0.107</td> <td>    0.602</td>\n</tr>\n<tr>\n  <th># 2. Plasma glucose concentration a 2 hours in an oral glucose tolerance test</th> <td>    1.1957</td> <td>    0.150</td> <td>    7.973</td> <td> 0.000</td> <td>    0.902</td> <td>    1.490</td>\n</tr>\n<tr>\n  <th># 3. Diastolic blood pressure (mm Hg)</th>                                         <td>   -0.1916</td> <td>    0.122</td> <td>   -1.566</td> <td> 0.117</td> <td>   -0.431</td> <td>    0.048</td>\n</tr>\n<tr>\n  <th># 4. Triceps skin fold thickness (mm)</th>                                         <td>   -0.0064</td> <td>    0.134</td> <td>   -0.048</td> <td> 0.962</td> <td>   -0.269</td> <td>    0.256</td>\n</tr>\n<tr>\n  <th># 5. 2-Hour serum insulin (mu U/ml)</th>                                           <td>   -0.1416</td> <td>    0.128</td> <td>   -1.103</td> <td> 0.270</td> <td>   -0.393</td> <td>    0.110</td>\n</tr>\n<tr>\n  <th># 6. Body mass index (weight in kg/(height in m)^2)</th>                           <td>    0.7626</td> <td>    0.147</td> <td>    5.197</td> <td> 0.000</td> <td>    0.475</td> <td>    1.050</td>\n</tr>\n<tr>\n  <th># 7. Diabetes pedigree function</th>                                               <td>    0.4577</td> <td>    0.122</td> <td>    3.758</td> <td> 0.000</td> <td>    0.219</td> <td>    0.696</td>\n</tr>\n<tr>\n  <th># 8. Age (years)</th>                                                              <td>    0.2342</td> <td>    0.129</td> <td>    1.809</td> <td> 0.070</td> <td>   -0.020</td> <td>    0.488</td>\n</tr>\n</table>"
     },
     "metadata": {},
     "output_type": "execute_result",
     "execution_count": 11
    }
   ],
   "source": [
    "import statsmodels.api as sm\n",
    "\n",
    "# Logistic regression model\n",
    "logm1 = sm.GLM(y_train,(sm.add_constant(X_train)), family = sm.families.Binomial())\n",
    "logm1.fit().summary()\n",
    "\t\t\t\t\t\t\n"
   ],
   "metadata": {
    "collapsed": false,
    "pycharm": {
     "name": "#%%\n",
     "is_executing": false
    }
   }
  },
  {
   "cell_type": "code",
   "execution_count": 12,
   "outputs": [],
   "source": [
    "#Feature Selection Using RFE\n",
    "from sklearn.linear_model import LogisticRegression\n",
    "logreg = LogisticRegression()\n",
    "\n",
    "from sklearn.feature_selection import RFE\n",
    "rfe = RFE(logreg, 15)             # running RFE with 15 variables as output\n",
    "rfe = rfe.fit(X_train, y_train)\n"
   ],
   "metadata": {
    "collapsed": false,
    "pycharm": {
     "name": "#%%\n",
     "is_executing": false
    }
   }
  },
  {
   "cell_type": "code",
   "execution_count": 13,
   "outputs": [
    {
     "data": {
      "text/plain": "array([ True,  True,  True,  True,  True,  True,  True,  True])"
     },
     "metadata": {},
     "output_type": "execute_result",
     "execution_count": 13
    }
   ],
   "source": [
    "rfe.support_"
   ],
   "metadata": {
    "collapsed": false,
    "pycharm": {
     "name": "#%%\n",
     "is_executing": false
    }
   }
  },
  {
   "cell_type": "code",
   "execution_count": 14,
   "outputs": [
    {
     "data": {
      "text/plain": "[('# 1. Number of times pregnant', True, 1),\n ('# 2. Plasma glucose concentration a 2 hours in an oral glucose tolerance test',\n  True,\n  1),\n ('# 3. Diastolic blood pressure (mm Hg)', True, 1),\n ('# 4. Triceps skin fold thickness (mm)', True, 1),\n ('# 5. 2-Hour serum insulin (mu U/ml)', True, 1),\n ('# 6. Body mass index (weight in kg/(height in m)^2)', True, 1),\n ('# 7. Diabetes pedigree function', True, 1),\n ('# 8. Age (years)', True, 1)]"
     },
     "metadata": {},
     "output_type": "execute_result",
     "execution_count": 14
    }
   ],
   "source": [
    "list(zip(X_train.columns, rfe.support_, rfe.ranking_))"
   ],
   "metadata": {
    "collapsed": false,
    "pycharm": {
     "name": "#%%\n",
     "is_executing": false
    }
   }
  },
  {
   "cell_type": "code",
   "execution_count": 15,
   "outputs": [
    {
     "data": {
      "text/plain": "Index(['# 1. Number of times pregnant',\n       '# 2. Plasma glucose concentration a 2 hours in an oral glucose tolerance test',\n       '# 3. Diastolic blood pressure (mm Hg)',\n       '# 4. Triceps skin fold thickness (mm)',\n       '# 5. 2-Hour serum insulin (mu U/ml)',\n       '# 6. Body mass index (weight in kg/(height in m)^2)',\n       '# 7. Diabetes pedigree function', '# 8. Age (years)'],\n      dtype='object')"
     },
     "metadata": {},
     "output_type": "execute_result",
     "execution_count": 15
    }
   ],
   "source": [
    "col = X_train.columns[rfe.support_]\n",
    "col\n"
   ],
   "metadata": {
    "collapsed": false,
    "pycharm": {
     "name": "#%%\n",
     "is_executing": false
    }
   }
  },
  {
   "cell_type": "code",
   "execution_count": 16,
   "outputs": [
    {
     "data": {
      "text/plain": "Index([], dtype='object')"
     },
     "metadata": {},
     "output_type": "execute_result",
     "execution_count": 16
    }
   ],
   "source": [
    "X_train.columns[~rfe.support_]"
   ],
   "metadata": {
    "collapsed": false,
    "pycharm": {
     "name": "#%%\n",
     "is_executing": false
    }
   }
  },
  {
   "cell_type": "code",
   "execution_count": 17,
   "outputs": [
    {
     "data": {
      "text/plain": "<class 'statsmodels.iolib.summary.Summary'>\n\"\"\"\n                      Generalized Linear Model Regression Results                       \n========================================================================================\nDep. Variable:     # 9. Class variable (0 or 1)   No. Observations:                  537\nModel:                                      GLM   Df Residuals:                      528\nModel Family:                          Binomial   Df Model:                            8\nLink Function:                            logit   Scale:                          1.0000\nMethod:                                    IRLS   Log-Likelihood:                -245.19\nDate:                          Fri, 13 Mar 2020   Deviance:                       490.37\nTime:                                  19:05:45   Pearson chi2:                     667.\nNo. Iterations:                               5                                         \nCovariance Type:                      nonrobust                                         \n=================================================================================================================================================\n                                                                                    coef    std err          z      P>|z|      [0.025      0.975]\n-------------------------------------------------------------------------------------------------------------------------------------------------\nconst                                                                            -0.9220      0.120     -7.703      0.000      -1.157      -0.687\n# 1. Number of times pregnant                                                     0.3542      0.126      2.803      0.005       0.107       0.602\n# 2. Plasma glucose concentration a 2 hours in an oral glucose tolerance test     1.1957      0.150      7.973      0.000       0.902       1.490\n# 3. Diastolic blood pressure (mm Hg)                                            -0.1916      0.122     -1.566      0.117      -0.431       0.048\n# 4. Triceps skin fold thickness (mm)                                            -0.0064      0.134     -0.048      0.962      -0.269       0.256\n# 5. 2-Hour serum insulin (mu U/ml)                                              -0.1416      0.128     -1.103      0.270      -0.393       0.110\n# 6. Body mass index (weight in kg/(height in m)^2)                               0.7626      0.147      5.197      0.000       0.475       1.050\n# 7. Diabetes pedigree function                                                   0.4577      0.122      3.758      0.000       0.219       0.696\n# 8. Age (years)                                                                  0.2342      0.129      1.809      0.070      -0.020       0.488\n=================================================================================================================================================\n\"\"\"",
      "text/html": "<table class=\"simpletable\">\n<caption>Generalized Linear Model Regression Results</caption>\n<tr>\n  <th>Dep. Variable:</th>   <td># 9. Class variable (0 or 1)</td> <th>  No. Observations:  </th>  <td>   537</td> \n</tr>\n<tr>\n  <th>Model:</th>                        <td>GLM</td>             <th>  Df Residuals:      </th>  <td>   528</td> \n</tr>\n<tr>\n  <th>Model Family:</th>              <td>Binomial</td>           <th>  Df Model:          </th>  <td>     8</td> \n</tr>\n<tr>\n  <th>Link Function:</th>               <td>logit</td>            <th>  Scale:             </th> <td>  1.0000</td>\n</tr>\n<tr>\n  <th>Method:</th>                      <td>IRLS</td>             <th>  Log-Likelihood:    </th> <td> -245.19</td>\n</tr>\n<tr>\n  <th>Date:</th>                  <td>Fri, 13 Mar 2020</td>       <th>  Deviance:          </th> <td>  490.37</td>\n</tr>\n<tr>\n  <th>Time:</th>                      <td>19:05:45</td>           <th>  Pearson chi2:      </th>  <td>  667.</td> \n</tr>\n<tr>\n  <th>No. Iterations:</th>                <td>5</td>              <th>                     </th>     <td> </td>   \n</tr>\n<tr>\n  <th>Covariance Type:</th>           <td>nonrobust</td>          <th>                     </th>     <td> </td>   \n</tr>\n</table>\n<table class=\"simpletable\">\n<tr>\n                                        <td></td>                                           <th>coef</th>     <th>std err</th>      <th>z</th>      <th>P>|z|</th>  <th>[0.025</th>    <th>0.975]</th>  \n</tr>\n<tr>\n  <th>const</th>                                                                         <td>   -0.9220</td> <td>    0.120</td> <td>   -7.703</td> <td> 0.000</td> <td>   -1.157</td> <td>   -0.687</td>\n</tr>\n<tr>\n  <th># 1. Number of times pregnant</th>                                                 <td>    0.3542</td> <td>    0.126</td> <td>    2.803</td> <td> 0.005</td> <td>    0.107</td> <td>    0.602</td>\n</tr>\n<tr>\n  <th># 2. Plasma glucose concentration a 2 hours in an oral glucose tolerance test</th> <td>    1.1957</td> <td>    0.150</td> <td>    7.973</td> <td> 0.000</td> <td>    0.902</td> <td>    1.490</td>\n</tr>\n<tr>\n  <th># 3. Diastolic blood pressure (mm Hg)</th>                                         <td>   -0.1916</td> <td>    0.122</td> <td>   -1.566</td> <td> 0.117</td> <td>   -0.431</td> <td>    0.048</td>\n</tr>\n<tr>\n  <th># 4. Triceps skin fold thickness (mm)</th>                                         <td>   -0.0064</td> <td>    0.134</td> <td>   -0.048</td> <td> 0.962</td> <td>   -0.269</td> <td>    0.256</td>\n</tr>\n<tr>\n  <th># 5. 2-Hour serum insulin (mu U/ml)</th>                                           <td>   -0.1416</td> <td>    0.128</td> <td>   -1.103</td> <td> 0.270</td> <td>   -0.393</td> <td>    0.110</td>\n</tr>\n<tr>\n  <th># 6. Body mass index (weight in kg/(height in m)^2)</th>                           <td>    0.7626</td> <td>    0.147</td> <td>    5.197</td> <td> 0.000</td> <td>    0.475</td> <td>    1.050</td>\n</tr>\n<tr>\n  <th># 7. Diabetes pedigree function</th>                                               <td>    0.4577</td> <td>    0.122</td> <td>    3.758</td> <td> 0.000</td> <td>    0.219</td> <td>    0.696</td>\n</tr>\n<tr>\n  <th># 8. Age (years)</th>                                                              <td>    0.2342</td> <td>    0.129</td> <td>    1.809</td> <td> 0.070</td> <td>   -0.020</td> <td>    0.488</td>\n</tr>\n</table>"
     },
     "metadata": {},
     "output_type": "execute_result",
     "execution_count": 17
    }
   ],
   "source": [
    "#Assessing the model with StatsModels\n",
    "X_train_sm = sm.add_constant(X_train[col])\n",
    "logm2 = sm.GLM(y_train,X_train_sm, family = sm.families.Binomial())\n",
    "res = logm2.fit()\n",
    "res.summary()\n"
   ],
   "metadata": {
    "collapsed": false,
    "pycharm": {
     "name": "#%%\n",
     "is_executing": false
    }
   }
  },
  {
   "cell_type": "code",
   "execution_count": 18,
   "outputs": [
    {
     "data": {
      "text/plain": "155    0.894943\n150    0.360796\n78     0.627636\n9      0.033715\n142    0.149560\n321    0.140571\n580    0.578690\n75     0.001171\n29     0.294358\n169    0.130098\ndtype: float64"
     },
     "metadata": {},
     "output_type": "execute_result",
     "execution_count": 18
    }
   ],
   "source": [
    "# Getting the predicted values on the train set\n",
    "y_train_pred = res.predict(X_train_sm)\n",
    "y_train_pred[:10]\n"
   ],
   "metadata": {
    "collapsed": false,
    "pycharm": {
     "name": "#%%\n",
     "is_executing": false
    }
   }
  },
  {
   "cell_type": "code",
   "execution_count": 19,
   "outputs": [
    {
     "data": {
      "text/plain": "array([0.89494309, 0.36079604, 0.62763562, 0.03371468, 0.14956036,\n       0.14057146, 0.57868998, 0.00117109, 0.29435842, 0.13009781])"
     },
     "metadata": {},
     "output_type": "execute_result",
     "execution_count": 19
    }
   ],
   "source": [
    "y_train_pred = y_train_pred.values.reshape(-1)\n",
    "y_train_pred[:10]\n"
   ],
   "metadata": {
    "collapsed": false,
    "pycharm": {
     "name": "#%%\n",
     "is_executing": false
    }
   }
  },
  {
   "cell_type": "code",
   "execution_count": 20,
   "outputs": [
    {
     "data": {
      "text/plain": "   Converted  Converted_prob  Prospect ID\n0          1        0.894943          155\n1          0        0.360796          150\n2          1        0.627636           78\n3          1        0.033715            9\n4          0        0.149560          142",
      "text/html": "<div>\n<style scoped>\n    .dataframe tbody tr th:only-of-type {\n        vertical-align: middle;\n    }\n\n    .dataframe tbody tr th {\n        vertical-align: top;\n    }\n\n    .dataframe thead th {\n        text-align: right;\n    }\n</style>\n<table border=\"1\" class=\"dataframe\">\n  <thead>\n    <tr style=\"text-align: right;\">\n      <th></th>\n      <th>Converted</th>\n      <th>Converted_prob</th>\n      <th>Prospect ID</th>\n    </tr>\n  </thead>\n  <tbody>\n    <tr>\n      <th>0</th>\n      <td>1</td>\n      <td>0.894943</td>\n      <td>155</td>\n    </tr>\n    <tr>\n      <th>1</th>\n      <td>0</td>\n      <td>0.360796</td>\n      <td>150</td>\n    </tr>\n    <tr>\n      <th>2</th>\n      <td>1</td>\n      <td>0.627636</td>\n      <td>78</td>\n    </tr>\n    <tr>\n      <th>3</th>\n      <td>1</td>\n      <td>0.033715</td>\n      <td>9</td>\n    </tr>\n    <tr>\n      <th>4</th>\n      <td>0</td>\n      <td>0.149560</td>\n      <td>142</td>\n    </tr>\n  </tbody>\n</table>\n</div>"
     },
     "metadata": {},
     "output_type": "execute_result",
     "execution_count": 20
    }
   ],
   "source": [
    "#Creating a dataframe with the actual churn flag and the predicted probabilities\n",
    "y_train_pred_final = pd.DataFrame({'Converted':y_train.values, 'Converted_prob':y_train_pred})\n",
    "y_train_pred_final['Prospect ID'] = y_train.index\n",
    "y_train_pred_final.head()\n"
   ],
   "metadata": {
    "collapsed": false,
    "pycharm": {
     "name": "#%%\n",
     "is_executing": false
    }
   }
  },
  {
   "cell_type": "code",
   "execution_count": 21,
   "outputs": [
    {
     "data": {
      "text/plain": "   Converted  Converted_prob  Prospect ID  predicted\n0          1        0.894943          155          1\n1          0        0.360796          150          0\n2          1        0.627636           78          1\n3          1        0.033715            9          0\n4          0        0.149560          142          0",
      "text/html": "<div>\n<style scoped>\n    .dataframe tbody tr th:only-of-type {\n        vertical-align: middle;\n    }\n\n    .dataframe tbody tr th {\n        vertical-align: top;\n    }\n\n    .dataframe thead th {\n        text-align: right;\n    }\n</style>\n<table border=\"1\" class=\"dataframe\">\n  <thead>\n    <tr style=\"text-align: right;\">\n      <th></th>\n      <th>Converted</th>\n      <th>Converted_prob</th>\n      <th>Prospect ID</th>\n      <th>predicted</th>\n    </tr>\n  </thead>\n  <tbody>\n    <tr>\n      <th>0</th>\n      <td>1</td>\n      <td>0.894943</td>\n      <td>155</td>\n      <td>1</td>\n    </tr>\n    <tr>\n      <th>1</th>\n      <td>0</td>\n      <td>0.360796</td>\n      <td>150</td>\n      <td>0</td>\n    </tr>\n    <tr>\n      <th>2</th>\n      <td>1</td>\n      <td>0.627636</td>\n      <td>78</td>\n      <td>1</td>\n    </tr>\n    <tr>\n      <th>3</th>\n      <td>1</td>\n      <td>0.033715</td>\n      <td>9</td>\n      <td>0</td>\n    </tr>\n    <tr>\n      <th>4</th>\n      <td>0</td>\n      <td>0.149560</td>\n      <td>142</td>\n      <td>0</td>\n    </tr>\n  </tbody>\n</table>\n</div>"
     },
     "metadata": {},
     "output_type": "execute_result",
     "execution_count": 21
    }
   ],
   "source": [
    "#Creating new column 'predicted' with 1 if Churn_Prob > 0.5 else 0\n",
    "y_train_pred_final['predicted'] = y_train_pred_final.Converted_prob.map(lambda x: 1 if x > 0.5 else 0)\n",
    "\n",
    "# Let's see the head\n",
    "y_train_pred_final.head()"
   ],
   "metadata": {
    "collapsed": false,
    "pycharm": {
     "name": "#%%\n",
     "is_executing": false
    }
   }
  },
  {
   "cell_type": "code",
   "execution_count": 22,
   "outputs": [
    {
     "name": "stdout",
     "text": [
      "[[314  36]\n",
      " [ 74 113]]\n"
     ],
     "output_type": "stream"
    }
   ],
   "source": [
    "from sklearn import metrics\n",
    "\n",
    "# Confusion matrix \n",
    "confusion = metrics.confusion_matrix(y_train_pred_final.Converted, y_train_pred_final.predicted )\n",
    "print(confusion)\n"
   ],
   "metadata": {
    "collapsed": false,
    "pycharm": {
     "name": "#%%\n",
     "is_executing": false
    }
   }
  },
  {
   "cell_type": "code",
   "execution_count": 23,
   "outputs": [
    {
     "name": "stdout",
     "text": [
      "0.7951582867783985\n"
     ],
     "output_type": "stream"
    }
   ],
   "source": [
    "# Let's check the overall accuracy.\n",
    "print(metrics.accuracy_score(y_train_pred_final.Converted, y_train_pred_final.predicted))\n"
   ],
   "metadata": {
    "collapsed": false,
    "pycharm": {
     "name": "#%%\n",
     "is_executing": false
    }
   }
  },
  {
   "cell_type": "code",
   "execution_count": 24,
   "outputs": [
    {
     "data": {
      "text/plain": "                                            Features   VIF\n3              # 4. Triceps skin fold thickness (mm)  1.58\n7                                   # 8. Age (years)  1.52\n4                # 5. 2-Hour serum insulin (mu U/ml)  1.46\n0                      # 1. Number of times pregnant  1.40\n1  # 2. Plasma glucose concentration a 2 hours in...  1.32\n5  # 6. Body mass index (weight in kg/(height in ...  1.31\n2              # 3. Diastolic blood pressure (mm Hg)  1.22\n6                    # 7. Diabetes pedigree function  1.05",
      "text/html": "<div>\n<style scoped>\n    .dataframe tbody tr th:only-of-type {\n        vertical-align: middle;\n    }\n\n    .dataframe tbody tr th {\n        vertical-align: top;\n    }\n\n    .dataframe thead th {\n        text-align: right;\n    }\n</style>\n<table border=\"1\" class=\"dataframe\">\n  <thead>\n    <tr style=\"text-align: right;\">\n      <th></th>\n      <th>Features</th>\n      <th>VIF</th>\n    </tr>\n  </thead>\n  <tbody>\n    <tr>\n      <th>3</th>\n      <td># 4. Triceps skin fold thickness (mm)</td>\n      <td>1.58</td>\n    </tr>\n    <tr>\n      <th>7</th>\n      <td># 8. Age (years)</td>\n      <td>1.52</td>\n    </tr>\n    <tr>\n      <th>4</th>\n      <td># 5. 2-Hour serum insulin (mu U/ml)</td>\n      <td>1.46</td>\n    </tr>\n    <tr>\n      <th>0</th>\n      <td># 1. Number of times pregnant</td>\n      <td>1.40</td>\n    </tr>\n    <tr>\n      <th>1</th>\n      <td># 2. Plasma glucose concentration a 2 hours in...</td>\n      <td>1.32</td>\n    </tr>\n    <tr>\n      <th>5</th>\n      <td># 6. Body mass index (weight in kg/(height in ...</td>\n      <td>1.31</td>\n    </tr>\n    <tr>\n      <th>2</th>\n      <td># 3. Diastolic blood pressure (mm Hg)</td>\n      <td>1.22</td>\n    </tr>\n    <tr>\n      <th>6</th>\n      <td># 7. Diabetes pedigree function</td>\n      <td>1.05</td>\n    </tr>\n  </tbody>\n</table>\n</div>"
     },
     "metadata": {},
     "output_type": "execute_result",
     "execution_count": 24
    }
   ],
   "source": [
    "from statsmodels.stats.outliers_influence import variance_inflation_factor\n",
    "\n",
    "# Create a dataframe that will contain the names of all the feature variables and their respective VIFs\n",
    "vif = pd.DataFrame()\n",
    "vif['Features'] = X_train[col].columns\n",
    "vif['VIF'] = [variance_inflation_factor(X_train[col].values, i) for i in range(X_train[col].shape[1])]\n",
    "vif['VIF'] = round(vif['VIF'], 2)\n",
    "vif = vif.sort_values(by = \"VIF\", ascending = False)\n",
    "vif\n"
   ],
   "metadata": {
    "collapsed": false,
    "pycharm": {
     "name": "#%%\n",
     "is_executing": false
    }
   }
  },
  {
   "cell_type": "code",
   "execution_count": 25,
   "outputs": [],
   "source": [
    "TP = confusion[1,1] # true positive \n",
    "TN = confusion[0,0] # true negatives\n",
    "FP = confusion[0,1] # false positives\n",
    "FN = confusion[1,0] # false negatives"
   ],
   "metadata": {
    "collapsed": false,
    "pycharm": {
     "name": "#%%\n",
     "is_executing": false
    }
   }
  },
  {
   "cell_type": "code",
   "execution_count": 26,
   "outputs": [
    {
     "data": {
      "text/plain": "0.6042780748663101"
     },
     "metadata": {},
     "output_type": "execute_result",
     "execution_count": 26
    }
   ],
   "source": [
    "TP / float(TP+FN)"
   ],
   "metadata": {
    "collapsed": false,
    "pycharm": {
     "name": "#%%\n",
     "is_executing": false
    }
   }
  },
  {
   "cell_type": "code",
   "execution_count": 27,
   "outputs": [
    {
     "data": {
      "text/plain": "0.8971428571428571"
     },
     "metadata": {},
     "output_type": "execute_result",
     "execution_count": 27
    }
   ],
   "source": [
    "# Let us calculate specificity\n",
    "TN / float(TN+FP)"
   ],
   "metadata": {
    "collapsed": false,
    "pycharm": {
     "name": "#%%\n",
     "is_executing": false
    }
   }
  },
  {
   "cell_type": "code",
   "execution_count": 28,
   "outputs": [
    {
     "name": "stdout",
     "text": [
      "0.10285714285714286\n"
     ],
     "output_type": "stream"
    }
   ],
   "source": [
    "# Calculate false postive rate - predicting churn when customer does not have churned\n",
    "print(FP/ float(TN+FP))\n"
   ],
   "metadata": {
    "collapsed": false,
    "pycharm": {
     "name": "#%%\n",
     "is_executing": false
    }
   }
  },
  {
   "cell_type": "code",
   "execution_count": 29,
   "outputs": [
    {
     "name": "stdout",
     "text": [
      "0.7583892617449665\n"
     ],
     "output_type": "stream"
    }
   ],
   "source": [
    "# positive predictive value \n",
    "print (TP / float(TP+FP))\n"
   ],
   "metadata": {
    "collapsed": false,
    "pycharm": {
     "name": "#%%\n",
     "is_executing": false
    }
   }
  },
  {
   "cell_type": "code",
   "execution_count": 30,
   "outputs": [
    {
     "name": "stdout",
     "text": [
      "0.8092783505154639\n"
     ],
     "output_type": "stream"
    }
   ],
   "source": [
    "\n",
    "# Negative predictive value\n",
    "print (TN / float(TN+ FN))\n"
   ],
   "metadata": {
    "collapsed": false,
    "pycharm": {
     "name": "#%%\n",
     "is_executing": false
    }
   }
  },
  {
   "cell_type": "code",
   "execution_count": 31,
   "outputs": [],
   "source": [
    "#ROC Curve\n",
    "def draw_roc( actual, probs ):\n",
    "    fpr, tpr, thresholds = metrics.roc_curve( actual, probs,\n",
    "                                              drop_intermediate = False )\n",
    "    auc_score = metrics.roc_auc_score( actual, probs )\n",
    "    plt.figure(figsize=(5, 5))\n",
    "    plt.plot( fpr, tpr, label='ROC curve (area = %0.2f)' % auc_score )\n",
    "    plt.plot([0, 1], [0, 1], 'k--')\n",
    "    plt.xlim([0.0, 1.0])\n",
    "    plt.ylim([0.0, 1.05])\n",
    "    plt.xlabel('False Positive Rate or [1 - True Negative Rate]')\n",
    "    plt.ylabel('True Positive Rate')\n",
    "    plt.title('Receiver operating characteristic example')\n",
    "    plt.legend(loc=\"lower right\")\n",
    "    plt.show()\n",
    "\n",
    "    return None\n"
   ],
   "metadata": {
    "collapsed": false,
    "pycharm": {
     "name": "#%%\n",
     "is_executing": false
    }
   }
  },
  {
   "cell_type": "code",
   "execution_count": 32,
   "outputs": [],
   "source": [
    "fpr, tpr, thresholds = metrics.roc_curve( y_train_pred_final.Converted, y_train_pred_final.Converted_prob, drop_intermediate = False )\n"
   ],
   "metadata": {
    "collapsed": false,
    "pycharm": {
     "name": "#%%\n",
     "is_executing": false
    }
   }
  },
  {
   "cell_type": "code",
   "execution_count": 34,
   "outputs": [
    {
     "data": {
      "text/plain": "<Figure size 360x360 with 1 Axes>",
      "image/png": "[encoded data removed]"
     },
     "metadata": {
      "needs_background": "light"
     },
     "output_type": "display_data"
    }
   ],
   "source": [
    "draw_roc(y_train_pred_final.Converted, y_train_pred_final.Converted_prob)"
   ],
   "metadata": {
    "collapsed": false,
    "pycharm": {
     "name": "#%%\n",
     "is_executing": false
    }
   }
  },
  {
   "cell_type": "code",
   "execution_count": null,
   "outputs": [],
   "source": [
    "\n"
   ],
   "metadata": {
    "collapsed": false,
    "pycharm": {
     "name": "#%%\n"
    }
   }
  }
 ],
 "metadata": {
  "kernelspec": {
   "display_name": "Python 3",
   "language": "python",
   "name": "python3"
  },
  "language_info": {
   "codemirror_mode": {
    "name": "ipython",
    "version": 2
   },
   "file_extension": ".py",
   "mimetype": "text/x-python",
   "name": "python",
   "nbconvert_exporter": "python",
   "pygments_lexer": "ipython2",
   "version": "2.7.6"
  },
  "pycharm": {
   "stem_cell": {
    "cell_type": "raw",
    "source": [],
    "metadata": {
     "collapsed": false
    }
   }
  }
 },
 "nbformat": 4,
 "nbformat_minor": 0
}